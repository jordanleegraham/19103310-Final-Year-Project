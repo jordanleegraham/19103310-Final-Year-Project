{
 "cells": [
  {
   "cell_type": "markdown",
   "id": "e1059938",
   "metadata": {},
   "source": [
    "# Setup"
   ]
  },
  {
   "cell_type": "code",
   "execution_count": 778,
   "id": "5d2770ff",
   "metadata": {},
   "outputs": [
    {
     "name": "stderr",
     "output_type": "stream",
     "text": [
      "[nltk_data] Downloading package wordnet to\n",
      "[nltk_data]     C:\\Users\\jorda\\AppData\\Roaming\\nltk_data...\n",
      "[nltk_data]   Package wordnet is already up-to-date!\n",
      "[nltk_data] Downloading package punkt to\n",
      "[nltk_data]     C:\\Users\\jorda\\AppData\\Roaming\\nltk_data...\n",
      "[nltk_data]   Package punkt is already up-to-date!\n"
     ]
    },
    {
     "name": "stdout",
     "output_type": "stream",
     "text": [
      "Collecting package metadata (current_repodata.json): ...working... done\n",
      "Solving environment: ...working... done\n",
      "\n",
      "# All requested packages already installed.\n",
      "\n"
     ]
    }
   ],
   "source": [
    "# imports\n",
    "import pandas as pd # for using pandas data frames\n",
    "import numpy as np # for converting numpy array to data frame\n",
    "\n",
    "from nltk.corpus import stopwords # stopwords dictionary import\n",
    "import nltk\n",
    "nltk.download('wordnet')\n",
    "nltk.download('punkt')\n",
    "\n",
    "# imports for graphs and plotting\n",
    "import itertools\n",
    "import collections\n",
    "import matplotlib.pyplot as plt\n",
    "import seaborn as sns\n",
    "\n",
    "# import for TF-IDF vectorizer\n",
    "import sys\n",
    "!conda install --yes --prefix {sys.prefix} scikit-learn\n",
    "from sklearn.feature_extraction.text import TfidfVectorizer"
   ]
  },
  {
   "cell_type": "code",
   "execution_count": 779,
   "id": "d5b63352",
   "metadata": {},
   "outputs": [
    {
     "name": "stdout",
     "output_type": "stream",
     "text": [
      "            airline  overall               author   review_date  \\\n",
      "1  Turkish Airlines      7.0  Christopher Hackley  8th May 2019   \n",
      "2               NaN      NaN                  NaN           NaN   \n",
      "3  Turkish Airlines      2.0        Adriana Pisoi  7th May 2019   \n",
      "4               NaN      NaN                  NaN           NaN   \n",
      "5  Turkish Airlines      3.0            M Galerko  7th May 2019   \n",
      "6               NaN      NaN                  NaN           NaN   \n",
      "7  Turkish Airlines     10.0          Zeshan Shah  6th May 2019   \n",
      "8               NaN      NaN                  NaN           NaN   \n",
      "9  Turkish Airlines      1.0           Pooja Jain  6th May 2019   \n",
      "\n",
      "                                     customer_review aircraft  traveller_type  \\\n",
      "1  ✅ Trip Verified | London to Izmir via Istanbul...      NaN        Business   \n",
      "2                                                NaN      NaN             NaN   \n",
      "3  ✅ Trip Verified | Istanbul to Bucharest. We ma...      NaN  Family Leisure   \n",
      "4                                                NaN      NaN             NaN   \n",
      "5  ✅ Trip Verified | Rome to Prishtina via Istanb...      NaN        Business   \n",
      "6                                                NaN      NaN             NaN   \n",
      "7  ✅ Trip Verified | Flew on Turkish Airlines IAD...     A330    Solo Leisure   \n",
      "8                                                NaN      NaN             NaN   \n",
      "9  ✅ Trip Verified | Mumbai to Dublin via Istanbu...      NaN    Solo Leisure   \n",
      "\n",
      "           cabin                           route  date_flown  seat_comfort  \\\n",
      "1  Economy Class    London to Izmir via Istanbul      May-19           4.0   \n",
      "2            NaN                             NaN         NaN           NaN   \n",
      "3  Economy Class           Istanbul to Bucharest      May-19           4.0   \n",
      "4            NaN                             NaN         NaN           NaN   \n",
      "5  Economy Class  Rome to Prishtina via Istanbul      May-19           1.0   \n",
      "6            NaN                             NaN         NaN           NaN   \n",
      "7  Economy Class    Washington Dulles to Karachi  April 2019           4.0   \n",
      "8            NaN                             NaN         NaN           NaN   \n",
      "9  Economy Class   Mumbai to Dublin via Istanbul      May-19           1.0   \n",
      "\n",
      "   cabin_service  food_bev  entertainment  ground_service  value_for_money  \\\n",
      "1            5.0       4.0            4.0             2.0              4.0   \n",
      "2            NaN       NaN            NaN             NaN              NaN   \n",
      "3            1.0       1.0            1.0             1.0              1.0   \n",
      "4            NaN       NaN            NaN             NaN              NaN   \n",
      "5            4.0       1.0            3.0             1.0              2.0   \n",
      "6            NaN       NaN            NaN             NaN              NaN   \n",
      "7            5.0       5.0            5.0             5.0              5.0   \n",
      "8            NaN       NaN            NaN             NaN              NaN   \n",
      "9            1.0       1.0            1.0             1.0              1.0   \n",
      "\n",
      "  recommended  \n",
      "1         yes  \n",
      "2         NaN  \n",
      "3          no  \n",
      "4         NaN  \n",
      "5          no  \n",
      "6         NaN  \n",
      "7         yes  \n",
      "8         NaN  \n",
      "9          no  \n"
     ]
    }
   ],
   "source": [
    "# reading from csv data file as pandas data frame\n",
    "df = pd.read_csv(r'C:\\BSHC4_Workspace\\Software Project 4\\\\capstone_airline_reviews3.csv')\n",
    "\n",
    "# checking the data (rows 1-10)\n",
    "print(df[1:10])"
   ]
  },
  {
   "cell_type": "markdown",
   "id": "23f7aae9",
   "metadata": {},
   "source": [
    "# Data Exploration\n",
    "#### From the output of the first 10 rows of data within the data frame I can see that every second row or so, is filled with 'NaN' values. I want to remove these rows and get an idea of the actual amount of reviews I have to work with. I will also look for other features such as the length of customer reviews."
   ]
  },
  {
   "cell_type": "code",
   "execution_count": 780,
   "id": "85223a8f",
   "metadata": {},
   "outputs": [],
   "source": [
    "# creating a data frame from raw data with 17 headings\n",
    "data_frame = pd.DataFrame(np.array(df), columns = ['airline', 'overall', 'author', 'review_date', 'customer_review', 'aircraft', 'traveller_type', 'cabin', 'route', 'date_flown', 'seat_comfort', 'cabin_service', 'food_bev', 'entertainment', 'ground_service', 'value_for_money', 'recommended'])"
   ]
  },
  {
   "cell_type": "code",
   "execution_count": 781,
   "id": "88cf68c9",
   "metadata": {},
   "outputs": [
    {
     "data": {
      "text/html": [
       "<div>\n",
       "<style scoped>\n",
       "    .dataframe tbody tr th:only-of-type {\n",
       "        vertical-align: middle;\n",
       "    }\n",
       "\n",
       "    .dataframe tbody tr th {\n",
       "        vertical-align: top;\n",
       "    }\n",
       "\n",
       "    .dataframe thead th {\n",
       "        text-align: right;\n",
       "    }\n",
       "</style>\n",
       "<table border=\"1\" class=\"dataframe\">\n",
       "  <thead>\n",
       "    <tr style=\"text-align: right;\">\n",
       "      <th></th>\n",
       "      <th>airline</th>\n",
       "      <th>overall</th>\n",
       "      <th>author</th>\n",
       "      <th>review_date</th>\n",
       "      <th>customer_review</th>\n",
       "      <th>aircraft</th>\n",
       "      <th>traveller_type</th>\n",
       "      <th>cabin</th>\n",
       "      <th>route</th>\n",
       "      <th>date_flown</th>\n",
       "      <th>seat_comfort</th>\n",
       "      <th>cabin_service</th>\n",
       "      <th>food_bev</th>\n",
       "      <th>entertainment</th>\n",
       "      <th>ground_service</th>\n",
       "      <th>value_for_money</th>\n",
       "      <th>recommended</th>\n",
       "    </tr>\n",
       "  </thead>\n",
       "  <tbody>\n",
       "    <tr>\n",
       "      <th>0</th>\n",
       "      <td>NaN</td>\n",
       "      <td>NaN</td>\n",
       "      <td>NaN</td>\n",
       "      <td>NaN</td>\n",
       "      <td>NaN</td>\n",
       "      <td>NaN</td>\n",
       "      <td>NaN</td>\n",
       "      <td>NaN</td>\n",
       "      <td>NaN</td>\n",
       "      <td>NaN</td>\n",
       "      <td>NaN</td>\n",
       "      <td>NaN</td>\n",
       "      <td>NaN</td>\n",
       "      <td>NaN</td>\n",
       "      <td>NaN</td>\n",
       "      <td>NaN</td>\n",
       "      <td>NaN</td>\n",
       "    </tr>\n",
       "    <tr>\n",
       "      <th>1</th>\n",
       "      <td>Turkish Airlines</td>\n",
       "      <td>7.0</td>\n",
       "      <td>Christopher Hackley</td>\n",
       "      <td>8th May 2019</td>\n",
       "      <td>✅ Trip Verified | London to Izmir via Istanbul...</td>\n",
       "      <td>NaN</td>\n",
       "      <td>Business</td>\n",
       "      <td>Economy Class</td>\n",
       "      <td>London to Izmir via Istanbul</td>\n",
       "      <td>May-19</td>\n",
       "      <td>4.0</td>\n",
       "      <td>5.0</td>\n",
       "      <td>4.0</td>\n",
       "      <td>4.0</td>\n",
       "      <td>2.0</td>\n",
       "      <td>4.0</td>\n",
       "      <td>yes</td>\n",
       "    </tr>\n",
       "    <tr>\n",
       "      <th>2</th>\n",
       "      <td>NaN</td>\n",
       "      <td>NaN</td>\n",
       "      <td>NaN</td>\n",
       "      <td>NaN</td>\n",
       "      <td>NaN</td>\n",
       "      <td>NaN</td>\n",
       "      <td>NaN</td>\n",
       "      <td>NaN</td>\n",
       "      <td>NaN</td>\n",
       "      <td>NaN</td>\n",
       "      <td>NaN</td>\n",
       "      <td>NaN</td>\n",
       "      <td>NaN</td>\n",
       "      <td>NaN</td>\n",
       "      <td>NaN</td>\n",
       "      <td>NaN</td>\n",
       "      <td>NaN</td>\n",
       "    </tr>\n",
       "    <tr>\n",
       "      <th>3</th>\n",
       "      <td>Turkish Airlines</td>\n",
       "      <td>2.0</td>\n",
       "      <td>Adriana Pisoi</td>\n",
       "      <td>7th May 2019</td>\n",
       "      <td>✅ Trip Verified | Istanbul to Bucharest. We ma...</td>\n",
       "      <td>NaN</td>\n",
       "      <td>Family Leisure</td>\n",
       "      <td>Economy Class</td>\n",
       "      <td>Istanbul to Bucharest</td>\n",
       "      <td>May-19</td>\n",
       "      <td>4.0</td>\n",
       "      <td>1.0</td>\n",
       "      <td>1.0</td>\n",
       "      <td>1.0</td>\n",
       "      <td>1.0</td>\n",
       "      <td>1.0</td>\n",
       "      <td>no</td>\n",
       "    </tr>\n",
       "    <tr>\n",
       "      <th>4</th>\n",
       "      <td>NaN</td>\n",
       "      <td>NaN</td>\n",
       "      <td>NaN</td>\n",
       "      <td>NaN</td>\n",
       "      <td>NaN</td>\n",
       "      <td>NaN</td>\n",
       "      <td>NaN</td>\n",
       "      <td>NaN</td>\n",
       "      <td>NaN</td>\n",
       "      <td>NaN</td>\n",
       "      <td>NaN</td>\n",
       "      <td>NaN</td>\n",
       "      <td>NaN</td>\n",
       "      <td>NaN</td>\n",
       "      <td>NaN</td>\n",
       "      <td>NaN</td>\n",
       "      <td>NaN</td>\n",
       "    </tr>\n",
       "  </tbody>\n",
       "</table>\n",
       "</div>"
      ],
      "text/plain": [
       "            airline overall               author   review_date  \\\n",
       "0               NaN     NaN                  NaN           NaN   \n",
       "1  Turkish Airlines     7.0  Christopher Hackley  8th May 2019   \n",
       "2               NaN     NaN                  NaN           NaN   \n",
       "3  Turkish Airlines     2.0        Adriana Pisoi  7th May 2019   \n",
       "4               NaN     NaN                  NaN           NaN   \n",
       "\n",
       "                                     customer_review aircraft  traveller_type  \\\n",
       "0                                                NaN      NaN             NaN   \n",
       "1  ✅ Trip Verified | London to Izmir via Istanbul...      NaN        Business   \n",
       "2                                                NaN      NaN             NaN   \n",
       "3  ✅ Trip Verified | Istanbul to Bucharest. We ma...      NaN  Family Leisure   \n",
       "4                                                NaN      NaN             NaN   \n",
       "\n",
       "           cabin                         route date_flown seat_comfort  \\\n",
       "0            NaN                           NaN        NaN          NaN   \n",
       "1  Economy Class  London to Izmir via Istanbul     May-19          4.0   \n",
       "2            NaN                           NaN        NaN          NaN   \n",
       "3  Economy Class         Istanbul to Bucharest     May-19          4.0   \n",
       "4            NaN                           NaN        NaN          NaN   \n",
       "\n",
       "  cabin_service food_bev entertainment ground_service value_for_money  \\\n",
       "0           NaN      NaN           NaN            NaN             NaN   \n",
       "1           5.0      4.0           4.0            2.0             4.0   \n",
       "2           NaN      NaN           NaN            NaN             NaN   \n",
       "3           1.0      1.0           1.0            1.0             1.0   \n",
       "4           NaN      NaN           NaN            NaN             NaN   \n",
       "\n",
       "  recommended  \n",
       "0         NaN  \n",
       "1         yes  \n",
       "2         NaN  \n",
       "3          no  \n",
       "4         NaN  "
      ]
     },
     "execution_count": 781,
     "metadata": {},
     "output_type": "execute_result"
    }
   ],
   "source": [
    "# checking the result of the created data frame\n",
    "data_frame.head()"
   ]
  },
  {
   "cell_type": "code",
   "execution_count": 782,
   "id": "1a1ec0f4",
   "metadata": {},
   "outputs": [
    {
     "data": {
      "text/plain": [
       "131895"
      ]
     },
     "execution_count": 782,
     "metadata": {},
     "output_type": "execute_result"
    }
   ],
   "source": [
    "# checking the number of 'reviews' in the data frame\n",
    "len(data_frame['customer_review'])"
   ]
  },
  {
   "cell_type": "markdown",
   "id": "db2f27be",
   "metadata": {},
   "source": [
    "##### The resulting length is 131,895 rows! From the outputs of the data frame, I know this is the result in many 'NaN' value rows. I also wish to perform a count of the words in each review and if I try do this on a data frame containing NaN values it will result in an error. So, it is important I remove these NaN rows now before proceeding."
   ]
  },
  {
   "cell_type": "code",
   "execution_count": 783,
   "id": "92d6c92b",
   "metadata": {},
   "outputs": [
    {
     "data": {
      "text/html": [
       "<div>\n",
       "<style scoped>\n",
       "    .dataframe tbody tr th:only-of-type {\n",
       "        vertical-align: middle;\n",
       "    }\n",
       "\n",
       "    .dataframe tbody tr th {\n",
       "        vertical-align: top;\n",
       "    }\n",
       "\n",
       "    .dataframe thead th {\n",
       "        text-align: right;\n",
       "    }\n",
       "</style>\n",
       "<table border=\"1\" class=\"dataframe\">\n",
       "  <thead>\n",
       "    <tr style=\"text-align: right;\">\n",
       "      <th></th>\n",
       "      <th>airline</th>\n",
       "      <th>overall</th>\n",
       "      <th>author</th>\n",
       "      <th>review_date</th>\n",
       "      <th>customer_review</th>\n",
       "      <th>aircraft</th>\n",
       "      <th>traveller_type</th>\n",
       "      <th>cabin</th>\n",
       "      <th>route</th>\n",
       "      <th>date_flown</th>\n",
       "      <th>seat_comfort</th>\n",
       "      <th>cabin_service</th>\n",
       "      <th>food_bev</th>\n",
       "      <th>entertainment</th>\n",
       "      <th>ground_service</th>\n",
       "      <th>value_for_money</th>\n",
       "      <th>recommended</th>\n",
       "    </tr>\n",
       "  </thead>\n",
       "  <tbody>\n",
       "    <tr>\n",
       "      <th>1</th>\n",
       "      <td>Turkish Airlines</td>\n",
       "      <td>7.0</td>\n",
       "      <td>Christopher Hackley</td>\n",
       "      <td>8th May 2019</td>\n",
       "      <td>✅ Trip Verified | London to Izmir via Istanbul...</td>\n",
       "      <td>NaN</td>\n",
       "      <td>Business</td>\n",
       "      <td>Economy Class</td>\n",
       "      <td>London to Izmir via Istanbul</td>\n",
       "      <td>May-19</td>\n",
       "      <td>4.0</td>\n",
       "      <td>5.0</td>\n",
       "      <td>4.0</td>\n",
       "      <td>4.0</td>\n",
       "      <td>2.0</td>\n",
       "      <td>4.0</td>\n",
       "      <td>yes</td>\n",
       "    </tr>\n",
       "    <tr>\n",
       "      <th>3</th>\n",
       "      <td>Turkish Airlines</td>\n",
       "      <td>2.0</td>\n",
       "      <td>Adriana Pisoi</td>\n",
       "      <td>7th May 2019</td>\n",
       "      <td>✅ Trip Verified | Istanbul to Bucharest. We ma...</td>\n",
       "      <td>NaN</td>\n",
       "      <td>Family Leisure</td>\n",
       "      <td>Economy Class</td>\n",
       "      <td>Istanbul to Bucharest</td>\n",
       "      <td>May-19</td>\n",
       "      <td>4.0</td>\n",
       "      <td>1.0</td>\n",
       "      <td>1.0</td>\n",
       "      <td>1.0</td>\n",
       "      <td>1.0</td>\n",
       "      <td>1.0</td>\n",
       "      <td>no</td>\n",
       "    </tr>\n",
       "    <tr>\n",
       "      <th>5</th>\n",
       "      <td>Turkish Airlines</td>\n",
       "      <td>3.0</td>\n",
       "      <td>M Galerko</td>\n",
       "      <td>7th May 2019</td>\n",
       "      <td>✅ Trip Verified | Rome to Prishtina via Istanb...</td>\n",
       "      <td>NaN</td>\n",
       "      <td>Business</td>\n",
       "      <td>Economy Class</td>\n",
       "      <td>Rome to Prishtina via Istanbul</td>\n",
       "      <td>May-19</td>\n",
       "      <td>1.0</td>\n",
       "      <td>4.0</td>\n",
       "      <td>1.0</td>\n",
       "      <td>3.0</td>\n",
       "      <td>1.0</td>\n",
       "      <td>2.0</td>\n",
       "      <td>no</td>\n",
       "    </tr>\n",
       "    <tr>\n",
       "      <th>7</th>\n",
       "      <td>Turkish Airlines</td>\n",
       "      <td>10.0</td>\n",
       "      <td>Zeshan Shah</td>\n",
       "      <td>6th May 2019</td>\n",
       "      <td>✅ Trip Verified | Flew on Turkish Airlines IAD...</td>\n",
       "      <td>A330</td>\n",
       "      <td>Solo Leisure</td>\n",
       "      <td>Economy Class</td>\n",
       "      <td>Washington Dulles to Karachi</td>\n",
       "      <td>April 2019</td>\n",
       "      <td>4.0</td>\n",
       "      <td>5.0</td>\n",
       "      <td>5.0</td>\n",
       "      <td>5.0</td>\n",
       "      <td>5.0</td>\n",
       "      <td>5.0</td>\n",
       "      <td>yes</td>\n",
       "    </tr>\n",
       "    <tr>\n",
       "      <th>9</th>\n",
       "      <td>Turkish Airlines</td>\n",
       "      <td>1.0</td>\n",
       "      <td>Pooja Jain</td>\n",
       "      <td>6th May 2019</td>\n",
       "      <td>✅ Trip Verified | Mumbai to Dublin via Istanbu...</td>\n",
       "      <td>NaN</td>\n",
       "      <td>Solo Leisure</td>\n",
       "      <td>Economy Class</td>\n",
       "      <td>Mumbai to Dublin via Istanbul</td>\n",
       "      <td>May-19</td>\n",
       "      <td>1.0</td>\n",
       "      <td>1.0</td>\n",
       "      <td>1.0</td>\n",
       "      <td>1.0</td>\n",
       "      <td>1.0</td>\n",
       "      <td>1.0</td>\n",
       "      <td>no</td>\n",
       "    </tr>\n",
       "  </tbody>\n",
       "</table>\n",
       "</div>"
      ],
      "text/plain": [
       "            airline overall               author   review_date  \\\n",
       "1  Turkish Airlines     7.0  Christopher Hackley  8th May 2019   \n",
       "3  Turkish Airlines     2.0        Adriana Pisoi  7th May 2019   \n",
       "5  Turkish Airlines     3.0            M Galerko  7th May 2019   \n",
       "7  Turkish Airlines    10.0          Zeshan Shah  6th May 2019   \n",
       "9  Turkish Airlines     1.0           Pooja Jain  6th May 2019   \n",
       "\n",
       "                                     customer_review aircraft  traveller_type  \\\n",
       "1  ✅ Trip Verified | London to Izmir via Istanbul...      NaN        Business   \n",
       "3  ✅ Trip Verified | Istanbul to Bucharest. We ma...      NaN  Family Leisure   \n",
       "5  ✅ Trip Verified | Rome to Prishtina via Istanb...      NaN        Business   \n",
       "7  ✅ Trip Verified | Flew on Turkish Airlines IAD...     A330    Solo Leisure   \n",
       "9  ✅ Trip Verified | Mumbai to Dublin via Istanbu...      NaN    Solo Leisure   \n",
       "\n",
       "           cabin                           route  date_flown seat_comfort  \\\n",
       "1  Economy Class    London to Izmir via Istanbul      May-19          4.0   \n",
       "3  Economy Class           Istanbul to Bucharest      May-19          4.0   \n",
       "5  Economy Class  Rome to Prishtina via Istanbul      May-19          1.0   \n",
       "7  Economy Class    Washington Dulles to Karachi  April 2019          4.0   \n",
       "9  Economy Class   Mumbai to Dublin via Istanbul      May-19          1.0   \n",
       "\n",
       "  cabin_service food_bev entertainment ground_service value_for_money  \\\n",
       "1           5.0      4.0           4.0            2.0             4.0   \n",
       "3           1.0      1.0           1.0            1.0             1.0   \n",
       "5           4.0      1.0           3.0            1.0             2.0   \n",
       "7           5.0      5.0           5.0            5.0             5.0   \n",
       "9           1.0      1.0           1.0            1.0             1.0   \n",
       "\n",
       "  recommended  \n",
       "1         yes  \n",
       "3          no  \n",
       "5          no  \n",
       "7         yes  \n",
       "9          no  "
      ]
     },
     "execution_count": 783,
     "metadata": {},
     "output_type": "execute_result"
    }
   ],
   "source": [
    "# removing blank rows from data frame, setting threshold of 16, so requires 16 empty columns to be removed\n",
    "data_frame = data_frame.dropna(thresh=16)\n",
    "\n",
    "data_frame.head()"
   ]
  },
  {
   "cell_type": "code",
   "execution_count": 784,
   "id": "9ec34da4",
   "metadata": {},
   "outputs": [
    {
     "data": {
      "text/plain": [
       "28497"
      ]
     },
     "execution_count": 784,
     "metadata": {},
     "output_type": "execute_result"
    }
   ],
   "source": [
    "# checking the number of 'reviews' in the data frame after removing 'NaN values'\n",
    "len(data_frame['customer_review'])"
   ]
  },
  {
   "cell_type": "code",
   "execution_count": 785,
   "id": "c1792a9a",
   "metadata": {},
   "outputs": [
    {
     "data": {
      "text/plain": [
       "1         208\n",
       "3          89\n",
       "5         301\n",
       "7         162\n",
       "9          77\n",
       "         ... \n",
       "131698    151\n",
       "131700    104\n",
       "131702     68\n",
       "131704    125\n",
       "131712    404\n",
       "Name: customer_review, Length: 28497, dtype: int64"
      ]
     },
     "execution_count": 785,
     "metadata": {},
     "output_type": "execute_result"
    }
   ],
   "source": [
    "# doing a wordcount of each review\n",
    "data_frame['customer_review'].apply(lambda x: len(x.split()))"
   ]
  },
  {
   "cell_type": "code",
   "execution_count": 786,
   "id": "04a76a03",
   "metadata": {},
   "outputs": [
    {
     "data": {
      "text/plain": [
       "pandas.core.series.Series"
      ]
     },
     "execution_count": 786,
     "metadata": {},
     "output_type": "execute_result"
    }
   ],
   "source": [
    "# getting a series for feature creation of wordcount\n",
    "type(data_frame['customer_review'].apply(lambda x: len(x.split())))"
   ]
  },
  {
   "cell_type": "code",
   "execution_count": 787,
   "id": "b104399b",
   "metadata": {},
   "outputs": [
    {
     "name": "stdout",
     "output_type": "stream",
     "text": [
      "['Turkish Airlines' 'Qatar Airways' 'Emirates' 'Lufthansa'\n",
      " 'KLM Royal Dutch Airlines' 'Virgin America' 'American Airlines'\n",
      " 'Delta Air Lines' 'Southwest Airlines' 'United Airlines'\n",
      " 'Jetblue Airways' 'Aegean Airlines' 'Aeroflot Russian Airlines'\n",
      " 'Aeromexico' 'Air Canada' 'Air New Zealand' 'Alitalia' 'AirAsia'\n",
      " 'Asiana Airlines' 'Avianca' 'Austrian Airlines' 'British Airways'\n",
      " 'Brussels Airlines' 'China Eastern Airlines' 'China Southern Airlines'\n",
      " 'Copa Airlines' 'Ethiopian Airlines' 'Egyptair' 'Finnair' 'Iberia'\n",
      " 'ANA All Nippon Airways' 'easyJet' 'Korean Air' 'LATAM Airlines'\n",
      " 'LOT Polish Airlines' 'Qantas Airways' 'Air France' 'Etihad Airways'\n",
      " 'Pegasus Airlines' 'Royal Jordanian Airlines' 'Ryanair'\n",
      " 'South African Airways' 'Saudi Arabian Airlines' 'TAP Portugal'\n",
      " 'Eurowings' 'EVA Air' 'Royal Air Maroc' 'Singapore Airlines'\n",
      " 'SAS Scandinavian' 'Swiss Intl Air Lines' 'Thai Airways' 'Air India'\n",
      " 'Air Europa' 'Air Canada rouge' 'airBaltic' 'Air China'\n",
      " 'Cathay Pacific Airways' 'Wizz Air' 'Spirit Airlines' 'TAROM Romanian'\n",
      " 'Vueling Airlines' 'Sunwing Airlines' 'QantasLink' 'Bangkok Airways'\n",
      " 'flydubai' 'Garuda Indonesia' 'Germanwings' 'Frontier Airlines'\n",
      " 'Icelandair' 'IndiGo' 'Aer Lingus' 'Adria Airways' 'Air Arabia'\n",
      " 'Alaska Airlines' 'Tunisair' 'Norwegian' 'Thai Smile Airways' 'Gulf Air'\n",
      " 'Kuwait Airways' 'WOW air' 'Ukraine International']\n"
     ]
    }
   ],
   "source": [
    "# checking different airlines\n",
    "airlines = data_frame['airline'].unique()\n",
    "print(airlines)"
   ]
  },
  {
   "cell_type": "code",
   "execution_count": 822,
   "id": "f190aa15",
   "metadata": {},
   "outputs": [
    {
     "name": "stdout",
     "output_type": "stream",
     "text": [
      "[nan 'A330' 'Boeing 737-800 / A330-300' ...\n",
      " 'Boeing 737-800 and Embraer 190' 'Boeing 737-400/ 737-800' 'boeing 767']\n"
     ]
    }
   ],
   "source": [
    "# checking different aircrafts\n",
    "aircraft = data_frame['aircraft'].unique()\n",
    "print(aircraft)"
   ]
  },
  {
   "cell_type": "code",
   "execution_count": 830,
   "id": "24455e47",
   "metadata": {
    "scrolled": true
   },
   "outputs": [
    {
     "data": {
      "image/png": "[encoded data removed]",
      "text/plain": [
       "<Figure size 1440x960 with 1 Axes>"
      ]
     },
     "metadata": {},
     "output_type": "display_data"
    }
   ],
   "source": [
    "# create a barchart for cabin and overall score \n",
    "plt.rcParams['figure.dpi'] = 240\n",
    "sns.set(style=\"whitegrid\")\n",
    "sns.barplot(data=data_frame, x=\"cabin\", y=\"overall\", ci=None)\n",
    "plt.ylabel('Overall Score', size=18)\n",
    "plt.xlabel('', size=10)\n",
    "plt.title('Overall Score by Cabin', size=18)\n",
    "plt.xticks(size=8)\n",
    "plt.yticks(size=12)\n",
    "sns.despine()"
   ]
  },
  {
   "cell_type": "markdown",
   "id": "c86ac2f3",
   "metadata": {},
   "source": [
    "### Feature Creation\n",
    "#### I want to add the word count of each customer_review to a new column within the data frame"
   ]
  },
  {
   "cell_type": "code",
   "execution_count": 678,
   "id": "5288d2ae",
   "metadata": {},
   "outputs": [
    {
     "data": {
      "text/html": [
       "<div>\n",
       "<style scoped>\n",
       "    .dataframe tbody tr th:only-of-type {\n",
       "        vertical-align: middle;\n",
       "    }\n",
       "\n",
       "    .dataframe tbody tr th {\n",
       "        vertical-align: top;\n",
       "    }\n",
       "\n",
       "    .dataframe thead th {\n",
       "        text-align: right;\n",
       "    }\n",
       "</style>\n",
       "<table border=\"1\" class=\"dataframe\">\n",
       "  <thead>\n",
       "    <tr style=\"text-align: right;\">\n",
       "      <th></th>\n",
       "      <th>airline</th>\n",
       "      <th>overall</th>\n",
       "      <th>author</th>\n",
       "      <th>review_date</th>\n",
       "      <th>customer_review</th>\n",
       "      <th>aircraft</th>\n",
       "      <th>traveller_type</th>\n",
       "      <th>cabin</th>\n",
       "      <th>route</th>\n",
       "      <th>date_flown</th>\n",
       "      <th>seat_comfort</th>\n",
       "      <th>cabin_service</th>\n",
       "      <th>food_bev</th>\n",
       "      <th>entertainment</th>\n",
       "      <th>ground_service</th>\n",
       "      <th>value_for_money</th>\n",
       "      <th>recommended</th>\n",
       "      <th>word_count</th>\n",
       "    </tr>\n",
       "  </thead>\n",
       "  <tbody>\n",
       "    <tr>\n",
       "      <th>1</th>\n",
       "      <td>Turkish Airlines</td>\n",
       "      <td>7.0</td>\n",
       "      <td>Christopher Hackley</td>\n",
       "      <td>8th May 2019</td>\n",
       "      <td>✅ Trip Verified | London to Izmir via Istanbul...</td>\n",
       "      <td>NaN</td>\n",
       "      <td>Business</td>\n",
       "      <td>Economy Class</td>\n",
       "      <td>London to Izmir via Istanbul</td>\n",
       "      <td>May-19</td>\n",
       "      <td>4.0</td>\n",
       "      <td>5.0</td>\n",
       "      <td>4.0</td>\n",
       "      <td>4.0</td>\n",
       "      <td>2.0</td>\n",
       "      <td>4.0</td>\n",
       "      <td>yes</td>\n",
       "      <td>208</td>\n",
       "    </tr>\n",
       "    <tr>\n",
       "      <th>3</th>\n",
       "      <td>Turkish Airlines</td>\n",
       "      <td>2.0</td>\n",
       "      <td>Adriana Pisoi</td>\n",
       "      <td>7th May 2019</td>\n",
       "      <td>✅ Trip Verified | Istanbul to Bucharest. We ma...</td>\n",
       "      <td>NaN</td>\n",
       "      <td>Family Leisure</td>\n",
       "      <td>Economy Class</td>\n",
       "      <td>Istanbul to Bucharest</td>\n",
       "      <td>May-19</td>\n",
       "      <td>4.0</td>\n",
       "      <td>1.0</td>\n",
       "      <td>1.0</td>\n",
       "      <td>1.0</td>\n",
       "      <td>1.0</td>\n",
       "      <td>1.0</td>\n",
       "      <td>no</td>\n",
       "      <td>89</td>\n",
       "    </tr>\n",
       "    <tr>\n",
       "      <th>5</th>\n",
       "      <td>Turkish Airlines</td>\n",
       "      <td>3.0</td>\n",
       "      <td>M Galerko</td>\n",
       "      <td>7th May 2019</td>\n",
       "      <td>✅ Trip Verified | Rome to Prishtina via Istanb...</td>\n",
       "      <td>NaN</td>\n",
       "      <td>Business</td>\n",
       "      <td>Economy Class</td>\n",
       "      <td>Rome to Prishtina via Istanbul</td>\n",
       "      <td>May-19</td>\n",
       "      <td>1.0</td>\n",
       "      <td>4.0</td>\n",
       "      <td>1.0</td>\n",
       "      <td>3.0</td>\n",
       "      <td>1.0</td>\n",
       "      <td>2.0</td>\n",
       "      <td>no</td>\n",
       "      <td>301</td>\n",
       "    </tr>\n",
       "    <tr>\n",
       "      <th>7</th>\n",
       "      <td>Turkish Airlines</td>\n",
       "      <td>10.0</td>\n",
       "      <td>Zeshan Shah</td>\n",
       "      <td>6th May 2019</td>\n",
       "      <td>✅ Trip Verified | Flew on Turkish Airlines IAD...</td>\n",
       "      <td>A330</td>\n",
       "      <td>Solo Leisure</td>\n",
       "      <td>Economy Class</td>\n",
       "      <td>Washington Dulles to Karachi</td>\n",
       "      <td>April 2019</td>\n",
       "      <td>4.0</td>\n",
       "      <td>5.0</td>\n",
       "      <td>5.0</td>\n",
       "      <td>5.0</td>\n",
       "      <td>5.0</td>\n",
       "      <td>5.0</td>\n",
       "      <td>yes</td>\n",
       "      <td>162</td>\n",
       "    </tr>\n",
       "    <tr>\n",
       "      <th>9</th>\n",
       "      <td>Turkish Airlines</td>\n",
       "      <td>1.0</td>\n",
       "      <td>Pooja Jain</td>\n",
       "      <td>6th May 2019</td>\n",
       "      <td>✅ Trip Verified | Mumbai to Dublin via Istanbu...</td>\n",
       "      <td>NaN</td>\n",
       "      <td>Solo Leisure</td>\n",
       "      <td>Economy Class</td>\n",
       "      <td>Mumbai to Dublin via Istanbul</td>\n",
       "      <td>May-19</td>\n",
       "      <td>1.0</td>\n",
       "      <td>1.0</td>\n",
       "      <td>1.0</td>\n",
       "      <td>1.0</td>\n",
       "      <td>1.0</td>\n",
       "      <td>1.0</td>\n",
       "      <td>no</td>\n",
       "      <td>77</td>\n",
       "    </tr>\n",
       "  </tbody>\n",
       "</table>\n",
       "</div>"
      ],
      "text/plain": [
       "            airline overall               author   review_date  \\\n",
       "1  Turkish Airlines     7.0  Christopher Hackley  8th May 2019   \n",
       "3  Turkish Airlines     2.0        Adriana Pisoi  7th May 2019   \n",
       "5  Turkish Airlines     3.0            M Galerko  7th May 2019   \n",
       "7  Turkish Airlines    10.0          Zeshan Shah  6th May 2019   \n",
       "9  Turkish Airlines     1.0           Pooja Jain  6th May 2019   \n",
       "\n",
       "                                     customer_review aircraft  traveller_type  \\\n",
       "1  ✅ Trip Verified | London to Izmir via Istanbul...      NaN        Business   \n",
       "3  ✅ Trip Verified | Istanbul to Bucharest. We ma...      NaN  Family Leisure   \n",
       "5  ✅ Trip Verified | Rome to Prishtina via Istanb...      NaN        Business   \n",
       "7  ✅ Trip Verified | Flew on Turkish Airlines IAD...     A330    Solo Leisure   \n",
       "9  ✅ Trip Verified | Mumbai to Dublin via Istanbu...      NaN    Solo Leisure   \n",
       "\n",
       "           cabin                           route  date_flown seat_comfort  \\\n",
       "1  Economy Class    London to Izmir via Istanbul      May-19          4.0   \n",
       "3  Economy Class           Istanbul to Bucharest      May-19          4.0   \n",
       "5  Economy Class  Rome to Prishtina via Istanbul      May-19          1.0   \n",
       "7  Economy Class    Washington Dulles to Karachi  April 2019          4.0   \n",
       "9  Economy Class   Mumbai to Dublin via Istanbul      May-19          1.0   \n",
       "\n",
       "  cabin_service food_bev entertainment ground_service value_for_money  \\\n",
       "1           5.0      4.0           4.0            2.0             4.0   \n",
       "3           1.0      1.0           1.0            1.0             1.0   \n",
       "5           4.0      1.0           3.0            1.0             2.0   \n",
       "7           5.0      5.0           5.0            5.0             5.0   \n",
       "9           1.0      1.0           1.0            1.0             1.0   \n",
       "\n",
       "  recommended  word_count  \n",
       "1         yes         208  \n",
       "3          no          89  \n",
       "5          no         301  \n",
       "7         yes         162  \n",
       "9          no          77  "
      ]
     },
     "execution_count": 678,
     "metadata": {},
     "output_type": "execute_result"
    }
   ],
   "source": [
    "# adding a column of 'wordcount' to the data frame\n",
    "data_frame['word_count'] = data_frame['customer_review'].apply(lambda x: len(x.split()))\n",
    "# checking the result\n",
    "data_frame.head()"
   ]
  },
  {
   "cell_type": "markdown",
   "id": "d2f27dd0",
   "metadata": {},
   "source": [
    "# Data Cleaning\n",
    "#### For this step, I want to clean the data further than removing blank rows. During this process the aim is to tidy the data of anything which may cause issues for a machine learning algorithm to interpret , or anything which may not provide any predictive value. This includes elements such as upper/lower case blocks of text, stop words, numbers, punctuation and whitespaces."
   ]
  },
  {
   "cell_type": "markdown",
   "id": "6209e41c",
   "metadata": {},
   "source": [
    "### Converting reviews to lowercase characters only."
   ]
  },
  {
   "cell_type": "code",
   "execution_count": 679,
   "id": "a15bbf03",
   "metadata": {},
   "outputs": [
    {
     "data": {
      "text/html": [
       "<div>\n",
       "<style scoped>\n",
       "    .dataframe tbody tr th:only-of-type {\n",
       "        vertical-align: middle;\n",
       "    }\n",
       "\n",
       "    .dataframe tbody tr th {\n",
       "        vertical-align: top;\n",
       "    }\n",
       "\n",
       "    .dataframe thead th {\n",
       "        text-align: right;\n",
       "    }\n",
       "</style>\n",
       "<table border=\"1\" class=\"dataframe\">\n",
       "  <thead>\n",
       "    <tr style=\"text-align: right;\">\n",
       "      <th></th>\n",
       "      <th>airline</th>\n",
       "      <th>overall</th>\n",
       "      <th>author</th>\n",
       "      <th>review_date</th>\n",
       "      <th>customer_review</th>\n",
       "      <th>aircraft</th>\n",
       "      <th>traveller_type</th>\n",
       "      <th>cabin</th>\n",
       "      <th>route</th>\n",
       "      <th>date_flown</th>\n",
       "      <th>seat_comfort</th>\n",
       "      <th>cabin_service</th>\n",
       "      <th>food_bev</th>\n",
       "      <th>entertainment</th>\n",
       "      <th>ground_service</th>\n",
       "      <th>value_for_money</th>\n",
       "      <th>recommended</th>\n",
       "      <th>word_count</th>\n",
       "      <th>lowercase</th>\n",
       "    </tr>\n",
       "  </thead>\n",
       "  <tbody>\n",
       "    <tr>\n",
       "      <th>1</th>\n",
       "      <td>Turkish Airlines</td>\n",
       "      <td>7.0</td>\n",
       "      <td>Christopher Hackley</td>\n",
       "      <td>8th May 2019</td>\n",
       "      <td>✅ Trip Verified | London to Izmir via Istanbul...</td>\n",
       "      <td>NaN</td>\n",
       "      <td>Business</td>\n",
       "      <td>Economy Class</td>\n",
       "      <td>London to Izmir via Istanbul</td>\n",
       "      <td>May-19</td>\n",
       "      <td>4.0</td>\n",
       "      <td>5.0</td>\n",
       "      <td>4.0</td>\n",
       "      <td>4.0</td>\n",
       "      <td>2.0</td>\n",
       "      <td>4.0</td>\n",
       "      <td>yes</td>\n",
       "      <td>208</td>\n",
       "      <td>✅ trip verified | london to izmir via istanbul...</td>\n",
       "    </tr>\n",
       "    <tr>\n",
       "      <th>3</th>\n",
       "      <td>Turkish Airlines</td>\n",
       "      <td>2.0</td>\n",
       "      <td>Adriana Pisoi</td>\n",
       "      <td>7th May 2019</td>\n",
       "      <td>✅ Trip Verified | Istanbul to Bucharest. We ma...</td>\n",
       "      <td>NaN</td>\n",
       "      <td>Family Leisure</td>\n",
       "      <td>Economy Class</td>\n",
       "      <td>Istanbul to Bucharest</td>\n",
       "      <td>May-19</td>\n",
       "      <td>4.0</td>\n",
       "      <td>1.0</td>\n",
       "      <td>1.0</td>\n",
       "      <td>1.0</td>\n",
       "      <td>1.0</td>\n",
       "      <td>1.0</td>\n",
       "      <td>no</td>\n",
       "      <td>89</td>\n",
       "      <td>✅ trip verified | istanbul to bucharest. we ma...</td>\n",
       "    </tr>\n",
       "    <tr>\n",
       "      <th>5</th>\n",
       "      <td>Turkish Airlines</td>\n",
       "      <td>3.0</td>\n",
       "      <td>M Galerko</td>\n",
       "      <td>7th May 2019</td>\n",
       "      <td>✅ Trip Verified | Rome to Prishtina via Istanb...</td>\n",
       "      <td>NaN</td>\n",
       "      <td>Business</td>\n",
       "      <td>Economy Class</td>\n",
       "      <td>Rome to Prishtina via Istanbul</td>\n",
       "      <td>May-19</td>\n",
       "      <td>1.0</td>\n",
       "      <td>4.0</td>\n",
       "      <td>1.0</td>\n",
       "      <td>3.0</td>\n",
       "      <td>1.0</td>\n",
       "      <td>2.0</td>\n",
       "      <td>no</td>\n",
       "      <td>301</td>\n",
       "      <td>✅ trip verified | rome to prishtina via istanb...</td>\n",
       "    </tr>\n",
       "    <tr>\n",
       "      <th>7</th>\n",
       "      <td>Turkish Airlines</td>\n",
       "      <td>10.0</td>\n",
       "      <td>Zeshan Shah</td>\n",
       "      <td>6th May 2019</td>\n",
       "      <td>✅ Trip Verified | Flew on Turkish Airlines IAD...</td>\n",
       "      <td>A330</td>\n",
       "      <td>Solo Leisure</td>\n",
       "      <td>Economy Class</td>\n",
       "      <td>Washington Dulles to Karachi</td>\n",
       "      <td>April 2019</td>\n",
       "      <td>4.0</td>\n",
       "      <td>5.0</td>\n",
       "      <td>5.0</td>\n",
       "      <td>5.0</td>\n",
       "      <td>5.0</td>\n",
       "      <td>5.0</td>\n",
       "      <td>yes</td>\n",
       "      <td>162</td>\n",
       "      <td>✅ trip verified | flew on turkish airlines iad...</td>\n",
       "    </tr>\n",
       "    <tr>\n",
       "      <th>9</th>\n",
       "      <td>Turkish Airlines</td>\n",
       "      <td>1.0</td>\n",
       "      <td>Pooja Jain</td>\n",
       "      <td>6th May 2019</td>\n",
       "      <td>✅ Trip Verified | Mumbai to Dublin via Istanbu...</td>\n",
       "      <td>NaN</td>\n",
       "      <td>Solo Leisure</td>\n",
       "      <td>Economy Class</td>\n",
       "      <td>Mumbai to Dublin via Istanbul</td>\n",
       "      <td>May-19</td>\n",
       "      <td>1.0</td>\n",
       "      <td>1.0</td>\n",
       "      <td>1.0</td>\n",
       "      <td>1.0</td>\n",
       "      <td>1.0</td>\n",
       "      <td>1.0</td>\n",
       "      <td>no</td>\n",
       "      <td>77</td>\n",
       "      <td>✅ trip verified | mumbai to dublin via istanbu...</td>\n",
       "    </tr>\n",
       "  </tbody>\n",
       "</table>\n",
       "</div>"
      ],
      "text/plain": [
       "            airline overall               author   review_date  \\\n",
       "1  Turkish Airlines     7.0  Christopher Hackley  8th May 2019   \n",
       "3  Turkish Airlines     2.0        Adriana Pisoi  7th May 2019   \n",
       "5  Turkish Airlines     3.0            M Galerko  7th May 2019   \n",
       "7  Turkish Airlines    10.0          Zeshan Shah  6th May 2019   \n",
       "9  Turkish Airlines     1.0           Pooja Jain  6th May 2019   \n",
       "\n",
       "                                     customer_review aircraft  traveller_type  \\\n",
       "1  ✅ Trip Verified | London to Izmir via Istanbul...      NaN        Business   \n",
       "3  ✅ Trip Verified | Istanbul to Bucharest. We ma...      NaN  Family Leisure   \n",
       "5  ✅ Trip Verified | Rome to Prishtina via Istanb...      NaN        Business   \n",
       "7  ✅ Trip Verified | Flew on Turkish Airlines IAD...     A330    Solo Leisure   \n",
       "9  ✅ Trip Verified | Mumbai to Dublin via Istanbu...      NaN    Solo Leisure   \n",
       "\n",
       "           cabin                           route  date_flown seat_comfort  \\\n",
       "1  Economy Class    London to Izmir via Istanbul      May-19          4.0   \n",
       "3  Economy Class           Istanbul to Bucharest      May-19          4.0   \n",
       "5  Economy Class  Rome to Prishtina via Istanbul      May-19          1.0   \n",
       "7  Economy Class    Washington Dulles to Karachi  April 2019          4.0   \n",
       "9  Economy Class   Mumbai to Dublin via Istanbul      May-19          1.0   \n",
       "\n",
       "  cabin_service food_bev entertainment ground_service value_for_money  \\\n",
       "1           5.0      4.0           4.0            2.0             4.0   \n",
       "3           1.0      1.0           1.0            1.0             1.0   \n",
       "5           4.0      1.0           3.0            1.0             2.0   \n",
       "7           5.0      5.0           5.0            5.0             5.0   \n",
       "9           1.0      1.0           1.0            1.0             1.0   \n",
       "\n",
       "  recommended  word_count                                          lowercase  \n",
       "1         yes         208  ✅ trip verified | london to izmir via istanbul...  \n",
       "3          no          89  ✅ trip verified | istanbul to bucharest. we ma...  \n",
       "5          no         301  ✅ trip verified | rome to prishtina via istanb...  \n",
       "7         yes         162  ✅ trip verified | flew on turkish airlines iad...  \n",
       "9          no          77  ✅ trip verified | mumbai to dublin via istanbu...  "
      ]
     },
     "execution_count": 679,
     "metadata": {},
     "output_type": "execute_result"
    }
   ],
   "source": [
    "# converting 'customer_review' to lowercase\n",
    "data_frame['lowercase'] = data_frame['customer_review'].apply(lambda x: \" \".join(word.lower() for word in x.split()))\n",
    "\n",
    "# check result\n",
    "data_frame.head()"
   ]
  },
  {
   "cell_type": "markdown",
   "id": "2a73b4e0",
   "metadata": {},
   "source": [
    "### Removing Punctuation"
   ]
  },
  {
   "cell_type": "code",
   "execution_count": 680,
   "id": "90ef55f3",
   "metadata": {
    "scrolled": true
   },
   "outputs": [
    {
     "name": "stderr",
     "output_type": "stream",
     "text": [
      "C:\\Users\\jorda\\AppData\\Local\\Temp/ipykernel_3120/2099087098.py:2: FutureWarning: The default value of regex will change from True to False in a future version.\n",
      "  data_frame['punctuation'] = data_frame['lowercase'].str.replace('[^\\w\\s]', '')\n"
     ]
    },
    {
     "data": {
      "text/html": [
       "<div>\n",
       "<style scoped>\n",
       "    .dataframe tbody tr th:only-of-type {\n",
       "        vertical-align: middle;\n",
       "    }\n",
       "\n",
       "    .dataframe tbody tr th {\n",
       "        vertical-align: top;\n",
       "    }\n",
       "\n",
       "    .dataframe thead th {\n",
       "        text-align: right;\n",
       "    }\n",
       "</style>\n",
       "<table border=\"1\" class=\"dataframe\">\n",
       "  <thead>\n",
       "    <tr style=\"text-align: right;\">\n",
       "      <th></th>\n",
       "      <th>airline</th>\n",
       "      <th>overall</th>\n",
       "      <th>author</th>\n",
       "      <th>review_date</th>\n",
       "      <th>customer_review</th>\n",
       "      <th>aircraft</th>\n",
       "      <th>traveller_type</th>\n",
       "      <th>cabin</th>\n",
       "      <th>route</th>\n",
       "      <th>date_flown</th>\n",
       "      <th>seat_comfort</th>\n",
       "      <th>cabin_service</th>\n",
       "      <th>food_bev</th>\n",
       "      <th>entertainment</th>\n",
       "      <th>ground_service</th>\n",
       "      <th>value_for_money</th>\n",
       "      <th>recommended</th>\n",
       "      <th>word_count</th>\n",
       "      <th>lowercase</th>\n",
       "      <th>punctuation</th>\n",
       "    </tr>\n",
       "  </thead>\n",
       "  <tbody>\n",
       "    <tr>\n",
       "      <th>1</th>\n",
       "      <td>Turkish Airlines</td>\n",
       "      <td>7.0</td>\n",
       "      <td>Christopher Hackley</td>\n",
       "      <td>8th May 2019</td>\n",
       "      <td>✅ Trip Verified | London to Izmir via Istanbul...</td>\n",
       "      <td>NaN</td>\n",
       "      <td>Business</td>\n",
       "      <td>Economy Class</td>\n",
       "      <td>London to Izmir via Istanbul</td>\n",
       "      <td>May-19</td>\n",
       "      <td>4.0</td>\n",
       "      <td>5.0</td>\n",
       "      <td>4.0</td>\n",
       "      <td>4.0</td>\n",
       "      <td>2.0</td>\n",
       "      <td>4.0</td>\n",
       "      <td>yes</td>\n",
       "      <td>208</td>\n",
       "      <td>✅ trip verified | london to izmir via istanbul...</td>\n",
       "      <td>trip verified  london to izmir via istanbul f...</td>\n",
       "    </tr>\n",
       "    <tr>\n",
       "      <th>3</th>\n",
       "      <td>Turkish Airlines</td>\n",
       "      <td>2.0</td>\n",
       "      <td>Adriana Pisoi</td>\n",
       "      <td>7th May 2019</td>\n",
       "      <td>✅ Trip Verified | Istanbul to Bucharest. We ma...</td>\n",
       "      <td>NaN</td>\n",
       "      <td>Family Leisure</td>\n",
       "      <td>Economy Class</td>\n",
       "      <td>Istanbul to Bucharest</td>\n",
       "      <td>May-19</td>\n",
       "      <td>4.0</td>\n",
       "      <td>1.0</td>\n",
       "      <td>1.0</td>\n",
       "      <td>1.0</td>\n",
       "      <td>1.0</td>\n",
       "      <td>1.0</td>\n",
       "      <td>no</td>\n",
       "      <td>89</td>\n",
       "      <td>✅ trip verified | istanbul to bucharest. we ma...</td>\n",
       "      <td>trip verified  istanbul to bucharest we make ...</td>\n",
       "    </tr>\n",
       "    <tr>\n",
       "      <th>5</th>\n",
       "      <td>Turkish Airlines</td>\n",
       "      <td>3.0</td>\n",
       "      <td>M Galerko</td>\n",
       "      <td>7th May 2019</td>\n",
       "      <td>✅ Trip Verified | Rome to Prishtina via Istanb...</td>\n",
       "      <td>NaN</td>\n",
       "      <td>Business</td>\n",
       "      <td>Economy Class</td>\n",
       "      <td>Rome to Prishtina via Istanbul</td>\n",
       "      <td>May-19</td>\n",
       "      <td>1.0</td>\n",
       "      <td>4.0</td>\n",
       "      <td>1.0</td>\n",
       "      <td>3.0</td>\n",
       "      <td>1.0</td>\n",
       "      <td>2.0</td>\n",
       "      <td>no</td>\n",
       "      <td>301</td>\n",
       "      <td>✅ trip verified | rome to prishtina via istanb...</td>\n",
       "      <td>trip verified  rome to prishtina via istanbul...</td>\n",
       "    </tr>\n",
       "    <tr>\n",
       "      <th>7</th>\n",
       "      <td>Turkish Airlines</td>\n",
       "      <td>10.0</td>\n",
       "      <td>Zeshan Shah</td>\n",
       "      <td>6th May 2019</td>\n",
       "      <td>✅ Trip Verified | Flew on Turkish Airlines IAD...</td>\n",
       "      <td>A330</td>\n",
       "      <td>Solo Leisure</td>\n",
       "      <td>Economy Class</td>\n",
       "      <td>Washington Dulles to Karachi</td>\n",
       "      <td>April 2019</td>\n",
       "      <td>4.0</td>\n",
       "      <td>5.0</td>\n",
       "      <td>5.0</td>\n",
       "      <td>5.0</td>\n",
       "      <td>5.0</td>\n",
       "      <td>5.0</td>\n",
       "      <td>yes</td>\n",
       "      <td>162</td>\n",
       "      <td>✅ trip verified | flew on turkish airlines iad...</td>\n",
       "      <td>trip verified  flew on turkish airlines iadis...</td>\n",
       "    </tr>\n",
       "    <tr>\n",
       "      <th>9</th>\n",
       "      <td>Turkish Airlines</td>\n",
       "      <td>1.0</td>\n",
       "      <td>Pooja Jain</td>\n",
       "      <td>6th May 2019</td>\n",
       "      <td>✅ Trip Verified | Mumbai to Dublin via Istanbu...</td>\n",
       "      <td>NaN</td>\n",
       "      <td>Solo Leisure</td>\n",
       "      <td>Economy Class</td>\n",
       "      <td>Mumbai to Dublin via Istanbul</td>\n",
       "      <td>May-19</td>\n",
       "      <td>1.0</td>\n",
       "      <td>1.0</td>\n",
       "      <td>1.0</td>\n",
       "      <td>1.0</td>\n",
       "      <td>1.0</td>\n",
       "      <td>1.0</td>\n",
       "      <td>no</td>\n",
       "      <td>77</td>\n",
       "      <td>✅ trip verified | mumbai to dublin via istanbu...</td>\n",
       "      <td>trip verified  mumbai to dublin via istanbul ...</td>\n",
       "    </tr>\n",
       "  </tbody>\n",
       "</table>\n",
       "</div>"
      ],
      "text/plain": [
       "            airline overall               author   review_date  \\\n",
       "1  Turkish Airlines     7.0  Christopher Hackley  8th May 2019   \n",
       "3  Turkish Airlines     2.0        Adriana Pisoi  7th May 2019   \n",
       "5  Turkish Airlines     3.0            M Galerko  7th May 2019   \n",
       "7  Turkish Airlines    10.0          Zeshan Shah  6th May 2019   \n",
       "9  Turkish Airlines     1.0           Pooja Jain  6th May 2019   \n",
       "\n",
       "                                     customer_review aircraft  traveller_type  \\\n",
       "1  ✅ Trip Verified | London to Izmir via Istanbul...      NaN        Business   \n",
       "3  ✅ Trip Verified | Istanbul to Bucharest. We ma...      NaN  Family Leisure   \n",
       "5  ✅ Trip Verified | Rome to Prishtina via Istanb...      NaN        Business   \n",
       "7  ✅ Trip Verified | Flew on Turkish Airlines IAD...     A330    Solo Leisure   \n",
       "9  ✅ Trip Verified | Mumbai to Dublin via Istanbu...      NaN    Solo Leisure   \n",
       "\n",
       "           cabin                           route  date_flown seat_comfort  \\\n",
       "1  Economy Class    London to Izmir via Istanbul      May-19          4.0   \n",
       "3  Economy Class           Istanbul to Bucharest      May-19          4.0   \n",
       "5  Economy Class  Rome to Prishtina via Istanbul      May-19          1.0   \n",
       "7  Economy Class    Washington Dulles to Karachi  April 2019          4.0   \n",
       "9  Economy Class   Mumbai to Dublin via Istanbul      May-19          1.0   \n",
       "\n",
       "  cabin_service food_bev entertainment ground_service value_for_money  \\\n",
       "1           5.0      4.0           4.0            2.0             4.0   \n",
       "3           1.0      1.0           1.0            1.0             1.0   \n",
       "5           4.0      1.0           3.0            1.0             2.0   \n",
       "7           5.0      5.0           5.0            5.0             5.0   \n",
       "9           1.0      1.0           1.0            1.0             1.0   \n",
       "\n",
       "  recommended  word_count                                          lowercase  \\\n",
       "1         yes         208  ✅ trip verified | london to izmir via istanbul...   \n",
       "3          no          89  ✅ trip verified | istanbul to bucharest. we ma...   \n",
       "5          no         301  ✅ trip verified | rome to prishtina via istanb...   \n",
       "7         yes         162  ✅ trip verified | flew on turkish airlines iad...   \n",
       "9          no          77  ✅ trip verified | mumbai to dublin via istanbu...   \n",
       "\n",
       "                                         punctuation  \n",
       "1   trip verified  london to izmir via istanbul f...  \n",
       "3   trip verified  istanbul to bucharest we make ...  \n",
       "5   trip verified  rome to prishtina via istanbul...  \n",
       "7   trip verified  flew on turkish airlines iadis...  \n",
       "9   trip verified  mumbai to dublin via istanbul ...  "
      ]
     },
     "execution_count": 680,
     "metadata": {},
     "output_type": "execute_result"
    }
   ],
   "source": [
    "# removing punctuation and adding to a new column in data frame\n",
    "data_frame['punctuation'] = data_frame['lowercase'].str.replace('[^\\w\\s]', '')\n",
    "data_frame.head()"
   ]
  },
  {
   "cell_type": "markdown",
   "id": "3c003494",
   "metadata": {},
   "source": [
    "### Removing Stopwords"
   ]
  },
  {
   "cell_type": "code",
   "execution_count": 681,
   "id": "aeb3c3c2",
   "metadata": {},
   "outputs": [],
   "source": [
    "# creating an english corpus of stop words\n",
    "stop_words = stopwords.words('english')"
   ]
  },
  {
   "cell_type": "code",
   "execution_count": 682,
   "id": "8c878b2a",
   "metadata": {},
   "outputs": [
    {
     "data": {
      "text/plain": [
       "179"
      ]
     },
     "execution_count": 682,
     "metadata": {},
     "output_type": "execute_result"
    }
   ],
   "source": [
    "# checking number of stop words available in this corpus\n",
    "len(stop_words)"
   ]
  },
  {
   "cell_type": "code",
   "execution_count": 683,
   "id": "6a0d3f44",
   "metadata": {},
   "outputs": [
    {
     "data": {
      "text/plain": [
       "['i',\n",
       " 'me',\n",
       " 'my',\n",
       " 'myself',\n",
       " 'we',\n",
       " 'our',\n",
       " 'ours',\n",
       " 'ourselves',\n",
       " 'you',\n",
       " \"you're\",\n",
       " \"you've\",\n",
       " \"you'll\",\n",
       " \"you'd\",\n",
       " 'your',\n",
       " 'yours',\n",
       " 'yourself',\n",
       " 'yourselves',\n",
       " 'he',\n",
       " 'him',\n",
       " 'his',\n",
       " 'himself',\n",
       " 'she',\n",
       " \"she's\",\n",
       " 'her',\n",
       " 'hers',\n",
       " 'herself',\n",
       " 'it',\n",
       " \"it's\",\n",
       " 'its',\n",
       " 'itself',\n",
       " 'they',\n",
       " 'them',\n",
       " 'their',\n",
       " 'theirs',\n",
       " 'themselves',\n",
       " 'what',\n",
       " 'which',\n",
       " 'who',\n",
       " 'whom',\n",
       " 'this',\n",
       " 'that',\n",
       " \"that'll\",\n",
       " 'these',\n",
       " 'those',\n",
       " 'am',\n",
       " 'is',\n",
       " 'are',\n",
       " 'was',\n",
       " 'were',\n",
       " 'be',\n",
       " 'been',\n",
       " 'being',\n",
       " 'have',\n",
       " 'has',\n",
       " 'had',\n",
       " 'having',\n",
       " 'do',\n",
       " 'does',\n",
       " 'did',\n",
       " 'doing',\n",
       " 'a',\n",
       " 'an',\n",
       " 'the',\n",
       " 'and',\n",
       " 'but',\n",
       " 'if',\n",
       " 'or',\n",
       " 'because',\n",
       " 'as',\n",
       " 'until',\n",
       " 'while',\n",
       " 'of',\n",
       " 'at',\n",
       " 'by',\n",
       " 'for',\n",
       " 'with',\n",
       " 'about',\n",
       " 'against',\n",
       " 'between',\n",
       " 'into',\n",
       " 'through',\n",
       " 'during',\n",
       " 'before',\n",
       " 'after',\n",
       " 'above',\n",
       " 'below',\n",
       " 'to',\n",
       " 'from',\n",
       " 'up',\n",
       " 'down',\n",
       " 'in',\n",
       " 'out',\n",
       " 'on',\n",
       " 'off',\n",
       " 'over',\n",
       " 'under',\n",
       " 'again',\n",
       " 'further',\n",
       " 'then',\n",
       " 'once',\n",
       " 'here',\n",
       " 'there',\n",
       " 'when',\n",
       " 'where',\n",
       " 'why',\n",
       " 'how',\n",
       " 'all',\n",
       " 'any',\n",
       " 'both',\n",
       " 'each',\n",
       " 'few',\n",
       " 'more',\n",
       " 'most',\n",
       " 'other',\n",
       " 'some',\n",
       " 'such',\n",
       " 'no',\n",
       " 'nor',\n",
       " 'not',\n",
       " 'only',\n",
       " 'own',\n",
       " 'same',\n",
       " 'so',\n",
       " 'than',\n",
       " 'too',\n",
       " 'very',\n",
       " 's',\n",
       " 't',\n",
       " 'can',\n",
       " 'will',\n",
       " 'just',\n",
       " 'don',\n",
       " \"don't\",\n",
       " 'should',\n",
       " \"should've\",\n",
       " 'now',\n",
       " 'd',\n",
       " 'll',\n",
       " 'm',\n",
       " 'o',\n",
       " 're',\n",
       " 've',\n",
       " 'y',\n",
       " 'ain',\n",
       " 'aren',\n",
       " \"aren't\",\n",
       " 'couldn',\n",
       " \"couldn't\",\n",
       " 'didn',\n",
       " \"didn't\",\n",
       " 'doesn',\n",
       " \"doesn't\",\n",
       " 'hadn',\n",
       " \"hadn't\",\n",
       " 'hasn',\n",
       " \"hasn't\",\n",
       " 'haven',\n",
       " \"haven't\",\n",
       " 'isn',\n",
       " \"isn't\",\n",
       " 'ma',\n",
       " 'mightn',\n",
       " \"mightn't\",\n",
       " 'mustn',\n",
       " \"mustn't\",\n",
       " 'needn',\n",
       " \"needn't\",\n",
       " 'shan',\n",
       " \"shan't\",\n",
       " 'shouldn',\n",
       " \"shouldn't\",\n",
       " 'wasn',\n",
       " \"wasn't\",\n",
       " 'weren',\n",
       " \"weren't\",\n",
       " 'won',\n",
       " \"won't\",\n",
       " 'wouldn',\n",
       " \"wouldn't\"]"
      ]
     },
     "execution_count": 683,
     "metadata": {},
     "output_type": "execute_result"
    }
   ],
   "source": [
    "# checking the stop words included\n",
    "stop_words"
   ]
  },
  {
   "cell_type": "code",
   "execution_count": 684,
   "id": "cc5a1548",
   "metadata": {},
   "outputs": [
    {
     "data": {
      "text/html": [
       "<div>\n",
       "<style scoped>\n",
       "    .dataframe tbody tr th:only-of-type {\n",
       "        vertical-align: middle;\n",
       "    }\n",
       "\n",
       "    .dataframe tbody tr th {\n",
       "        vertical-align: top;\n",
       "    }\n",
       "\n",
       "    .dataframe thead th {\n",
       "        text-align: right;\n",
       "    }\n",
       "</style>\n",
       "<table border=\"1\" class=\"dataframe\">\n",
       "  <thead>\n",
       "    <tr style=\"text-align: right;\">\n",
       "      <th></th>\n",
       "      <th>airline</th>\n",
       "      <th>overall</th>\n",
       "      <th>author</th>\n",
       "      <th>review_date</th>\n",
       "      <th>customer_review</th>\n",
       "      <th>aircraft</th>\n",
       "      <th>traveller_type</th>\n",
       "      <th>cabin</th>\n",
       "      <th>route</th>\n",
       "      <th>date_flown</th>\n",
       "      <th>...</th>\n",
       "      <th>cabin_service</th>\n",
       "      <th>food_bev</th>\n",
       "      <th>entertainment</th>\n",
       "      <th>ground_service</th>\n",
       "      <th>value_for_money</th>\n",
       "      <th>recommended</th>\n",
       "      <th>word_count</th>\n",
       "      <th>lowercase</th>\n",
       "      <th>punctuation</th>\n",
       "      <th>stop_words</th>\n",
       "    </tr>\n",
       "  </thead>\n",
       "  <tbody>\n",
       "    <tr>\n",
       "      <th>1</th>\n",
       "      <td>Turkish Airlines</td>\n",
       "      <td>7.0</td>\n",
       "      <td>Christopher Hackley</td>\n",
       "      <td>8th May 2019</td>\n",
       "      <td>✅ Trip Verified | London to Izmir via Istanbul...</td>\n",
       "      <td>NaN</td>\n",
       "      <td>Business</td>\n",
       "      <td>Economy Class</td>\n",
       "      <td>London to Izmir via Istanbul</td>\n",
       "      <td>May-19</td>\n",
       "      <td>...</td>\n",
       "      <td>5.0</td>\n",
       "      <td>4.0</td>\n",
       "      <td>4.0</td>\n",
       "      <td>2.0</td>\n",
       "      <td>4.0</td>\n",
       "      <td>yes</td>\n",
       "      <td>208</td>\n",
       "      <td>✅ trip verified | london to izmir via istanbul...</td>\n",
       "      <td>trip verified  london to izmir via istanbul f...</td>\n",
       "      <td>trip verified london izmir via istanbul first ...</td>\n",
       "    </tr>\n",
       "    <tr>\n",
       "      <th>3</th>\n",
       "      <td>Turkish Airlines</td>\n",
       "      <td>2.0</td>\n",
       "      <td>Adriana Pisoi</td>\n",
       "      <td>7th May 2019</td>\n",
       "      <td>✅ Trip Verified | Istanbul to Bucharest. We ma...</td>\n",
       "      <td>NaN</td>\n",
       "      <td>Family Leisure</td>\n",
       "      <td>Economy Class</td>\n",
       "      <td>Istanbul to Bucharest</td>\n",
       "      <td>May-19</td>\n",
       "      <td>...</td>\n",
       "      <td>1.0</td>\n",
       "      <td>1.0</td>\n",
       "      <td>1.0</td>\n",
       "      <td>1.0</td>\n",
       "      <td>1.0</td>\n",
       "      <td>no</td>\n",
       "      <td>89</td>\n",
       "      <td>✅ trip verified | istanbul to bucharest. we ma...</td>\n",
       "      <td>trip verified  istanbul to bucharest we make ...</td>\n",
       "      <td>trip verified istanbul bucharest make check ai...</td>\n",
       "    </tr>\n",
       "    <tr>\n",
       "      <th>5</th>\n",
       "      <td>Turkish Airlines</td>\n",
       "      <td>3.0</td>\n",
       "      <td>M Galerko</td>\n",
       "      <td>7th May 2019</td>\n",
       "      <td>✅ Trip Verified | Rome to Prishtina via Istanb...</td>\n",
       "      <td>NaN</td>\n",
       "      <td>Business</td>\n",
       "      <td>Economy Class</td>\n",
       "      <td>Rome to Prishtina via Istanbul</td>\n",
       "      <td>May-19</td>\n",
       "      <td>...</td>\n",
       "      <td>4.0</td>\n",
       "      <td>1.0</td>\n",
       "      <td>3.0</td>\n",
       "      <td>1.0</td>\n",
       "      <td>2.0</td>\n",
       "      <td>no</td>\n",
       "      <td>301</td>\n",
       "      <td>✅ trip verified | rome to prishtina via istanb...</td>\n",
       "      <td>trip verified  rome to prishtina via istanbul...</td>\n",
       "      <td>trip verified rome prishtina via istanbul flew...</td>\n",
       "    </tr>\n",
       "    <tr>\n",
       "      <th>7</th>\n",
       "      <td>Turkish Airlines</td>\n",
       "      <td>10.0</td>\n",
       "      <td>Zeshan Shah</td>\n",
       "      <td>6th May 2019</td>\n",
       "      <td>✅ Trip Verified | Flew on Turkish Airlines IAD...</td>\n",
       "      <td>A330</td>\n",
       "      <td>Solo Leisure</td>\n",
       "      <td>Economy Class</td>\n",
       "      <td>Washington Dulles to Karachi</td>\n",
       "      <td>April 2019</td>\n",
       "      <td>...</td>\n",
       "      <td>5.0</td>\n",
       "      <td>5.0</td>\n",
       "      <td>5.0</td>\n",
       "      <td>5.0</td>\n",
       "      <td>5.0</td>\n",
       "      <td>yes</td>\n",
       "      <td>162</td>\n",
       "      <td>✅ trip verified | flew on turkish airlines iad...</td>\n",
       "      <td>trip verified  flew on turkish airlines iadis...</td>\n",
       "      <td>trip verified flew turkish airlines iadistkhi ...</td>\n",
       "    </tr>\n",
       "    <tr>\n",
       "      <th>9</th>\n",
       "      <td>Turkish Airlines</td>\n",
       "      <td>1.0</td>\n",
       "      <td>Pooja Jain</td>\n",
       "      <td>6th May 2019</td>\n",
       "      <td>✅ Trip Verified | Mumbai to Dublin via Istanbu...</td>\n",
       "      <td>NaN</td>\n",
       "      <td>Solo Leisure</td>\n",
       "      <td>Economy Class</td>\n",
       "      <td>Mumbai to Dublin via Istanbul</td>\n",
       "      <td>May-19</td>\n",
       "      <td>...</td>\n",
       "      <td>1.0</td>\n",
       "      <td>1.0</td>\n",
       "      <td>1.0</td>\n",
       "      <td>1.0</td>\n",
       "      <td>1.0</td>\n",
       "      <td>no</td>\n",
       "      <td>77</td>\n",
       "      <td>✅ trip verified | mumbai to dublin via istanbu...</td>\n",
       "      <td>trip verified  mumbai to dublin via istanbul ...</td>\n",
       "      <td>trip verified mumbai dublin via istanbul never...</td>\n",
       "    </tr>\n",
       "  </tbody>\n",
       "</table>\n",
       "<p>5 rows × 21 columns</p>\n",
       "</div>"
      ],
      "text/plain": [
       "            airline overall               author   review_date  \\\n",
       "1  Turkish Airlines     7.0  Christopher Hackley  8th May 2019   \n",
       "3  Turkish Airlines     2.0        Adriana Pisoi  7th May 2019   \n",
       "5  Turkish Airlines     3.0            M Galerko  7th May 2019   \n",
       "7  Turkish Airlines    10.0          Zeshan Shah  6th May 2019   \n",
       "9  Turkish Airlines     1.0           Pooja Jain  6th May 2019   \n",
       "\n",
       "                                     customer_review aircraft  traveller_type  \\\n",
       "1  ✅ Trip Verified | London to Izmir via Istanbul...      NaN        Business   \n",
       "3  ✅ Trip Verified | Istanbul to Bucharest. We ma...      NaN  Family Leisure   \n",
       "5  ✅ Trip Verified | Rome to Prishtina via Istanb...      NaN        Business   \n",
       "7  ✅ Trip Verified | Flew on Turkish Airlines IAD...     A330    Solo Leisure   \n",
       "9  ✅ Trip Verified | Mumbai to Dublin via Istanbu...      NaN    Solo Leisure   \n",
       "\n",
       "           cabin                           route  date_flown  ...  \\\n",
       "1  Economy Class    London to Izmir via Istanbul      May-19  ...   \n",
       "3  Economy Class           Istanbul to Bucharest      May-19  ...   \n",
       "5  Economy Class  Rome to Prishtina via Istanbul      May-19  ...   \n",
       "7  Economy Class    Washington Dulles to Karachi  April 2019  ...   \n",
       "9  Economy Class   Mumbai to Dublin via Istanbul      May-19  ...   \n",
       "\n",
       "  cabin_service food_bev entertainment ground_service value_for_money  \\\n",
       "1           5.0      4.0           4.0            2.0             4.0   \n",
       "3           1.0      1.0           1.0            1.0             1.0   \n",
       "5           4.0      1.0           3.0            1.0             2.0   \n",
       "7           5.0      5.0           5.0            5.0             5.0   \n",
       "9           1.0      1.0           1.0            1.0             1.0   \n",
       "\n",
       "  recommended word_count                                          lowercase  \\\n",
       "1         yes        208  ✅ trip verified | london to izmir via istanbul...   \n",
       "3          no         89  ✅ trip verified | istanbul to bucharest. we ma...   \n",
       "5          no        301  ✅ trip verified | rome to prishtina via istanb...   \n",
       "7         yes        162  ✅ trip verified | flew on turkish airlines iad...   \n",
       "9          no         77  ✅ trip verified | mumbai to dublin via istanbu...   \n",
       "\n",
       "                                         punctuation  \\\n",
       "1   trip verified  london to izmir via istanbul f...   \n",
       "3   trip verified  istanbul to bucharest we make ...   \n",
       "5   trip verified  rome to prishtina via istanbul...   \n",
       "7   trip verified  flew on turkish airlines iadis...   \n",
       "9   trip verified  mumbai to dublin via istanbul ...   \n",
       "\n",
       "                                          stop_words  \n",
       "1  trip verified london izmir via istanbul first ...  \n",
       "3  trip verified istanbul bucharest make check ai...  \n",
       "5  trip verified rome prishtina via istanbul flew...  \n",
       "7  trip verified flew turkish airlines iadistkhi ...  \n",
       "9  trip verified mumbai dublin via istanbul never...  \n",
       "\n",
       "[5 rows x 21 columns]"
      ]
     },
     "execution_count": 684,
     "metadata": {},
     "output_type": "execute_result"
    }
   ],
   "source": [
    "# loop through every word in review in 'punctuation' col, if the word is not a stop word, return it; if it is, then don't return it\n",
    "data_frame['stop_words'] = data_frame['punctuation'].apply(lambda x: \" \".join(word for word in x.split() if word not in stop_words))\n",
    "data_frame.head()"
   ]
  },
  {
   "cell_type": "markdown",
   "id": "6ce79c21",
   "metadata": {},
   "source": [
    "### Frequency Count\n",
    "#### The term 'trip verified' appears at the beginning of all of these reviews. I want to do a word frequency count to check if there is any other words or terms which are not stop words appearing in the reviews though, may not provide any kind of predictive value."
   ]
  },
  {
   "cell_type": "code",
   "execution_count": 685,
   "id": "0ecba78e",
   "metadata": {
    "scrolled": false
   },
   "outputs": [
    {
     "data": {
      "text/plain": [
       "flight           56082\n",
       "service          19984\n",
       "verified         19436\n",
       "time             17409\n",
       "food             15188\n",
       "good             14696\n",
       "seat             14256\n",
       "trip             13587\n",
       "seats            12928\n",
       "crew             12703\n",
       "staff            11935\n",
       "airline          11475\n",
       "one              11452\n",
       "would            11364\n",
       "airlines         11036\n",
       "cabin            10937\n",
       "us               10766\n",
       "class            10327\n",
       "flights          10125\n",
       "plane             9850\n",
       "hours             9707\n",
       "review            9646\n",
       "get               9203\n",
       "via               9084\n",
       "airport           9080\n",
       "air               8817\n",
       "business          8690\n",
       "first             8414\n",
       "even              7887\n",
       "experience        7470\n",
       "economy           7338\n",
       "new               7271\n",
       "boarding          7166\n",
       "passengers        7160\n",
       "fly               7158\n",
       "back              7019\n",
       "could             7007\n",
       "hour              6866\n",
       "entertainment     6367\n",
       "meal              6210\n",
       "told              6190\n",
       "check             6177\n",
       "aircraft          5808\n",
       "great             5792\n",
       "comfortable       5634\n",
       "delayed           5624\n",
       "also              5602\n",
       "got               5553\n",
       "luggage           5447\n",
       "return            5380\n",
       "dtype: int64"
      ]
     },
     "execution_count": 685,
     "metadata": {},
     "output_type": "execute_result"
    }
   ],
   "source": [
    "##### creating panda series of an array of all the words contained in the reviews\n",
    "    # doing this by creating one giant review containing all words from all reviews\n",
    "    # filtering by the top 50 results w/ [:50]\n",
    "pd.Series(\" \".join(data_frame['stop_words']).split()).value_counts()[:50]"
   ]
  },
  {
   "cell_type": "code",
   "execution_count": 686,
   "id": "55f77c55",
   "metadata": {},
   "outputs": [
    {
     "data": {
      "text/plain": [
       "['verified',\n",
       " 'trip',\n",
       " 'get',\n",
       " 'got',\n",
       " 'via',\n",
       " 'us',\n",
       " 'would',\n",
       " 'also',\n",
       " 'even',\n",
       " 'one',\n",
       " 'could',\n",
       " 'told',\n",
       " 'like',\n",
       " 'didnt']"
      ]
     },
     "execution_count": 686,
     "metadata": {},
     "output_type": "execute_result"
    }
   ],
   "source": [
    "# now creating a list of extended stop words to remove, other words which may not provide predictive value\n",
    "other_stop_words = ['verified', 'trip', 'get', 'got', 'via', 'us', 'would', 'also', 'even', 'one', 'could', 'told', 'like', 'didnt']\n",
    "other_stop_words"
   ]
  },
  {
   "cell_type": "markdown",
   "id": "410efd03",
   "metadata": {},
   "source": [
    "### Removing Further Stop Words\n",
    "##### Now removing some other popular words which appeared in the top 50 results of frequent words. These words were chosen as they will not provide any predictive value, similar to the stop words list before. I will then add the cleaned reviews to a new column."
   ]
  },
  {
   "cell_type": "code",
   "execution_count": 687,
   "id": "88f2cc22",
   "metadata": {},
   "outputs": [
    {
     "data": {
      "text/html": [
       "<div>\n",
       "<style scoped>\n",
       "    .dataframe tbody tr th:only-of-type {\n",
       "        vertical-align: middle;\n",
       "    }\n",
       "\n",
       "    .dataframe tbody tr th {\n",
       "        vertical-align: top;\n",
       "    }\n",
       "\n",
       "    .dataframe thead th {\n",
       "        text-align: right;\n",
       "    }\n",
       "</style>\n",
       "<table border=\"1\" class=\"dataframe\">\n",
       "  <thead>\n",
       "    <tr style=\"text-align: right;\">\n",
       "      <th></th>\n",
       "      <th>airline</th>\n",
       "      <th>overall</th>\n",
       "      <th>author</th>\n",
       "      <th>review_date</th>\n",
       "      <th>customer_review</th>\n",
       "      <th>aircraft</th>\n",
       "      <th>traveller_type</th>\n",
       "      <th>cabin</th>\n",
       "      <th>route</th>\n",
       "      <th>date_flown</th>\n",
       "      <th>...</th>\n",
       "      <th>food_bev</th>\n",
       "      <th>entertainment</th>\n",
       "      <th>ground_service</th>\n",
       "      <th>value_for_money</th>\n",
       "      <th>recommended</th>\n",
       "      <th>word_count</th>\n",
       "      <th>lowercase</th>\n",
       "      <th>punctuation</th>\n",
       "      <th>stop_words</th>\n",
       "      <th>clean_review</th>\n",
       "    </tr>\n",
       "  </thead>\n",
       "  <tbody>\n",
       "    <tr>\n",
       "      <th>1</th>\n",
       "      <td>Turkish Airlines</td>\n",
       "      <td>7.0</td>\n",
       "      <td>Christopher Hackley</td>\n",
       "      <td>8th May 2019</td>\n",
       "      <td>✅ Trip Verified | London to Izmir via Istanbul...</td>\n",
       "      <td>NaN</td>\n",
       "      <td>Business</td>\n",
       "      <td>Economy Class</td>\n",
       "      <td>London to Izmir via Istanbul</td>\n",
       "      <td>May-19</td>\n",
       "      <td>...</td>\n",
       "      <td>4.0</td>\n",
       "      <td>4.0</td>\n",
       "      <td>2.0</td>\n",
       "      <td>4.0</td>\n",
       "      <td>yes</td>\n",
       "      <td>208</td>\n",
       "      <td>✅ trip verified | london to izmir via istanbul...</td>\n",
       "      <td>trip verified  london to izmir via istanbul f...</td>\n",
       "      <td>trip verified london izmir via istanbul first ...</td>\n",
       "      <td>london izmir istanbul first time id flown tk f...</td>\n",
       "    </tr>\n",
       "    <tr>\n",
       "      <th>3</th>\n",
       "      <td>Turkish Airlines</td>\n",
       "      <td>2.0</td>\n",
       "      <td>Adriana Pisoi</td>\n",
       "      <td>7th May 2019</td>\n",
       "      <td>✅ Trip Verified | Istanbul to Bucharest. We ma...</td>\n",
       "      <td>NaN</td>\n",
       "      <td>Family Leisure</td>\n",
       "      <td>Economy Class</td>\n",
       "      <td>Istanbul to Bucharest</td>\n",
       "      <td>May-19</td>\n",
       "      <td>...</td>\n",
       "      <td>1.0</td>\n",
       "      <td>1.0</td>\n",
       "      <td>1.0</td>\n",
       "      <td>1.0</td>\n",
       "      <td>no</td>\n",
       "      <td>89</td>\n",
       "      <td>✅ trip verified | istanbul to bucharest. we ma...</td>\n",
       "      <td>trip verified  istanbul to bucharest we make ...</td>\n",
       "      <td>trip verified istanbul bucharest make check ai...</td>\n",
       "      <td>istanbul bucharest make check airport take lug...</td>\n",
       "    </tr>\n",
       "    <tr>\n",
       "      <th>5</th>\n",
       "      <td>Turkish Airlines</td>\n",
       "      <td>3.0</td>\n",
       "      <td>M Galerko</td>\n",
       "      <td>7th May 2019</td>\n",
       "      <td>✅ Trip Verified | Rome to Prishtina via Istanb...</td>\n",
       "      <td>NaN</td>\n",
       "      <td>Business</td>\n",
       "      <td>Economy Class</td>\n",
       "      <td>Rome to Prishtina via Istanbul</td>\n",
       "      <td>May-19</td>\n",
       "      <td>...</td>\n",
       "      <td>1.0</td>\n",
       "      <td>3.0</td>\n",
       "      <td>1.0</td>\n",
       "      <td>2.0</td>\n",
       "      <td>no</td>\n",
       "      <td>301</td>\n",
       "      <td>✅ trip verified | rome to prishtina via istanb...</td>\n",
       "      <td>trip verified  rome to prishtina via istanbul...</td>\n",
       "      <td>trip verified rome prishtina via istanbul flew...</td>\n",
       "      <td>rome prishtina istanbul flew company several t...</td>\n",
       "    </tr>\n",
       "    <tr>\n",
       "      <th>7</th>\n",
       "      <td>Turkish Airlines</td>\n",
       "      <td>10.0</td>\n",
       "      <td>Zeshan Shah</td>\n",
       "      <td>6th May 2019</td>\n",
       "      <td>✅ Trip Verified | Flew on Turkish Airlines IAD...</td>\n",
       "      <td>A330</td>\n",
       "      <td>Solo Leisure</td>\n",
       "      <td>Economy Class</td>\n",
       "      <td>Washington Dulles to Karachi</td>\n",
       "      <td>April 2019</td>\n",
       "      <td>...</td>\n",
       "      <td>5.0</td>\n",
       "      <td>5.0</td>\n",
       "      <td>5.0</td>\n",
       "      <td>5.0</td>\n",
       "      <td>yes</td>\n",
       "      <td>162</td>\n",
       "      <td>✅ trip verified | flew on turkish airlines iad...</td>\n",
       "      <td>trip verified  flew on turkish airlines iadis...</td>\n",
       "      <td>trip verified flew turkish airlines iadistkhi ...</td>\n",
       "      <td>flew turkish airlines iadistkhi return khiisti...</td>\n",
       "    </tr>\n",
       "    <tr>\n",
       "      <th>9</th>\n",
       "      <td>Turkish Airlines</td>\n",
       "      <td>1.0</td>\n",
       "      <td>Pooja Jain</td>\n",
       "      <td>6th May 2019</td>\n",
       "      <td>✅ Trip Verified | Mumbai to Dublin via Istanbu...</td>\n",
       "      <td>NaN</td>\n",
       "      <td>Solo Leisure</td>\n",
       "      <td>Economy Class</td>\n",
       "      <td>Mumbai to Dublin via Istanbul</td>\n",
       "      <td>May-19</td>\n",
       "      <td>...</td>\n",
       "      <td>1.0</td>\n",
       "      <td>1.0</td>\n",
       "      <td>1.0</td>\n",
       "      <td>1.0</td>\n",
       "      <td>no</td>\n",
       "      <td>77</td>\n",
       "      <td>✅ trip verified | mumbai to dublin via istanbu...</td>\n",
       "      <td>trip verified  mumbai to dublin via istanbul ...</td>\n",
       "      <td>trip verified mumbai dublin via istanbul never...</td>\n",
       "      <td>mumbai dublin istanbul never book turkish airl...</td>\n",
       "    </tr>\n",
       "  </tbody>\n",
       "</table>\n",
       "<p>5 rows × 22 columns</p>\n",
       "</div>"
      ],
      "text/plain": [
       "            airline overall               author   review_date  \\\n",
       "1  Turkish Airlines     7.0  Christopher Hackley  8th May 2019   \n",
       "3  Turkish Airlines     2.0        Adriana Pisoi  7th May 2019   \n",
       "5  Turkish Airlines     3.0            M Galerko  7th May 2019   \n",
       "7  Turkish Airlines    10.0          Zeshan Shah  6th May 2019   \n",
       "9  Turkish Airlines     1.0           Pooja Jain  6th May 2019   \n",
       "\n",
       "                                     customer_review aircraft  traveller_type  \\\n",
       "1  ✅ Trip Verified | London to Izmir via Istanbul...      NaN        Business   \n",
       "3  ✅ Trip Verified | Istanbul to Bucharest. We ma...      NaN  Family Leisure   \n",
       "5  ✅ Trip Verified | Rome to Prishtina via Istanb...      NaN        Business   \n",
       "7  ✅ Trip Verified | Flew on Turkish Airlines IAD...     A330    Solo Leisure   \n",
       "9  ✅ Trip Verified | Mumbai to Dublin via Istanbu...      NaN    Solo Leisure   \n",
       "\n",
       "           cabin                           route  date_flown  ... food_bev  \\\n",
       "1  Economy Class    London to Izmir via Istanbul      May-19  ...      4.0   \n",
       "3  Economy Class           Istanbul to Bucharest      May-19  ...      1.0   \n",
       "5  Economy Class  Rome to Prishtina via Istanbul      May-19  ...      1.0   \n",
       "7  Economy Class    Washington Dulles to Karachi  April 2019  ...      5.0   \n",
       "9  Economy Class   Mumbai to Dublin via Istanbul      May-19  ...      1.0   \n",
       "\n",
       "  entertainment ground_service value_for_money recommended word_count  \\\n",
       "1           4.0            2.0             4.0         yes        208   \n",
       "3           1.0            1.0             1.0          no         89   \n",
       "5           3.0            1.0             2.0          no        301   \n",
       "7           5.0            5.0             5.0         yes        162   \n",
       "9           1.0            1.0             1.0          no         77   \n",
       "\n",
       "                                           lowercase  \\\n",
       "1  ✅ trip verified | london to izmir via istanbul...   \n",
       "3  ✅ trip verified | istanbul to bucharest. we ma...   \n",
       "5  ✅ trip verified | rome to prishtina via istanb...   \n",
       "7  ✅ trip verified | flew on turkish airlines iad...   \n",
       "9  ✅ trip verified | mumbai to dublin via istanbu...   \n",
       "\n",
       "                                         punctuation  \\\n",
       "1   trip verified  london to izmir via istanbul f...   \n",
       "3   trip verified  istanbul to bucharest we make ...   \n",
       "5   trip verified  rome to prishtina via istanbul...   \n",
       "7   trip verified  flew on turkish airlines iadis...   \n",
       "9   trip verified  mumbai to dublin via istanbul ...   \n",
       "\n",
       "                                          stop_words  \\\n",
       "1  trip verified london izmir via istanbul first ...   \n",
       "3  trip verified istanbul bucharest make check ai...   \n",
       "5  trip verified rome prishtina via istanbul flew...   \n",
       "7  trip verified flew turkish airlines iadistkhi ...   \n",
       "9  trip verified mumbai dublin via istanbul never...   \n",
       "\n",
       "                                        clean_review  \n",
       "1  london izmir istanbul first time id flown tk f...  \n",
       "3  istanbul bucharest make check airport take lug...  \n",
       "5  rome prishtina istanbul flew company several t...  \n",
       "7  flew turkish airlines iadistkhi return khiisti...  \n",
       "9  mumbai dublin istanbul never book turkish airl...  \n",
       "\n",
       "[5 rows x 22 columns]"
      ]
     },
     "execution_count": 687,
     "metadata": {},
     "output_type": "execute_result"
    }
   ],
   "source": [
    "# create a column of cleaned reviews when removing extended stop words from the original stop words cleaned reviews\n",
    "data_frame['clean_review'] = data_frame['stop_words'].apply(lambda x: \" \".join(word for word in x.split() if word not in other_stop_words))\n",
    "data_frame.head()"
   ]
  },
  {
   "cell_type": "markdown",
   "id": "4090574c",
   "metadata": {},
   "source": [
    "### Frequency Count Again...\n",
    "##### Getting another frequency count of words in the reviews in order to see if any other non predictive / non helpful words appear in the top results. If so, I will add these to the above list of 'other_stop_words' in order to remove them"
   ]
  },
  {
   "cell_type": "code",
   "execution_count": 688,
   "id": "1a3feb32",
   "metadata": {},
   "outputs": [
    {
     "data": {
      "text/plain": [
       "flight           56082\n",
       "service          19984\n",
       "time             17409\n",
       "food             15188\n",
       "good             14696\n",
       "seat             14256\n",
       "seats            12928\n",
       "crew             12703\n",
       "staff            11935\n",
       "airline          11475\n",
       "airlines         11036\n",
       "cabin            10937\n",
       "class            10327\n",
       "flights          10125\n",
       "plane             9850\n",
       "hours             9707\n",
       "review            9646\n",
       "airport           9080\n",
       "air               8817\n",
       "business          8690\n",
       "first             8414\n",
       "experience        7470\n",
       "economy           7338\n",
       "new               7271\n",
       "boarding          7166\n",
       "passengers        7160\n",
       "fly               7158\n",
       "back              7019\n",
       "hour              6866\n",
       "entertainment     6367\n",
       "meal              6210\n",
       "check             6177\n",
       "aircraft          5808\n",
       "great             5792\n",
       "comfortable       5634\n",
       "delayed           5624\n",
       "luggage           5447\n",
       "return            5380\n",
       "minutes           5295\n",
       "never             5291\n",
       "flying            5152\n",
       "2                 5112\n",
       "friendly          5075\n",
       "customer          4977\n",
       "flew              4821\n",
       "gate              4802\n",
       "nice              4792\n",
       "london            4784\n",
       "well              4758\n",
       "way               4713\n",
       "dtype: int64"
      ]
     },
     "execution_count": 688,
     "metadata": {},
     "output_type": "execute_result"
    }
   ],
   "source": [
    "# getting a new frequency count to check for more words, returning top 50 results\n",
    "pd.Series(\" \".join(data_frame['clean_review']).split()).value_counts()[:50]"
   ]
  },
  {
   "cell_type": "code",
   "execution_count": 689,
   "id": "8c94e5a8",
   "metadata": {},
   "outputs": [
    {
     "data": {
      "text/html": [
       "<div>\n",
       "<style scoped>\n",
       "    .dataframe tbody tr th:only-of-type {\n",
       "        vertical-align: middle;\n",
       "    }\n",
       "\n",
       "    .dataframe tbody tr th {\n",
       "        vertical-align: top;\n",
       "    }\n",
       "\n",
       "    .dataframe thead th {\n",
       "        text-align: right;\n",
       "    }\n",
       "</style>\n",
       "<table border=\"1\" class=\"dataframe\">\n",
       "  <thead>\n",
       "    <tr style=\"text-align: right;\">\n",
       "      <th></th>\n",
       "      <th>airline</th>\n",
       "      <th>overall</th>\n",
       "      <th>author</th>\n",
       "      <th>review_date</th>\n",
       "      <th>customer_review</th>\n",
       "      <th>aircraft</th>\n",
       "      <th>traveller_type</th>\n",
       "      <th>cabin</th>\n",
       "      <th>route</th>\n",
       "      <th>date_flown</th>\n",
       "      <th>...</th>\n",
       "      <th>food_bev</th>\n",
       "      <th>entertainment</th>\n",
       "      <th>ground_service</th>\n",
       "      <th>value_for_money</th>\n",
       "      <th>recommended</th>\n",
       "      <th>word_count</th>\n",
       "      <th>lowercase</th>\n",
       "      <th>punctuation</th>\n",
       "      <th>stop_words</th>\n",
       "      <th>clean_review</th>\n",
       "    </tr>\n",
       "  </thead>\n",
       "  <tbody>\n",
       "    <tr>\n",
       "      <th>1</th>\n",
       "      <td>Turkish Airlines</td>\n",
       "      <td>7.0</td>\n",
       "      <td>Christopher Hackley</td>\n",
       "      <td>8th May 2019</td>\n",
       "      <td>✅ Trip Verified | London to Izmir via Istanbul...</td>\n",
       "      <td>NaN</td>\n",
       "      <td>Business</td>\n",
       "      <td>Economy Class</td>\n",
       "      <td>London to Izmir via Istanbul</td>\n",
       "      <td>May-19</td>\n",
       "      <td>...</td>\n",
       "      <td>4.0</td>\n",
       "      <td>4.0</td>\n",
       "      <td>2.0</td>\n",
       "      <td>4.0</td>\n",
       "      <td>yes</td>\n",
       "      <td>208</td>\n",
       "      <td>✅ trip verified | london to izmir via istanbul...</td>\n",
       "      <td>trip verified  london to izmir via istanbul f...</td>\n",
       "      <td>trip verified london izmir via istanbul first ...</td>\n",
       "      <td>london izmir istanbul first time id flown tk f...</td>\n",
       "    </tr>\n",
       "    <tr>\n",
       "      <th>3</th>\n",
       "      <td>Turkish Airlines</td>\n",
       "      <td>2.0</td>\n",
       "      <td>Adriana Pisoi</td>\n",
       "      <td>7th May 2019</td>\n",
       "      <td>✅ Trip Verified | Istanbul to Bucharest. We ma...</td>\n",
       "      <td>NaN</td>\n",
       "      <td>Family Leisure</td>\n",
       "      <td>Economy Class</td>\n",
       "      <td>Istanbul to Bucharest</td>\n",
       "      <td>May-19</td>\n",
       "      <td>...</td>\n",
       "      <td>1.0</td>\n",
       "      <td>1.0</td>\n",
       "      <td>1.0</td>\n",
       "      <td>1.0</td>\n",
       "      <td>no</td>\n",
       "      <td>89</td>\n",
       "      <td>✅ trip verified | istanbul to bucharest. we ma...</td>\n",
       "      <td>trip verified  istanbul to bucharest we make ...</td>\n",
       "      <td>trip verified istanbul bucharest make check ai...</td>\n",
       "      <td>istanbul bucharest make check airport take lug...</td>\n",
       "    </tr>\n",
       "    <tr>\n",
       "      <th>5</th>\n",
       "      <td>Turkish Airlines</td>\n",
       "      <td>3.0</td>\n",
       "      <td>M Galerko</td>\n",
       "      <td>7th May 2019</td>\n",
       "      <td>✅ Trip Verified | Rome to Prishtina via Istanb...</td>\n",
       "      <td>NaN</td>\n",
       "      <td>Business</td>\n",
       "      <td>Economy Class</td>\n",
       "      <td>Rome to Prishtina via Istanbul</td>\n",
       "      <td>May-19</td>\n",
       "      <td>...</td>\n",
       "      <td>1.0</td>\n",
       "      <td>3.0</td>\n",
       "      <td>1.0</td>\n",
       "      <td>2.0</td>\n",
       "      <td>no</td>\n",
       "      <td>301</td>\n",
       "      <td>✅ trip verified | rome to prishtina via istanb...</td>\n",
       "      <td>trip verified  rome to prishtina via istanbul...</td>\n",
       "      <td>trip verified rome prishtina via istanbul flew...</td>\n",
       "      <td>rome prishtina istanbul flew company several t...</td>\n",
       "    </tr>\n",
       "    <tr>\n",
       "      <th>7</th>\n",
       "      <td>Turkish Airlines</td>\n",
       "      <td>10.0</td>\n",
       "      <td>Zeshan Shah</td>\n",
       "      <td>6th May 2019</td>\n",
       "      <td>✅ Trip Verified | Flew on Turkish Airlines IAD...</td>\n",
       "      <td>A330</td>\n",
       "      <td>Solo Leisure</td>\n",
       "      <td>Economy Class</td>\n",
       "      <td>Washington Dulles to Karachi</td>\n",
       "      <td>April 2019</td>\n",
       "      <td>...</td>\n",
       "      <td>5.0</td>\n",
       "      <td>5.0</td>\n",
       "      <td>5.0</td>\n",
       "      <td>5.0</td>\n",
       "      <td>yes</td>\n",
       "      <td>162</td>\n",
       "      <td>✅ trip verified | flew on turkish airlines iad...</td>\n",
       "      <td>trip verified  flew on turkish airlines iadis...</td>\n",
       "      <td>trip verified flew turkish airlines iadistkhi ...</td>\n",
       "      <td>flew turkish airlines iadistkhi return khiisti...</td>\n",
       "    </tr>\n",
       "    <tr>\n",
       "      <th>9</th>\n",
       "      <td>Turkish Airlines</td>\n",
       "      <td>1.0</td>\n",
       "      <td>Pooja Jain</td>\n",
       "      <td>6th May 2019</td>\n",
       "      <td>✅ Trip Verified | Mumbai to Dublin via Istanbu...</td>\n",
       "      <td>NaN</td>\n",
       "      <td>Solo Leisure</td>\n",
       "      <td>Economy Class</td>\n",
       "      <td>Mumbai to Dublin via Istanbul</td>\n",
       "      <td>May-19</td>\n",
       "      <td>...</td>\n",
       "      <td>1.0</td>\n",
       "      <td>1.0</td>\n",
       "      <td>1.0</td>\n",
       "      <td>1.0</td>\n",
       "      <td>no</td>\n",
       "      <td>77</td>\n",
       "      <td>✅ trip verified | mumbai to dublin via istanbu...</td>\n",
       "      <td>trip verified  mumbai to dublin via istanbul ...</td>\n",
       "      <td>trip verified mumbai dublin via istanbul never...</td>\n",
       "      <td>mumbai dublin istanbul never book turkish airl...</td>\n",
       "    </tr>\n",
       "  </tbody>\n",
       "</table>\n",
       "<p>5 rows × 22 columns</p>\n",
       "</div>"
      ],
      "text/plain": [
       "            airline overall               author   review_date  \\\n",
       "1  Turkish Airlines     7.0  Christopher Hackley  8th May 2019   \n",
       "3  Turkish Airlines     2.0        Adriana Pisoi  7th May 2019   \n",
       "5  Turkish Airlines     3.0            M Galerko  7th May 2019   \n",
       "7  Turkish Airlines    10.0          Zeshan Shah  6th May 2019   \n",
       "9  Turkish Airlines     1.0           Pooja Jain  6th May 2019   \n",
       "\n",
       "                                     customer_review aircraft  traveller_type  \\\n",
       "1  ✅ Trip Verified | London to Izmir via Istanbul...      NaN        Business   \n",
       "3  ✅ Trip Verified | Istanbul to Bucharest. We ma...      NaN  Family Leisure   \n",
       "5  ✅ Trip Verified | Rome to Prishtina via Istanb...      NaN        Business   \n",
       "7  ✅ Trip Verified | Flew on Turkish Airlines IAD...     A330    Solo Leisure   \n",
       "9  ✅ Trip Verified | Mumbai to Dublin via Istanbu...      NaN    Solo Leisure   \n",
       "\n",
       "           cabin                           route  date_flown  ... food_bev  \\\n",
       "1  Economy Class    London to Izmir via Istanbul      May-19  ...      4.0   \n",
       "3  Economy Class           Istanbul to Bucharest      May-19  ...      1.0   \n",
       "5  Economy Class  Rome to Prishtina via Istanbul      May-19  ...      1.0   \n",
       "7  Economy Class    Washington Dulles to Karachi  April 2019  ...      5.0   \n",
       "9  Economy Class   Mumbai to Dublin via Istanbul      May-19  ...      1.0   \n",
       "\n",
       "  entertainment ground_service value_for_money recommended word_count  \\\n",
       "1           4.0            2.0             4.0         yes        208   \n",
       "3           1.0            1.0             1.0          no         89   \n",
       "5           3.0            1.0             2.0          no        301   \n",
       "7           5.0            5.0             5.0         yes        162   \n",
       "9           1.0            1.0             1.0          no         77   \n",
       "\n",
       "                                           lowercase  \\\n",
       "1  ✅ trip verified | london to izmir via istanbul...   \n",
       "3  ✅ trip verified | istanbul to bucharest. we ma...   \n",
       "5  ✅ trip verified | rome to prishtina via istanb...   \n",
       "7  ✅ trip verified | flew on turkish airlines iad...   \n",
       "9  ✅ trip verified | mumbai to dublin via istanbu...   \n",
       "\n",
       "                                         punctuation  \\\n",
       "1   trip verified  london to izmir via istanbul f...   \n",
       "3   trip verified  istanbul to bucharest we make ...   \n",
       "5   trip verified  rome to prishtina via istanbul...   \n",
       "7   trip verified  flew on turkish airlines iadis...   \n",
       "9   trip verified  mumbai to dublin via istanbul ...   \n",
       "\n",
       "                                          stop_words  \\\n",
       "1  trip verified london izmir via istanbul first ...   \n",
       "3  trip verified istanbul bucharest make check ai...   \n",
       "5  trip verified rome prishtina via istanbul flew...   \n",
       "7  trip verified flew turkish airlines iadistkhi ...   \n",
       "9  trip verified mumbai dublin via istanbul never...   \n",
       "\n",
       "                                        clean_review  \n",
       "1  london izmir istanbul first time id flown tk f...  \n",
       "3  istanbul bucharest make check airport take lug...  \n",
       "5  rome prishtina istanbul flew company several t...  \n",
       "7  flew turkish airlines iadistkhi return khiisti...  \n",
       "9  mumbai dublin istanbul never book turkish airl...  \n",
       "\n",
       "[5 rows x 22 columns]"
      ]
     },
     "execution_count": 689,
     "metadata": {},
     "output_type": "execute_result"
    }
   ],
   "source": [
    "data_frame.head()"
   ]
  },
  {
   "cell_type": "markdown",
   "id": "53192621",
   "metadata": {},
   "source": [
    "### Lemmatization\n",
    "#### This is the process of taking words and reducing them to the base meaning i.e. cutting back words from their different endings"
   ]
  },
  {
   "cell_type": "code",
   "execution_count": 690,
   "id": "dfcfa242",
   "metadata": {},
   "outputs": [
    {
     "data": {
      "text/html": [
       "<div>\n",
       "<style scoped>\n",
       "    .dataframe tbody tr th:only-of-type {\n",
       "        vertical-align: middle;\n",
       "    }\n",
       "\n",
       "    .dataframe tbody tr th {\n",
       "        vertical-align: top;\n",
       "    }\n",
       "\n",
       "    .dataframe thead th {\n",
       "        text-align: right;\n",
       "    }\n",
       "</style>\n",
       "<table border=\"1\" class=\"dataframe\">\n",
       "  <thead>\n",
       "    <tr style=\"text-align: right;\">\n",
       "      <th></th>\n",
       "      <th>airline</th>\n",
       "      <th>overall</th>\n",
       "      <th>author</th>\n",
       "      <th>review_date</th>\n",
       "      <th>customer_review</th>\n",
       "      <th>aircraft</th>\n",
       "      <th>traveller_type</th>\n",
       "      <th>cabin</th>\n",
       "      <th>route</th>\n",
       "      <th>date_flown</th>\n",
       "      <th>...</th>\n",
       "      <th>entertainment</th>\n",
       "      <th>ground_service</th>\n",
       "      <th>value_for_money</th>\n",
       "      <th>recommended</th>\n",
       "      <th>word_count</th>\n",
       "      <th>lowercase</th>\n",
       "      <th>punctuation</th>\n",
       "      <th>stop_words</th>\n",
       "      <th>clean_review</th>\n",
       "      <th>lemmatized</th>\n",
       "    </tr>\n",
       "  </thead>\n",
       "  <tbody>\n",
       "    <tr>\n",
       "      <th>1</th>\n",
       "      <td>Turkish Airlines</td>\n",
       "      <td>7.0</td>\n",
       "      <td>Christopher Hackley</td>\n",
       "      <td>8th May 2019</td>\n",
       "      <td>✅ Trip Verified | London to Izmir via Istanbul...</td>\n",
       "      <td>NaN</td>\n",
       "      <td>Business</td>\n",
       "      <td>Economy Class</td>\n",
       "      <td>London to Izmir via Istanbul</td>\n",
       "      <td>May-19</td>\n",
       "      <td>...</td>\n",
       "      <td>4.0</td>\n",
       "      <td>2.0</td>\n",
       "      <td>4.0</td>\n",
       "      <td>yes</td>\n",
       "      <td>208</td>\n",
       "      <td>✅ trip verified | london to izmir via istanbul...</td>\n",
       "      <td>trip verified  london to izmir via istanbul f...</td>\n",
       "      <td>trip verified london izmir via istanbul first ...</td>\n",
       "      <td>london izmir istanbul first time id flown tk f...</td>\n",
       "      <td>[london, izmir, istanbul, first, time, id, flo...</td>\n",
       "    </tr>\n",
       "    <tr>\n",
       "      <th>3</th>\n",
       "      <td>Turkish Airlines</td>\n",
       "      <td>2.0</td>\n",
       "      <td>Adriana Pisoi</td>\n",
       "      <td>7th May 2019</td>\n",
       "      <td>✅ Trip Verified | Istanbul to Bucharest. We ma...</td>\n",
       "      <td>NaN</td>\n",
       "      <td>Family Leisure</td>\n",
       "      <td>Economy Class</td>\n",
       "      <td>Istanbul to Bucharest</td>\n",
       "      <td>May-19</td>\n",
       "      <td>...</td>\n",
       "      <td>1.0</td>\n",
       "      <td>1.0</td>\n",
       "      <td>1.0</td>\n",
       "      <td>no</td>\n",
       "      <td>89</td>\n",
       "      <td>✅ trip verified | istanbul to bucharest. we ma...</td>\n",
       "      <td>trip verified  istanbul to bucharest we make ...</td>\n",
       "      <td>trip verified istanbul bucharest make check ai...</td>\n",
       "      <td>istanbul bucharest make check airport take lug...</td>\n",
       "      <td>[istanbul, bucharest, make, check, airport, ta...</td>\n",
       "    </tr>\n",
       "    <tr>\n",
       "      <th>5</th>\n",
       "      <td>Turkish Airlines</td>\n",
       "      <td>3.0</td>\n",
       "      <td>M Galerko</td>\n",
       "      <td>7th May 2019</td>\n",
       "      <td>✅ Trip Verified | Rome to Prishtina via Istanb...</td>\n",
       "      <td>NaN</td>\n",
       "      <td>Business</td>\n",
       "      <td>Economy Class</td>\n",
       "      <td>Rome to Prishtina via Istanbul</td>\n",
       "      <td>May-19</td>\n",
       "      <td>...</td>\n",
       "      <td>3.0</td>\n",
       "      <td>1.0</td>\n",
       "      <td>2.0</td>\n",
       "      <td>no</td>\n",
       "      <td>301</td>\n",
       "      <td>✅ trip verified | rome to prishtina via istanb...</td>\n",
       "      <td>trip verified  rome to prishtina via istanbul...</td>\n",
       "      <td>trip verified rome prishtina via istanbul flew...</td>\n",
       "      <td>rome prishtina istanbul flew company several t...</td>\n",
       "      <td>[rome, prishtina, istanbul, flew, company, sev...</td>\n",
       "    </tr>\n",
       "    <tr>\n",
       "      <th>7</th>\n",
       "      <td>Turkish Airlines</td>\n",
       "      <td>10.0</td>\n",
       "      <td>Zeshan Shah</td>\n",
       "      <td>6th May 2019</td>\n",
       "      <td>✅ Trip Verified | Flew on Turkish Airlines IAD...</td>\n",
       "      <td>A330</td>\n",
       "      <td>Solo Leisure</td>\n",
       "      <td>Economy Class</td>\n",
       "      <td>Washington Dulles to Karachi</td>\n",
       "      <td>April 2019</td>\n",
       "      <td>...</td>\n",
       "      <td>5.0</td>\n",
       "      <td>5.0</td>\n",
       "      <td>5.0</td>\n",
       "      <td>yes</td>\n",
       "      <td>162</td>\n",
       "      <td>✅ trip verified | flew on turkish airlines iad...</td>\n",
       "      <td>trip verified  flew on turkish airlines iadis...</td>\n",
       "      <td>trip verified flew turkish airlines iadistkhi ...</td>\n",
       "      <td>flew turkish airlines iadistkhi return khiisti...</td>\n",
       "      <td>[flew, turkish, airline, iadistkhi, return, kh...</td>\n",
       "    </tr>\n",
       "    <tr>\n",
       "      <th>9</th>\n",
       "      <td>Turkish Airlines</td>\n",
       "      <td>1.0</td>\n",
       "      <td>Pooja Jain</td>\n",
       "      <td>6th May 2019</td>\n",
       "      <td>✅ Trip Verified | Mumbai to Dublin via Istanbu...</td>\n",
       "      <td>NaN</td>\n",
       "      <td>Solo Leisure</td>\n",
       "      <td>Economy Class</td>\n",
       "      <td>Mumbai to Dublin via Istanbul</td>\n",
       "      <td>May-19</td>\n",
       "      <td>...</td>\n",
       "      <td>1.0</td>\n",
       "      <td>1.0</td>\n",
       "      <td>1.0</td>\n",
       "      <td>no</td>\n",
       "      <td>77</td>\n",
       "      <td>✅ trip verified | mumbai to dublin via istanbu...</td>\n",
       "      <td>trip verified  mumbai to dublin via istanbul ...</td>\n",
       "      <td>trip verified mumbai dublin via istanbul never...</td>\n",
       "      <td>mumbai dublin istanbul never book turkish airl...</td>\n",
       "      <td>[mumbai, dublin, istanbul, never, book, turkis...</td>\n",
       "    </tr>\n",
       "  </tbody>\n",
       "</table>\n",
       "<p>5 rows × 23 columns</p>\n",
       "</div>"
      ],
      "text/plain": [
       "            airline overall               author   review_date  \\\n",
       "1  Turkish Airlines     7.0  Christopher Hackley  8th May 2019   \n",
       "3  Turkish Airlines     2.0        Adriana Pisoi  7th May 2019   \n",
       "5  Turkish Airlines     3.0            M Galerko  7th May 2019   \n",
       "7  Turkish Airlines    10.0          Zeshan Shah  6th May 2019   \n",
       "9  Turkish Airlines     1.0           Pooja Jain  6th May 2019   \n",
       "\n",
       "                                     customer_review aircraft  traveller_type  \\\n",
       "1  ✅ Trip Verified | London to Izmir via Istanbul...      NaN        Business   \n",
       "3  ✅ Trip Verified | Istanbul to Bucharest. We ma...      NaN  Family Leisure   \n",
       "5  ✅ Trip Verified | Rome to Prishtina via Istanb...      NaN        Business   \n",
       "7  ✅ Trip Verified | Flew on Turkish Airlines IAD...     A330    Solo Leisure   \n",
       "9  ✅ Trip Verified | Mumbai to Dublin via Istanbu...      NaN    Solo Leisure   \n",
       "\n",
       "           cabin                           route  date_flown  ...  \\\n",
       "1  Economy Class    London to Izmir via Istanbul      May-19  ...   \n",
       "3  Economy Class           Istanbul to Bucharest      May-19  ...   \n",
       "5  Economy Class  Rome to Prishtina via Istanbul      May-19  ...   \n",
       "7  Economy Class    Washington Dulles to Karachi  April 2019  ...   \n",
       "9  Economy Class   Mumbai to Dublin via Istanbul      May-19  ...   \n",
       "\n",
       "  entertainment ground_service value_for_money recommended word_count  \\\n",
       "1           4.0            2.0             4.0         yes        208   \n",
       "3           1.0            1.0             1.0          no         89   \n",
       "5           3.0            1.0             2.0          no        301   \n",
       "7           5.0            5.0             5.0         yes        162   \n",
       "9           1.0            1.0             1.0          no         77   \n",
       "\n",
       "                                           lowercase  \\\n",
       "1  ✅ trip verified | london to izmir via istanbul...   \n",
       "3  ✅ trip verified | istanbul to bucharest. we ma...   \n",
       "5  ✅ trip verified | rome to prishtina via istanb...   \n",
       "7  ✅ trip verified | flew on turkish airlines iad...   \n",
       "9  ✅ trip verified | mumbai to dublin via istanbu...   \n",
       "\n",
       "                                         punctuation  \\\n",
       "1   trip verified  london to izmir via istanbul f...   \n",
       "3   trip verified  istanbul to bucharest we make ...   \n",
       "5   trip verified  rome to prishtina via istanbul...   \n",
       "7   trip verified  flew on turkish airlines iadis...   \n",
       "9   trip verified  mumbai to dublin via istanbul ...   \n",
       "\n",
       "                                          stop_words  \\\n",
       "1  trip verified london izmir via istanbul first ...   \n",
       "3  trip verified istanbul bucharest make check ai...   \n",
       "5  trip verified rome prishtina via istanbul flew...   \n",
       "7  trip verified flew turkish airlines iadistkhi ...   \n",
       "9  trip verified mumbai dublin via istanbul never...   \n",
       "\n",
       "                                        clean_review  \\\n",
       "1  london izmir istanbul first time id flown tk f...   \n",
       "3  istanbul bucharest make check airport take lug...   \n",
       "5  rome prishtina istanbul flew company several t...   \n",
       "7  flew turkish airlines iadistkhi return khiisti...   \n",
       "9  mumbai dublin istanbul never book turkish airl...   \n",
       "\n",
       "                                          lemmatized  \n",
       "1  [london, izmir, istanbul, first, time, id, flo...  \n",
       "3  [istanbul, bucharest, make, check, airport, ta...  \n",
       "5  [rome, prishtina, istanbul, flew, company, sev...  \n",
       "7  [flew, turkish, airline, iadistkhi, return, kh...  \n",
       "9  [mumbai, dublin, istanbul, never, book, turkis...  \n",
       "\n",
       "[5 rows x 23 columns]"
      ]
     },
     "execution_count": 690,
     "metadata": {},
     "output_type": "execute_result"
    }
   ],
   "source": [
    "# Loop through the words and lemmatize each word from clean review column\n",
    "    # Word(word).lemmatize creates a textblob object of the word then applies the lemmatize function\n",
    "    # creating a new column in data_frame w/ lemmatized words\n",
    "#data_frame['lemmatized'] = data_frame['clean_review'].apply(lambda x: \" \".join(Word(word).lemmatize() for word in x.split()))\n",
    "#data_frame.head()\n",
    "\n",
    "# applying tokenization and lemmatization to clean data\n",
    "w_tokenizer = nltk.tokenize.WhitespaceTokenizer()\n",
    "lemmatizer = nltk.stem.WordNetLemmatizer()\n",
    "\n",
    "def lemmatize_text(text):\n",
    "    return [lemmatizer.lemmatize(w) for w in w_tokenizer.tokenize(text)]\n",
    "data_frame['lemmatized'] = data_frame['clean_review'].apply(lemmatize_text)\n",
    "data_frame.head()"
   ]
  },
  {
   "cell_type": "markdown",
   "id": "a5640c61",
   "metadata": {},
   "source": [
    "### Creating Graph of Most Frequent Words\n",
    "#### Using this graph as a quick visualization of the most common words within the reviews."
   ]
  },
  {
   "cell_type": "code",
   "execution_count": 691,
   "id": "4ab374ab",
   "metadata": {
    "scrolled": true
   },
   "outputs": [
    {
     "data": {
      "image/png": "[encoded data removed]",
      "text/plain": [
       "<Figure size 864x720 with 1 Axes>"
      ]
     },
     "metadata": {
      "needs_background": "light"
     },
     "output_type": "display_data"
    }
   ],
   "source": [
    "# text exploratory analysis - https://www.enjoyalgorithms.com/blog/sentiment-analysis-using-machine-learning\n",
    "\n",
    "lemmatized_tokens = list(data_frame[\"lemmatized\"])\n",
    "token_list = list(itertools.chain(*lemmatized_tokens))\n",
    "counts_no = collections.Counter(token_list)\n",
    "\n",
    "clean_reviews = pd.DataFrame(counts_no.most_common(50), columns = ['words', 'count'])\n",
    "fig, ax = plt.subplots(figsize=(12, 10))\n",
    "clean_reviews.sort_values(by='count').plot.barh( x = 'words', y = 'count', ax = ax, color = \"royalblue\")\n",
    "ax.set_title(\"Most Frequently Used Words in Reviews\")\n",
    "plt.show()"
   ]
  },
  {
   "cell_type": "markdown",
   "id": "4c1debec",
   "metadata": {},
   "source": [
    "## TF-IDF (Term Frequency - Inverse Document Frequency)\n",
    "#### This approach is a way of discovering how relevant a word is to a document within a collection of documents. This is done by multiplying the number of times the word appears in a document with the inverse document frequency of the word across a set of documents.\n",
    "#### In my above data exploration, most of the top values begin to fall under 10,000 occurences roughly after the first 25 results. So I will limit the number of features to 200 for now as 5-10 thousand occurances is still very high for the bottom half of the top 50 results. I may play around with this feature in order to get an idea of the results."
   ]
  },
  {
   "cell_type": "code",
   "execution_count": 692,
   "id": "83c4803c",
   "metadata": {},
   "outputs": [
    {
     "data": {
      "text/plain": [
       "(28497, 300)"
      ]
     },
     "execution_count": 692,
     "metadata": {},
     "output_type": "execute_result"
    }
   ],
   "source": [
    "# Creating a vectorizer for each value in each field of the review\n",
    "tfidf_converter = TfidfVectorizer(max_features=300)\n",
    "\n",
    "# creating new field within data_frame for storing array\n",
    "vectorized_features = tfidf_converter.fit_transform(data_frame['clean_review']).toarray()\n",
    "\n",
    "vectorized_features.shape"
   ]
  },
  {
   "cell_type": "markdown",
   "id": "eb1b2ea9",
   "metadata": {},
   "source": [
    "##### I now have a vectorized value for each review sentence"
   ]
  },
  {
   "cell_type": "code",
   "execution_count": 693,
   "id": "b45d54cd",
   "metadata": {},
   "outputs": [
    {
     "data": {
      "text/plain": [
       "array([0.        , 0.        , 0.        , 0.        , 0.        ,\n",
       "       0.        , 0.        , 0.        , 0.        , 0.29483299,\n",
       "       0.        , 0.        , 0.        , 0.        , 0.        ,\n",
       "       0.        , 0.        , 0.        , 0.        , 0.        ,\n",
       "       0.        , 0.        , 0.        , 0.26391425, 0.        ,\n",
       "       0.        , 0.        , 0.        , 0.        , 0.        ,\n",
       "       0.        , 0.        , 0.        , 0.        , 0.        ,\n",
       "       0.        , 0.        , 0.        , 0.        , 0.        ,\n",
       "       0.        , 0.        , 0.        , 0.        , 0.        ,\n",
       "       0.        , 0.        , 0.        , 0.        , 0.        ,\n",
       "       0.        , 0.        , 0.        , 0.        , 0.25442248,\n",
       "       0.        , 0.        , 0.        , 0.        , 0.        ,\n",
       "       0.        , 0.        , 0.        , 0.        , 0.        ,\n",
       "       0.        , 0.        , 0.        , 0.        , 0.        ,\n",
       "       0.13938755, 0.        , 0.        , 0.        , 0.        ,\n",
       "       0.22151385, 0.        , 0.        , 0.        , 0.        ,\n",
       "       0.        , 0.        , 0.        , 0.        , 0.20588061,\n",
       "       0.        , 0.        , 0.        , 0.        , 0.        ,\n",
       "       0.        , 0.        , 0.        , 0.        , 0.        ,\n",
       "       0.        , 0.        , 0.        , 0.        , 0.        ,\n",
       "       0.        , 0.        , 0.        , 0.        , 0.        ,\n",
       "       0.        , 0.        , 0.        , 0.        , 0.08195583,\n",
       "       0.        , 0.        , 0.        , 0.        , 0.        ,\n",
       "       0.        , 0.        , 0.        , 0.        , 0.        ,\n",
       "       0.        , 0.        , 0.        , 0.        , 0.        ,\n",
       "       0.        , 0.        , 0.        , 0.        , 0.        ,\n",
       "       0.        , 0.        , 0.        , 0.        , 0.        ,\n",
       "       0.        , 0.        , 0.        , 0.        , 0.        ,\n",
       "       0.        , 0.2551184 , 0.        , 0.15904132, 0.        ,\n",
       "       0.        , 0.        , 0.        , 0.        , 0.        ,\n",
       "       0.        , 0.        , 0.56104586, 0.        , 0.        ,\n",
       "       0.        , 0.        , 0.        , 0.        , 0.        ,\n",
       "       0.        , 0.        , 0.        , 0.        , 0.        ,\n",
       "       0.        , 0.        , 0.        , 0.        , 0.        ,\n",
       "       0.        , 0.        , 0.        , 0.        , 0.        ,\n",
       "       0.19787276, 0.        , 0.        , 0.        , 0.        ,\n",
       "       0.        , 0.        , 0.        , 0.        , 0.        ,\n",
       "       0.        , 0.18516143, 0.        , 0.        , 0.        ,\n",
       "       0.        , 0.        , 0.        , 0.        , 0.        ,\n",
       "       0.        , 0.        , 0.        , 0.        , 0.26021259,\n",
       "       0.        , 0.        , 0.        , 0.        , 0.        ,\n",
       "       0.        , 0.        , 0.        , 0.        , 0.        ,\n",
       "       0.        , 0.        , 0.        , 0.        , 0.        ,\n",
       "       0.        , 0.        , 0.        , 0.        , 0.        ,\n",
       "       0.        , 0.        , 0.        , 0.        , 0.        ,\n",
       "       0.        , 0.        , 0.        , 0.        , 0.        ,\n",
       "       0.        , 0.        , 0.        , 0.        , 0.        ,\n",
       "       0.        , 0.        , 0.        , 0.        , 0.        ,\n",
       "       0.        , 0.        , 0.        , 0.        , 0.        ,\n",
       "       0.        , 0.        , 0.        , 0.        , 0.        ,\n",
       "       0.        , 0.        , 0.        , 0.        , 0.        ,\n",
       "       0.        , 0.        , 0.        , 0.        , 0.        ,\n",
       "       0.        , 0.        , 0.        , 0.        , 0.        ,\n",
       "       0.        , 0.        , 0.        , 0.        , 0.        ,\n",
       "       0.        , 0.2423916 , 0.        , 0.        , 0.        ,\n",
       "       0.        , 0.        , 0.        , 0.        , 0.        ,\n",
       "       0.        , 0.        , 0.        , 0.        , 0.23672021,\n",
       "       0.        , 0.        , 0.        , 0.        , 0.        ,\n",
       "       0.        , 0.        , 0.        , 0.        , 0.        ,\n",
       "       0.        , 0.        , 0.        , 0.        , 0.        ])"
      ]
     },
     "execution_count": 693,
     "metadata": {},
     "output_type": "execute_result"
    }
   ],
   "source": [
    "# checking how this array of tf-idf values looks for a random sentence\n",
    "vectorized_features[4]"
   ]
  },
  {
   "cell_type": "code",
   "execution_count": 694,
   "id": "14828aa5",
   "metadata": {},
   "outputs": [
    {
     "data": {
      "text/plain": [
       "(28497, 300)"
      ]
     },
     "execution_count": 694,
     "metadata": {},
     "output_type": "execute_result"
    }
   ],
   "source": [
    "#\n",
    "vectorized_features.shape"
   ]
  },
  {
   "cell_type": "code",
   "execution_count": 695,
   "id": "2b3ac755",
   "metadata": {},
   "outputs": [
    {
     "data": {
      "text/plain": [
       "28497"
      ]
     },
     "execution_count": 695,
     "metadata": {},
     "output_type": "execute_result"
    }
   ],
   "source": [
    "data_frame.shape[0]\n",
    "# create new data frame, which pulls in overall score value and array from list of array lists"
   ]
  },
  {
   "cell_type": "markdown",
   "id": "bd7dffa0",
   "metadata": {},
   "source": [
    "### Creating a data frame containing the array of vectorized features with the review score."
   ]
  },
  {
   "cell_type": "code",
   "execution_count": 696,
   "id": "35dfc78a",
   "metadata": {},
   "outputs": [],
   "source": [
    "review_df = pd.DataFrame(vectorized_features, index=vectorized_features[:,0])"
   ]
  },
  {
   "cell_type": "code",
   "execution_count": 697,
   "id": "b9818ace",
   "metadata": {},
   "outputs": [
    {
     "data": {
      "text/html": [
       "<div>\n",
       "<style scoped>\n",
       "    .dataframe tbody tr th:only-of-type {\n",
       "        vertical-align: middle;\n",
       "    }\n",
       "\n",
       "    .dataframe tbody tr th {\n",
       "        vertical-align: top;\n",
       "    }\n",
       "\n",
       "    .dataframe thead th {\n",
       "        text-align: right;\n",
       "    }\n",
       "</style>\n",
       "<table border=\"1\" class=\"dataframe\">\n",
       "  <thead>\n",
       "    <tr style=\"text-align: right;\">\n",
       "      <th></th>\n",
       "      <th>0</th>\n",
       "      <th>1</th>\n",
       "      <th>2</th>\n",
       "      <th>3</th>\n",
       "      <th>4</th>\n",
       "      <th>5</th>\n",
       "      <th>6</th>\n",
       "      <th>7</th>\n",
       "      <th>8</th>\n",
       "      <th>9</th>\n",
       "      <th>...</th>\n",
       "      <th>290</th>\n",
       "      <th>291</th>\n",
       "      <th>292</th>\n",
       "      <th>293</th>\n",
       "      <th>294</th>\n",
       "      <th>295</th>\n",
       "      <th>296</th>\n",
       "      <th>297</th>\n",
       "      <th>298</th>\n",
       "      <th>299</th>\n",
       "    </tr>\n",
       "  </thead>\n",
       "  <tbody>\n",
       "    <tr>\n",
       "      <th>0.000000</th>\n",
       "      <td>0.000000</td>\n",
       "      <td>0.0</td>\n",
       "      <td>0.00000</td>\n",
       "      <td>0.000000</td>\n",
       "      <td>0.0</td>\n",
       "      <td>0.0</td>\n",
       "      <td>0.066958</td>\n",
       "      <td>0.000000</td>\n",
       "      <td>0.000000</td>\n",
       "      <td>0.000000</td>\n",
       "      <td>...</td>\n",
       "      <td>0.0</td>\n",
       "      <td>0.0</td>\n",
       "      <td>0.0</td>\n",
       "      <td>0.0</td>\n",
       "      <td>0.000000</td>\n",
       "      <td>0.093367</td>\n",
       "      <td>0.0</td>\n",
       "      <td>0.0</td>\n",
       "      <td>0.000000</td>\n",
       "      <td>0.0</td>\n",
       "    </tr>\n",
       "    <tr>\n",
       "      <th>0.000000</th>\n",
       "      <td>0.000000</td>\n",
       "      <td>0.0</td>\n",
       "      <td>0.00000</td>\n",
       "      <td>0.000000</td>\n",
       "      <td>0.0</td>\n",
       "      <td>0.0</td>\n",
       "      <td>0.000000</td>\n",
       "      <td>0.000000</td>\n",
       "      <td>0.103006</td>\n",
       "      <td>0.000000</td>\n",
       "      <td>...</td>\n",
       "      <td>0.0</td>\n",
       "      <td>0.0</td>\n",
       "      <td>0.0</td>\n",
       "      <td>0.0</td>\n",
       "      <td>0.483886</td>\n",
       "      <td>0.000000</td>\n",
       "      <td>0.0</td>\n",
       "      <td>0.0</td>\n",
       "      <td>0.000000</td>\n",
       "      <td>0.0</td>\n",
       "    </tr>\n",
       "    <tr>\n",
       "      <th>0.092061</th>\n",
       "      <td>0.092061</td>\n",
       "      <td>0.0</td>\n",
       "      <td>0.09981</td>\n",
       "      <td>0.096135</td>\n",
       "      <td>0.0</td>\n",
       "      <td>0.0</td>\n",
       "      <td>0.000000</td>\n",
       "      <td>0.070468</td>\n",
       "      <td>0.000000</td>\n",
       "      <td>0.056607</td>\n",
       "      <td>...</td>\n",
       "      <td>0.0</td>\n",
       "      <td>0.0</td>\n",
       "      <td>0.0</td>\n",
       "      <td>0.0</td>\n",
       "      <td>0.000000</td>\n",
       "      <td>0.000000</td>\n",
       "      <td>0.0</td>\n",
       "      <td>0.0</td>\n",
       "      <td>0.092826</td>\n",
       "      <td>0.0</td>\n",
       "    </tr>\n",
       "    <tr>\n",
       "      <th>0.000000</th>\n",
       "      <td>0.000000</td>\n",
       "      <td>0.0</td>\n",
       "      <td>0.00000</td>\n",
       "      <td>0.000000</td>\n",
       "      <td>0.0</td>\n",
       "      <td>0.0</td>\n",
       "      <td>0.000000</td>\n",
       "      <td>0.000000</td>\n",
       "      <td>0.000000</td>\n",
       "      <td>0.340673</td>\n",
       "      <td>...</td>\n",
       "      <td>0.0</td>\n",
       "      <td>0.0</td>\n",
       "      <td>0.0</td>\n",
       "      <td>0.0</td>\n",
       "      <td>0.000000</td>\n",
       "      <td>0.000000</td>\n",
       "      <td>0.0</td>\n",
       "      <td>0.0</td>\n",
       "      <td>0.000000</td>\n",
       "      <td>0.0</td>\n",
       "    </tr>\n",
       "    <tr>\n",
       "      <th>0.000000</th>\n",
       "      <td>0.000000</td>\n",
       "      <td>0.0</td>\n",
       "      <td>0.00000</td>\n",
       "      <td>0.000000</td>\n",
       "      <td>0.0</td>\n",
       "      <td>0.0</td>\n",
       "      <td>0.000000</td>\n",
       "      <td>0.000000</td>\n",
       "      <td>0.000000</td>\n",
       "      <td>0.294833</td>\n",
       "      <td>...</td>\n",
       "      <td>0.0</td>\n",
       "      <td>0.0</td>\n",
       "      <td>0.0</td>\n",
       "      <td>0.0</td>\n",
       "      <td>0.000000</td>\n",
       "      <td>0.000000</td>\n",
       "      <td>0.0</td>\n",
       "      <td>0.0</td>\n",
       "      <td>0.000000</td>\n",
       "      <td>0.0</td>\n",
       "    </tr>\n",
       "  </tbody>\n",
       "</table>\n",
       "<p>5 rows × 300 columns</p>\n",
       "</div>"
      ],
      "text/plain": [
       "               0    1        2         3    4    5         6         7    \\\n",
       "0.000000  0.000000  0.0  0.00000  0.000000  0.0  0.0  0.066958  0.000000   \n",
       "0.000000  0.000000  0.0  0.00000  0.000000  0.0  0.0  0.000000  0.000000   \n",
       "0.092061  0.092061  0.0  0.09981  0.096135  0.0  0.0  0.000000  0.070468   \n",
       "0.000000  0.000000  0.0  0.00000  0.000000  0.0  0.0  0.000000  0.000000   \n",
       "0.000000  0.000000  0.0  0.00000  0.000000  0.0  0.0  0.000000  0.000000   \n",
       "\n",
       "               8         9    ...  290  291  292  293       294       295  \\\n",
       "0.000000  0.000000  0.000000  ...  0.0  0.0  0.0  0.0  0.000000  0.093367   \n",
       "0.000000  0.103006  0.000000  ...  0.0  0.0  0.0  0.0  0.483886  0.000000   \n",
       "0.092061  0.000000  0.056607  ...  0.0  0.0  0.0  0.0  0.000000  0.000000   \n",
       "0.000000  0.000000  0.340673  ...  0.0  0.0  0.0  0.0  0.000000  0.000000   \n",
       "0.000000  0.000000  0.294833  ...  0.0  0.0  0.0  0.0  0.000000  0.000000   \n",
       "\n",
       "          296  297       298  299  \n",
       "0.000000  0.0  0.0  0.000000  0.0  \n",
       "0.000000  0.0  0.0  0.000000  0.0  \n",
       "0.092061  0.0  0.0  0.092826  0.0  \n",
       "0.000000  0.0  0.0  0.000000  0.0  \n",
       "0.000000  0.0  0.0  0.000000  0.0  \n",
       "\n",
       "[5 rows x 300 columns]"
      ]
     },
     "execution_count": 697,
     "metadata": {},
     "output_type": "execute_result"
    }
   ],
   "source": [
    "review_df.head()"
   ]
  },
  {
   "cell_type": "code",
   "execution_count": 698,
   "id": "f5fc46dd",
   "metadata": {},
   "outputs": [],
   "source": [
    "review_df[\"ReviewScore\"] = data_frame[\"overall\"].to_numpy()"
   ]
  },
  {
   "cell_type": "code",
   "execution_count": 699,
   "id": "db3d6c36",
   "metadata": {
    "scrolled": false
   },
   "outputs": [
    {
     "data": {
      "text/html": [
       "<div>\n",
       "<style scoped>\n",
       "    .dataframe tbody tr th:only-of-type {\n",
       "        vertical-align: middle;\n",
       "    }\n",
       "\n",
       "    .dataframe tbody tr th {\n",
       "        vertical-align: top;\n",
       "    }\n",
       "\n",
       "    .dataframe thead th {\n",
       "        text-align: right;\n",
       "    }\n",
       "</style>\n",
       "<table border=\"1\" class=\"dataframe\">\n",
       "  <thead>\n",
       "    <tr style=\"text-align: right;\">\n",
       "      <th></th>\n",
       "      <th>0</th>\n",
       "      <th>1</th>\n",
       "      <th>2</th>\n",
       "      <th>3</th>\n",
       "      <th>4</th>\n",
       "      <th>5</th>\n",
       "      <th>6</th>\n",
       "      <th>7</th>\n",
       "      <th>8</th>\n",
       "      <th>9</th>\n",
       "      <th>...</th>\n",
       "      <th>291</th>\n",
       "      <th>292</th>\n",
       "      <th>293</th>\n",
       "      <th>294</th>\n",
       "      <th>295</th>\n",
       "      <th>296</th>\n",
       "      <th>297</th>\n",
       "      <th>298</th>\n",
       "      <th>299</th>\n",
       "      <th>ReviewScore</th>\n",
       "    </tr>\n",
       "  </thead>\n",
       "  <tbody>\n",
       "    <tr>\n",
       "      <th>0.000000</th>\n",
       "      <td>0.000000</td>\n",
       "      <td>0.0</td>\n",
       "      <td>0.00000</td>\n",
       "      <td>0.000000</td>\n",
       "      <td>0.0</td>\n",
       "      <td>0.0</td>\n",
       "      <td>0.066958</td>\n",
       "      <td>0.000000</td>\n",
       "      <td>0.000000</td>\n",
       "      <td>0.000000</td>\n",
       "      <td>...</td>\n",
       "      <td>0.0</td>\n",
       "      <td>0.0</td>\n",
       "      <td>0.0</td>\n",
       "      <td>0.000000</td>\n",
       "      <td>0.093367</td>\n",
       "      <td>0.0</td>\n",
       "      <td>0.0</td>\n",
       "      <td>0.000000</td>\n",
       "      <td>0.0</td>\n",
       "      <td>7.0</td>\n",
       "    </tr>\n",
       "    <tr>\n",
       "      <th>0.000000</th>\n",
       "      <td>0.000000</td>\n",
       "      <td>0.0</td>\n",
       "      <td>0.00000</td>\n",
       "      <td>0.000000</td>\n",
       "      <td>0.0</td>\n",
       "      <td>0.0</td>\n",
       "      <td>0.000000</td>\n",
       "      <td>0.000000</td>\n",
       "      <td>0.103006</td>\n",
       "      <td>0.000000</td>\n",
       "      <td>...</td>\n",
       "      <td>0.0</td>\n",
       "      <td>0.0</td>\n",
       "      <td>0.0</td>\n",
       "      <td>0.483886</td>\n",
       "      <td>0.000000</td>\n",
       "      <td>0.0</td>\n",
       "      <td>0.0</td>\n",
       "      <td>0.000000</td>\n",
       "      <td>0.0</td>\n",
       "      <td>2.0</td>\n",
       "    </tr>\n",
       "    <tr>\n",
       "      <th>0.092061</th>\n",
       "      <td>0.092061</td>\n",
       "      <td>0.0</td>\n",
       "      <td>0.09981</td>\n",
       "      <td>0.096135</td>\n",
       "      <td>0.0</td>\n",
       "      <td>0.0</td>\n",
       "      <td>0.000000</td>\n",
       "      <td>0.070468</td>\n",
       "      <td>0.000000</td>\n",
       "      <td>0.056607</td>\n",
       "      <td>...</td>\n",
       "      <td>0.0</td>\n",
       "      <td>0.0</td>\n",
       "      <td>0.0</td>\n",
       "      <td>0.000000</td>\n",
       "      <td>0.000000</td>\n",
       "      <td>0.0</td>\n",
       "      <td>0.0</td>\n",
       "      <td>0.092826</td>\n",
       "      <td>0.0</td>\n",
       "      <td>3.0</td>\n",
       "    </tr>\n",
       "    <tr>\n",
       "      <th>0.000000</th>\n",
       "      <td>0.000000</td>\n",
       "      <td>0.0</td>\n",
       "      <td>0.00000</td>\n",
       "      <td>0.000000</td>\n",
       "      <td>0.0</td>\n",
       "      <td>0.0</td>\n",
       "      <td>0.000000</td>\n",
       "      <td>0.000000</td>\n",
       "      <td>0.000000</td>\n",
       "      <td>0.340673</td>\n",
       "      <td>...</td>\n",
       "      <td>0.0</td>\n",
       "      <td>0.0</td>\n",
       "      <td>0.0</td>\n",
       "      <td>0.000000</td>\n",
       "      <td>0.000000</td>\n",
       "      <td>0.0</td>\n",
       "      <td>0.0</td>\n",
       "      <td>0.000000</td>\n",
       "      <td>0.0</td>\n",
       "      <td>10.0</td>\n",
       "    </tr>\n",
       "    <tr>\n",
       "      <th>0.000000</th>\n",
       "      <td>0.000000</td>\n",
       "      <td>0.0</td>\n",
       "      <td>0.00000</td>\n",
       "      <td>0.000000</td>\n",
       "      <td>0.0</td>\n",
       "      <td>0.0</td>\n",
       "      <td>0.000000</td>\n",
       "      <td>0.000000</td>\n",
       "      <td>0.000000</td>\n",
       "      <td>0.294833</td>\n",
       "      <td>...</td>\n",
       "      <td>0.0</td>\n",
       "      <td>0.0</td>\n",
       "      <td>0.0</td>\n",
       "      <td>0.000000</td>\n",
       "      <td>0.000000</td>\n",
       "      <td>0.0</td>\n",
       "      <td>0.0</td>\n",
       "      <td>0.000000</td>\n",
       "      <td>0.0</td>\n",
       "      <td>1.0</td>\n",
       "    </tr>\n",
       "  </tbody>\n",
       "</table>\n",
       "<p>5 rows × 301 columns</p>\n",
       "</div>"
      ],
      "text/plain": [
       "                 0    1        2         3    4    5         6         7  \\\n",
       "0.000000  0.000000  0.0  0.00000  0.000000  0.0  0.0  0.066958  0.000000   \n",
       "0.000000  0.000000  0.0  0.00000  0.000000  0.0  0.0  0.000000  0.000000   \n",
       "0.092061  0.092061  0.0  0.09981  0.096135  0.0  0.0  0.000000  0.070468   \n",
       "0.000000  0.000000  0.0  0.00000  0.000000  0.0  0.0  0.000000  0.000000   \n",
       "0.000000  0.000000  0.0  0.00000  0.000000  0.0  0.0  0.000000  0.000000   \n",
       "\n",
       "                 8         9  ...  291  292  293       294       295  296  \\\n",
       "0.000000  0.000000  0.000000  ...  0.0  0.0  0.0  0.000000  0.093367  0.0   \n",
       "0.000000  0.103006  0.000000  ...  0.0  0.0  0.0  0.483886  0.000000  0.0   \n",
       "0.092061  0.000000  0.056607  ...  0.0  0.0  0.0  0.000000  0.000000  0.0   \n",
       "0.000000  0.000000  0.340673  ...  0.0  0.0  0.0  0.000000  0.000000  0.0   \n",
       "0.000000  0.000000  0.294833  ...  0.0  0.0  0.0  0.000000  0.000000  0.0   \n",
       "\n",
       "          297       298  299  ReviewScore  \n",
       "0.000000  0.0  0.000000  0.0          7.0  \n",
       "0.000000  0.0  0.000000  0.0          2.0  \n",
       "0.092061  0.0  0.092826  0.0          3.0  \n",
       "0.000000  0.0  0.000000  0.0         10.0  \n",
       "0.000000  0.0  0.000000  0.0          1.0  \n",
       "\n",
       "[5 rows x 301 columns]"
      ]
     },
     "execution_count": 699,
     "metadata": {},
     "output_type": "execute_result"
    }
   ],
   "source": [
    "# checking the reviews\n",
    "review_df.head()"
   ]
  },
  {
   "cell_type": "markdown",
   "id": "7ae44c5a",
   "metadata": {},
   "source": [
    "##### I now have a data frame containing a numerical vector for each of 100 features in the customer review as well as the corresponding review score."
   ]
  },
  {
   "cell_type": "code",
   "execution_count": 700,
   "id": "4dc909f2",
   "metadata": {
    "scrolled": false
   },
   "outputs": [
    {
     "data": {
      "text/plain": [
       "(28497, 301)"
      ]
     },
     "execution_count": 700,
     "metadata": {},
     "output_type": "execute_result"
    }
   ],
   "source": [
    "review_df.shape"
   ]
  },
  {
   "cell_type": "code",
   "execution_count": 701,
   "id": "47ac2543",
   "metadata": {},
   "outputs": [],
   "source": [
    "# exporting dataframe to csv for quick manual review\n",
    "review_df.to_csv(r'C:\\BSHC4_Workspace\\Software Project 4\\vectorized_data03.csv', index = False)"
   ]
  },
  {
   "cell_type": "code",
   "execution_count": 702,
   "id": "41801bfa",
   "metadata": {},
   "outputs": [],
   "source": [
    "vectorized_data = pd.read_csv(r'C:\\BSHC4_Workspace\\Software Project 4\\\\vectorized_data03.csv')"
   ]
  },
  {
   "cell_type": "code",
   "execution_count": 703,
   "id": "ddd258ef",
   "metadata": {},
   "outputs": [],
   "source": [
    "vectorized_data = vectorized_data[~(np.isnan(vectorized_data).any(axis=1))]"
   ]
  },
  {
   "cell_type": "code",
   "execution_count": 704,
   "id": "40a1c520",
   "metadata": {},
   "outputs": [
    {
     "data": {
      "text/plain": [
       "(28496, 301)"
      ]
     },
     "execution_count": 704,
     "metadata": {},
     "output_type": "execute_result"
    }
   ],
   "source": [
    "vectorized_data.shape"
   ]
  },
  {
   "cell_type": "markdown",
   "id": "8f1c5c39",
   "metadata": {},
   "source": [
    "### Splitting the Data"
   ]
  },
  {
   "cell_type": "code",
   "execution_count": 705,
   "id": "edc5d264",
   "metadata": {},
   "outputs": [],
   "source": [
    "from sklearn.model_selection import train_test_split\n",
    "\n",
    "# seperate data into training / test splits (70% train, 30% test)\n",
    "x_train, x_test, y_train, y_test = train_test_split(vectorized_data.loc[:,vectorized_data.columns != 'ReviewScore'], vectorized_data['ReviewScore'], test_size=0.3, random_state=109) "
   ]
  },
  {
   "cell_type": "markdown",
   "id": "4b141710",
   "metadata": {},
   "source": [
    "## Creating SVM Model"
   ]
  },
  {
   "cell_type": "code",
   "execution_count": 706,
   "id": "7331d0fa",
   "metadata": {},
   "outputs": [],
   "source": [
    "# import support vector machine model library\n",
    "from sklearn import svm"
   ]
  },
  {
   "cell_type": "markdown",
   "id": "4b2fd7b4",
   "metadata": {},
   "source": [
    "### Linear Kernel"
   ]
  },
  {
   "cell_type": "code",
   "execution_count": 594,
   "id": "fd941897",
   "metadata": {},
   "outputs": [],
   "source": [
    "# import support vector machine model library\n",
    "from sklearn import svm\n",
    "\n",
    "# create a classifier using a 'linear kernal'\n",
    "classifier = svm.SVC(kernel='linear') # Linear Kernel"
   ]
  },
  {
   "cell_type": "code",
   "execution_count": 595,
   "id": "0f888d55",
   "metadata": {},
   "outputs": [
    {
     "data": {
      "text/plain": [
       "False"
      ]
     },
     "execution_count": 595,
     "metadata": {},
     "output_type": "execute_result"
    }
   ],
   "source": [
    "# checking for NaN and that values are finite\n",
    "vectorized_data.isnull().values.any()"
   ]
  },
  {
   "cell_type": "code",
   "execution_count": 596,
   "id": "b614d8ad",
   "metadata": {},
   "outputs": [
    {
     "data": {
      "text/plain": [
       "SVC(kernel='linear')"
      ]
     },
     "execution_count": 596,
     "metadata": {},
     "output_type": "execute_result"
    }
   ],
   "source": [
    "# train the svm model using the training sets\n",
    "classifier.fit(x_train, y_train)"
   ]
  },
  {
   "cell_type": "code",
   "execution_count": 597,
   "id": "3e9cf7d4",
   "metadata": {
    "scrolled": true
   },
   "outputs": [
    {
     "data": {
      "text/plain": [
       "array([ 1.,  1., 10., ...,  8.,  9.,  6.])"
      ]
     },
     "execution_count": 597,
     "metadata": {},
     "output_type": "execute_result"
    }
   ],
   "source": [
    "# predict a response for the testing set\n",
    "y_pred = classifier.predict(x_test)\n",
    "y_pred"
   ]
  },
  {
   "cell_type": "code",
   "execution_count": 598,
   "id": "f57c633f",
   "metadata": {},
   "outputs": [],
   "source": [
    "# importing sklearn module for accuracy metrics\n",
    "from sklearn import metrics\n",
    "from sklearn.metrics import classification_report, confusion_matrix"
   ]
  },
  {
   "cell_type": "code",
   "execution_count": 599,
   "id": "292f45bf",
   "metadata": {},
   "outputs": [
    {
     "name": "stdout",
     "output_type": "stream",
     "text": [
      "              precision    recall  f1-score   support\n",
      "\n",
      "         1.0       0.52      0.93      0.67      2027\n",
      "         2.0       0.23      0.02      0.04       789\n",
      "         3.0       0.15      0.05      0.08       607\n",
      "         4.0       0.22      0.03      0.06       380\n",
      "         5.0       0.17      0.09      0.12       377\n",
      "         6.0       0.18      0.04      0.07       388\n",
      "         7.0       0.24      0.14      0.17       635\n",
      "         8.0       0.30      0.38      0.33      1018\n",
      "         9.0       0.36      0.35      0.35      1205\n",
      "        10.0       0.44      0.53      0.48      1123\n",
      "\n",
      "    accuracy                           0.41      8549\n",
      "   macro avg       0.28      0.26      0.24      8549\n",
      "weighted avg       0.34      0.41      0.34      8549\n",
      "\n"
     ]
    }
   ],
   "source": [
    "# printing report\n",
    "print(classification_report(y_test, y_pred))"
   ]
  },
  {
   "cell_type": "code",
   "execution_count": 600,
   "id": "1fc8f600",
   "metadata": {},
   "outputs": [
    {
     "name": "stdout",
     "output_type": "stream",
     "text": [
      "Accuracy:  0.4104573634343198\n"
     ]
    }
   ],
   "source": [
    "# model accuracy\n",
    "print(\"Accuracy: \", metrics.accuracy_score(y_test, y_pred))"
   ]
  },
  {
   "cell_type": "code",
   "execution_count": 601,
   "id": "d627b8d3",
   "metadata": {},
   "outputs": [
    {
     "name": "stdout",
     "output_type": "stream",
     "text": [
      "Precision: 0.3407666130955207\n"
     ]
    }
   ],
   "source": [
    "# check precision of the model\n",
    "print(\"Precision:\",metrics.precision_score(y_test, y_pred, average='weighted'))"
   ]
  },
  {
   "cell_type": "code",
   "execution_count": 602,
   "id": "1b444189",
   "metadata": {},
   "outputs": [
    {
     "name": "stdout",
     "output_type": "stream",
     "text": [
      "Recall: 0.25881528902451495\n"
     ]
    }
   ],
   "source": [
    "# model recall, what % of positive tuples are labeled correctly\n",
    "print(\"Recall:\",metrics.recall_score(y_test, y_pred,average='macro'))"
   ]
  },
  {
   "cell_type": "markdown",
   "id": "e5e04aed",
   "metadata": {},
   "source": [
    "### RBF Kernel"
   ]
  },
  {
   "cell_type": "code",
   "execution_count": 603,
   "id": "5af50daf",
   "metadata": {},
   "outputs": [],
   "source": [
    "# create a classifier using a 'linear kernal'\n",
    "classifier_rbf = svm.SVC(kernel='rbf') # RBF Kernel"
   ]
  },
  {
   "cell_type": "code",
   "execution_count": 604,
   "id": "7c09c81d",
   "metadata": {},
   "outputs": [
    {
     "data": {
      "text/plain": [
       "SVC()"
      ]
     },
     "execution_count": 604,
     "metadata": {},
     "output_type": "execute_result"
    }
   ],
   "source": [
    "# train the svm model using the training sets\n",
    "classifier_rbf.fit(x_train, y_train)"
   ]
  },
  {
   "cell_type": "code",
   "execution_count": 605,
   "id": "8c96487f",
   "metadata": {},
   "outputs": [
    {
     "data": {
      "text/plain": [
       "array([ 1.,  1., 10., ..., 10.,  9.,  8.])"
      ]
     },
     "execution_count": 605,
     "metadata": {},
     "output_type": "execute_result"
    }
   ],
   "source": [
    "# predict a response for the testing set\n",
    "y_pred = classifier_rbf.predict(x_test)\n",
    "y_pred"
   ]
  },
  {
   "cell_type": "code",
   "execution_count": 606,
   "id": "f8ae357a",
   "metadata": {},
   "outputs": [
    {
     "name": "stdout",
     "output_type": "stream",
     "text": [
      "              precision    recall  f1-score   support\n",
      "\n",
      "         1.0       0.53      0.93      0.68      2027\n",
      "         2.0       0.39      0.09      0.15       789\n",
      "         3.0       0.29      0.10      0.15       607\n",
      "         4.0       0.57      0.06      0.11       380\n",
      "         5.0       0.29      0.13      0.18       377\n",
      "         6.0       0.35      0.06      0.10       388\n",
      "         7.0       0.31      0.17      0.22       635\n",
      "         8.0       0.32      0.43      0.37      1018\n",
      "         9.0       0.40      0.40      0.40      1205\n",
      "        10.0       0.45      0.56      0.50      1123\n",
      "\n",
      "    accuracy                           0.44      8549\n",
      "   macro avg       0.39      0.29      0.29      8549\n",
      "weighted avg       0.41      0.44      0.38      8549\n",
      "\n"
     ]
    }
   ],
   "source": [
    "# printing report\n",
    "print(classification_report(y_test, y_pred))"
   ]
  },
  {
   "cell_type": "code",
   "execution_count": 607,
   "id": "cbaa93c9",
   "metadata": {},
   "outputs": [
    {
     "name": "stdout",
     "output_type": "stream",
     "text": [
      "Accuracy:  0.44215697742426013\n"
     ]
    }
   ],
   "source": [
    "# model accuracy\n",
    "print(\"Accuracy: \", metrics.accuracy_score(y_test, y_pred))"
   ]
  },
  {
   "cell_type": "code",
   "execution_count": 608,
   "id": "e1bc4296",
   "metadata": {},
   "outputs": [
    {
     "name": "stdout",
     "output_type": "stream",
     "text": [
      "Precision: 0.41377064204254366\n"
     ]
    }
   ],
   "source": [
    "# check precision of the model\n",
    "print(\"Precision:\",metrics.precision_score(y_test, y_pred, average='weighted'))"
   ]
  },
  {
   "cell_type": "code",
   "execution_count": 609,
   "id": "645c34c1",
   "metadata": {},
   "outputs": [
    {
     "name": "stdout",
     "output_type": "stream",
     "text": [
      "Recall: 0.2937223271303884\n"
     ]
    }
   ],
   "source": [
    "# model recall, what % of positive tuples are labeled correctly\n",
    "print(\"Recall:\",metrics.recall_score(y_test, y_pred,average='macro'))"
   ]
  },
  {
   "cell_type": "markdown",
   "id": "4a1d7db2",
   "metadata": {},
   "source": [
    "### Using GridsearchCV \n",
    "#### to create a loop of hyperparameters matching the 'estimations' of SVC and re-running the model with these parameters to find the best fit.\n",
    "##### commented out to avoid re-running."
   ]
  },
  {
   "cell_type": "markdown",
   "id": "f3ee172b",
   "metadata": {},
   "source": [
    "### Attempting w/ 'linear' & 'rbf' kernel"
   ]
  },
  {
   "cell_type": "code",
   "execution_count": 51,
   "id": "d2059a5c",
   "metadata": {},
   "outputs": [],
   "source": [
    "from sklearn.model_selection import GridSearchCV\n",
    "\n",
    "# define a parameter range\n",
    "#param_grid = {'C': [0.1, 1, 10, 100, 1000],\n",
    "             'gamma': [1, 0.1, 0.01, 0.001, 0.0001],\n",
    "             'kernel': ['linear']}\n",
    "\n",
    "#grid = GridSearchCV(svm.SVC(), param_grid, refit = True, verbose = 3)\n",
    "\n",
    "#grid.fit(x_train, y_train)"
   ]
  },
  {
   "cell_type": "code",
   "execution_count": 329,
   "id": "1623213b",
   "metadata": {},
   "outputs": [],
   "source": [
    "#print(grid.best_params_)"
   ]
  },
  {
   "cell_type": "code",
   "execution_count": 330,
   "id": "162e97a3",
   "metadata": {},
   "outputs": [],
   "source": [
    "#print(grid.best_estimator_)"
   ]
  },
  {
   "cell_type": "code",
   "execution_count": 331,
   "id": "86c155d7",
   "metadata": {},
   "outputs": [],
   "source": [
    "#grid_predictions = grid.predict(x_test)\n",
    "\n",
    "# print classification report\n",
    "#print(classification_report(y_test, grid_predictions))"
   ]
  },
  {
   "cell_type": "markdown",
   "id": "cdda3772",
   "metadata": {},
   "source": [
    "### Attempting w/ 'rbf' kernel"
   ]
  },
  {
   "cell_type": "code",
   "execution_count": 55,
   "id": "f7bc0496",
   "metadata": {},
   "outputs": [],
   "source": [
    "# define a parameter range\n",
    "#param_grid = {'C': [0.1, 1, 10, 100, 1000],\n",
    "           #  'gamma': [1, 0.1, 0.01, 0.001, 0.0001],\n",
    "           #  'kernel': ['rbf']}\n",
    "\n",
    "#grid02 = GridSearchCV(svm.SVC(), param_grid, refit = True, verbose = 3)\n",
    "\n",
    "#grid02.fit(x_train, y_train)"
   ]
  },
  {
   "cell_type": "code",
   "execution_count": 56,
   "id": "201f63ff",
   "metadata": {},
   "outputs": [],
   "source": [
    "#print(grid.best_params_)"
   ]
  },
  {
   "cell_type": "code",
   "execution_count": 57,
   "id": "43a68f1c",
   "metadata": {},
   "outputs": [],
   "source": [
    "#print(grid.best_estimator_)"
   ]
  },
  {
   "cell_type": "code",
   "execution_count": 332,
   "id": "647a789b",
   "metadata": {},
   "outputs": [],
   "source": [
    "#grid_predictions = grid02.predict(x_test)\n",
    "\n",
    "# print classification report\n",
    "#print(classification_report(y_test, grid_predictions))"
   ]
  },
  {
   "cell_type": "markdown",
   "id": "f1e07d4a",
   "metadata": {},
   "source": [
    "### Tabled Results 'Linear' kernel Run\n",
    "\n",
    "#### These are results obtained from a >24 hour run of the above code. The results were saved to Excel for use of without needing to re-run the hyperparameter tuning loop, saving time."
   ]
  },
  {
   "cell_type": "code",
   "execution_count": 726,
   "id": "e08b9307",
   "metadata": {},
   "outputs": [],
   "source": [
    "svm_linear_results = pd.read_csv(r'C:\\BSHC4_Workspace\\Software Project 4\\linear_results_table.csv')"
   ]
  },
  {
   "cell_type": "code",
   "execution_count": 727,
   "id": "a6673dde",
   "metadata": {
    "scrolled": false
   },
   "outputs": [
    {
     "name": "stdout",
     "output_type": "stream",
     "text": [
      "     C  gamma  kernel  score  total_time\n",
      "1  0.1    1.0  linear  0.366        49.5\n",
      "2  0.1    1.0  linear  0.382        56.1\n",
      "3  0.1    1.0  linear  0.363        54.9\n",
      "4  0.1    1.0  linear  0.369        52.4\n",
      "5  0.1    0.1  linear  0.372        57.4\n",
      "6  0.1    0.1  linear  0.366        50.9\n",
      "7  0.1    0.1  linear  0.382        66.0\n",
      "8  0.1    0.1  linear  0.363        56.7\n",
      "9  0.1    0.1  linear  0.369        53.6\n"
     ]
    }
   ],
   "source": [
    "print(svm_linear_results[1:10])"
   ]
  },
  {
   "cell_type": "code",
   "execution_count": 728,
   "id": "3de11498",
   "metadata": {},
   "outputs": [
    {
     "name": "stdout",
     "output_type": "stream",
     "text": [
      "0.37419008264754133\n"
     ]
    }
   ],
   "source": [
    "print(svm_linear_results['score'].mean())"
   ]
  },
  {
   "cell_type": "code",
   "execution_count": 729,
   "id": "2e175a2b",
   "metadata": {},
   "outputs": [
    {
     "name": "stdout",
     "output_type": "stream",
     "text": [
      "0.388\n"
     ]
    }
   ],
   "source": [
    "max_value_linear = svm_linear_results['score'].max()\n",
    "print(max_value_linear)"
   ]
  },
  {
   "cell_type": "code",
   "execution_count": 751,
   "id": "0af81ff4",
   "metadata": {},
   "outputs": [
    {
     "data": {
      "image/png": "[encoded data removed]",
      "text/plain": [
       "<Figure size 720x432 with 1 Axes>"
      ]
     },
     "metadata": {
      "needs_background": "light"
     },
     "output_type": "display_data"
    }
   ],
   "source": [
    "# Plot Scores\n",
    "plt.figure(figsize=(10, 6), tight_layout=True)\n",
    "\n",
    "ax = sns.scatterplot(data = svm_linear_results, x='C', y='score',\n",
    "                    hue='gamma', palette='Set2', s=120)\n",
    "\n",
    "ax.set(xlabel='C value', ylabel='accuracy score')\n",
    "ax.legend(title='gamm Value', title_fontsize = 12)\n",
    "\n",
    "plt.show()"
   ]
  },
  {
   "cell_type": "code",
   "execution_count": 753,
   "id": "92cd0747",
   "metadata": {
    "scrolled": true
   },
   "outputs": [
    {
     "data": {
      "image/png": "[encoded data removed]",
      "text/plain": [
       "<Figure size 720x432 with 1 Axes>"
      ]
     },
     "metadata": {
      "needs_background": "light"
     },
     "output_type": "display_data"
    }
   ],
   "source": [
    "# Plot Scores\n",
    "plt.figure(figsize=(10, 6), tight_layout=True)\n",
    "\n",
    "ax = sns.scatterplot(data = svm_linear_results, x='gamma', y='score',\n",
    "                    hue='C', palette='Set2', s=60)\n",
    "\n",
    "ax.set(xlabel='gamma Value', ylabel='accuracy score')\n",
    "ax.legend(title='C Value', title_fontsize = 12)\n",
    "\n",
    "plt.show()"
   ]
  },
  {
   "cell_type": "markdown",
   "id": "a6b682b5",
   "metadata": {},
   "source": [
    "### Tabled Results 'RBF Kernel' Run"
   ]
  },
  {
   "cell_type": "code",
   "execution_count": 754,
   "id": "48d1b637",
   "metadata": {},
   "outputs": [],
   "source": [
    "svm_rbf_results = pd.read_csv(r'C:\\BSHC4_Workspace\\Software Project 4\\rbf_results_table.csv')"
   ]
  },
  {
   "cell_type": "code",
   "execution_count": 755,
   "id": "4ff23019",
   "metadata": {
    "scrolled": true
   },
   "outputs": [
    {
     "name": "stdout",
     "output_type": "stream",
     "text": [
      "     C  gamma kernel  score  total_time\n",
      "1  0.1    1.0    rbf  0.365          78\n",
      "2  0.1    1.0    rbf  0.376          78\n",
      "3  0.1    1.0    rbf  0.361          78\n",
      "4  0.1    1.0    rbf  0.366          78\n",
      "5  0.1    0.1    rbf  0.347          78\n",
      "6  0.1    0.1    rbf  0.352          78\n",
      "7  0.1    0.1    rbf  0.350          84\n",
      "8  0.1    0.1    rbf  0.349          84\n",
      "9  0.1    0.1    rbf  0.340          84\n"
     ]
    }
   ],
   "source": [
    "print(svm_rbf_results[1:10])"
   ]
  },
  {
   "cell_type": "code",
   "execution_count": 756,
   "id": "86e0bb11",
   "metadata": {},
   "outputs": [
    {
     "name": "stdout",
     "output_type": "stream",
     "text": [
      "0.340624\n"
     ]
    }
   ],
   "source": [
    "print(svm_rbf_results['score'].mean())"
   ]
  },
  {
   "cell_type": "code",
   "execution_count": 757,
   "id": "dcfbbec8",
   "metadata": {},
   "outputs": [
    {
     "name": "stdout",
     "output_type": "stream",
     "text": [
      "0.402\n"
     ]
    }
   ],
   "source": [
    "max_value_rbf = svm_rbf_results['score'].max()\n",
    "print(max_value_rbf)"
   ]
  },
  {
   "cell_type": "code",
   "execution_count": 758,
   "id": "62e385f8",
   "metadata": {},
   "outputs": [
    {
     "data": {
      "image/png": "[encoded data removed]",
      "text/plain": [
       "<Figure size 720x432 with 1 Axes>"
      ]
     },
     "metadata": {
      "needs_background": "light"
     },
     "output_type": "display_data"
    }
   ],
   "source": [
    "# Plot Scores\n",
    "plt.figure(figsize=(10, 6), tight_layout=True)\n",
    "\n",
    "ax = sns.scatterplot(data = svm_rbf_results, x='gamma', y='score',\n",
    "                    hue='C', palette='Set2', s=60)\n",
    "\n",
    "ax.set(xlabel='gamma Value', ylabel='accuracy score')\n",
    "ax.legend(title='C Value', title_fontsize = 12)\n",
    "\n",
    "plt.show()"
   ]
  },
  {
   "cell_type": "code",
   "execution_count": 759,
   "id": "ada1d699",
   "metadata": {
    "scrolled": true
   },
   "outputs": [
    {
     "data": {
      "image/png": "[encoded data removed]",
      "text/plain": [
       "<Figure size 720x432 with 1 Axes>"
      ]
     },
     "metadata": {
      "needs_background": "light"
     },
     "output_type": "display_data"
    }
   ],
   "source": [
    "# Plot Scores\n",
    "plt.figure(figsize=(10, 6), tight_layout=True)\n",
    "\n",
    "ax = sns.scatterplot(data = svm_rbf_results, x='C', y='score',\n",
    "                    hue='gamma', palette='Set2', s=60)\n",
    "\n",
    "ax.set(xlabel='C value', ylabel='accuracy score')\n",
    "ax.legend(title='gamma Value', title_fontsize = 12)\n",
    "\n",
    "plt.show()"
   ]
  },
  {
   "cell_type": "markdown",
   "id": "6a692ada",
   "metadata": {},
   "source": [
    "#### From the above plots, it is observed the best parameter combination is of C value = 1.0 ; gamma value = 0.0001 & 0.001"
   ]
  },
  {
   "cell_type": "markdown",
   "id": "6d1fe853",
   "metadata": {},
   "source": [
    "## Feature Creation (Negative / Neutral / Positive)\n",
    "#### Attempting to predict values within the range of 1-10 is providing best results of around 40% accuracy. I will now create a new feature assigning a value to the review score based upon whether it is 'negative' / 'neutral' / 'positive\n",
    "##### negative (1) = 1-4 ; neutral (2) = 5-6 ; positive (3) = 7-10"
   ]
  },
  {
   "cell_type": "code",
   "execution_count": 707,
   "id": "9b7d8f08",
   "metadata": {},
   "outputs": [
    {
     "data": {
      "text/html": [
       "<div>\n",
       "<style scoped>\n",
       "    .dataframe tbody tr th:only-of-type {\n",
       "        vertical-align: middle;\n",
       "    }\n",
       "\n",
       "    .dataframe tbody tr th {\n",
       "        vertical-align: top;\n",
       "    }\n",
       "\n",
       "    .dataframe thead th {\n",
       "        text-align: right;\n",
       "    }\n",
       "</style>\n",
       "<table border=\"1\" class=\"dataframe\">\n",
       "  <thead>\n",
       "    <tr style=\"text-align: right;\">\n",
       "      <th></th>\n",
       "      <th>0</th>\n",
       "      <th>1</th>\n",
       "      <th>2</th>\n",
       "      <th>3</th>\n",
       "      <th>4</th>\n",
       "      <th>5</th>\n",
       "      <th>6</th>\n",
       "      <th>7</th>\n",
       "      <th>8</th>\n",
       "      <th>9</th>\n",
       "      <th>...</th>\n",
       "      <th>291</th>\n",
       "      <th>292</th>\n",
       "      <th>293</th>\n",
       "      <th>294</th>\n",
       "      <th>295</th>\n",
       "      <th>296</th>\n",
       "      <th>297</th>\n",
       "      <th>298</th>\n",
       "      <th>299</th>\n",
       "      <th>ReviewScore</th>\n",
       "    </tr>\n",
       "  </thead>\n",
       "  <tbody>\n",
       "    <tr>\n",
       "      <th>0.000000</th>\n",
       "      <td>0.000000</td>\n",
       "      <td>0.0</td>\n",
       "      <td>0.00000</td>\n",
       "      <td>0.000000</td>\n",
       "      <td>0.0</td>\n",
       "      <td>0.0</td>\n",
       "      <td>0.066958</td>\n",
       "      <td>0.000000</td>\n",
       "      <td>0.000000</td>\n",
       "      <td>0.000000</td>\n",
       "      <td>...</td>\n",
       "      <td>0.0</td>\n",
       "      <td>0.0</td>\n",
       "      <td>0.0</td>\n",
       "      <td>0.000000</td>\n",
       "      <td>0.093367</td>\n",
       "      <td>0.0</td>\n",
       "      <td>0.0</td>\n",
       "      <td>0.000000</td>\n",
       "      <td>0.0</td>\n",
       "      <td>7.0</td>\n",
       "    </tr>\n",
       "    <tr>\n",
       "      <th>0.000000</th>\n",
       "      <td>0.000000</td>\n",
       "      <td>0.0</td>\n",
       "      <td>0.00000</td>\n",
       "      <td>0.000000</td>\n",
       "      <td>0.0</td>\n",
       "      <td>0.0</td>\n",
       "      <td>0.000000</td>\n",
       "      <td>0.000000</td>\n",
       "      <td>0.103006</td>\n",
       "      <td>0.000000</td>\n",
       "      <td>...</td>\n",
       "      <td>0.0</td>\n",
       "      <td>0.0</td>\n",
       "      <td>0.0</td>\n",
       "      <td>0.483886</td>\n",
       "      <td>0.000000</td>\n",
       "      <td>0.0</td>\n",
       "      <td>0.0</td>\n",
       "      <td>0.000000</td>\n",
       "      <td>0.0</td>\n",
       "      <td>2.0</td>\n",
       "    </tr>\n",
       "    <tr>\n",
       "      <th>0.092061</th>\n",
       "      <td>0.092061</td>\n",
       "      <td>0.0</td>\n",
       "      <td>0.09981</td>\n",
       "      <td>0.096135</td>\n",
       "      <td>0.0</td>\n",
       "      <td>0.0</td>\n",
       "      <td>0.000000</td>\n",
       "      <td>0.070468</td>\n",
       "      <td>0.000000</td>\n",
       "      <td>0.056607</td>\n",
       "      <td>...</td>\n",
       "      <td>0.0</td>\n",
       "      <td>0.0</td>\n",
       "      <td>0.0</td>\n",
       "      <td>0.000000</td>\n",
       "      <td>0.000000</td>\n",
       "      <td>0.0</td>\n",
       "      <td>0.0</td>\n",
       "      <td>0.092826</td>\n",
       "      <td>0.0</td>\n",
       "      <td>3.0</td>\n",
       "    </tr>\n",
       "    <tr>\n",
       "      <th>0.000000</th>\n",
       "      <td>0.000000</td>\n",
       "      <td>0.0</td>\n",
       "      <td>0.00000</td>\n",
       "      <td>0.000000</td>\n",
       "      <td>0.0</td>\n",
       "      <td>0.0</td>\n",
       "      <td>0.000000</td>\n",
       "      <td>0.000000</td>\n",
       "      <td>0.000000</td>\n",
       "      <td>0.340673</td>\n",
       "      <td>...</td>\n",
       "      <td>0.0</td>\n",
       "      <td>0.0</td>\n",
       "      <td>0.0</td>\n",
       "      <td>0.000000</td>\n",
       "      <td>0.000000</td>\n",
       "      <td>0.0</td>\n",
       "      <td>0.0</td>\n",
       "      <td>0.000000</td>\n",
       "      <td>0.0</td>\n",
       "      <td>10.0</td>\n",
       "    </tr>\n",
       "    <tr>\n",
       "      <th>0.000000</th>\n",
       "      <td>0.000000</td>\n",
       "      <td>0.0</td>\n",
       "      <td>0.00000</td>\n",
       "      <td>0.000000</td>\n",
       "      <td>0.0</td>\n",
       "      <td>0.0</td>\n",
       "      <td>0.000000</td>\n",
       "      <td>0.000000</td>\n",
       "      <td>0.000000</td>\n",
       "      <td>0.294833</td>\n",
       "      <td>...</td>\n",
       "      <td>0.0</td>\n",
       "      <td>0.0</td>\n",
       "      <td>0.0</td>\n",
       "      <td>0.000000</td>\n",
       "      <td>0.000000</td>\n",
       "      <td>0.0</td>\n",
       "      <td>0.0</td>\n",
       "      <td>0.000000</td>\n",
       "      <td>0.0</td>\n",
       "      <td>1.0</td>\n",
       "    </tr>\n",
       "  </tbody>\n",
       "</table>\n",
       "<p>5 rows × 301 columns</p>\n",
       "</div>"
      ],
      "text/plain": [
       "                 0    1        2         3    4    5         6         7  \\\n",
       "0.000000  0.000000  0.0  0.00000  0.000000  0.0  0.0  0.066958  0.000000   \n",
       "0.000000  0.000000  0.0  0.00000  0.000000  0.0  0.0  0.000000  0.000000   \n",
       "0.092061  0.092061  0.0  0.09981  0.096135  0.0  0.0  0.000000  0.070468   \n",
       "0.000000  0.000000  0.0  0.00000  0.000000  0.0  0.0  0.000000  0.000000   \n",
       "0.000000  0.000000  0.0  0.00000  0.000000  0.0  0.0  0.000000  0.000000   \n",
       "\n",
       "                 8         9  ...  291  292  293       294       295  296  \\\n",
       "0.000000  0.000000  0.000000  ...  0.0  0.0  0.0  0.000000  0.093367  0.0   \n",
       "0.000000  0.103006  0.000000  ...  0.0  0.0  0.0  0.483886  0.000000  0.0   \n",
       "0.092061  0.000000  0.056607  ...  0.0  0.0  0.0  0.000000  0.000000  0.0   \n",
       "0.000000  0.000000  0.340673  ...  0.0  0.0  0.0  0.000000  0.000000  0.0   \n",
       "0.000000  0.000000  0.294833  ...  0.0  0.0  0.0  0.000000  0.000000  0.0   \n",
       "\n",
       "          297       298  299  ReviewScore  \n",
       "0.000000  0.0  0.000000  0.0          7.0  \n",
       "0.000000  0.0  0.000000  0.0          2.0  \n",
       "0.092061  0.0  0.092826  0.0          3.0  \n",
       "0.000000  0.0  0.000000  0.0         10.0  \n",
       "0.000000  0.0  0.000000  0.0          1.0  \n",
       "\n",
       "[5 rows x 301 columns]"
      ]
     },
     "execution_count": 707,
     "metadata": {},
     "output_type": "execute_result"
    }
   ],
   "source": [
    "# checking the reviews\n",
    "review_df.head()"
   ]
  },
  {
   "cell_type": "code",
   "execution_count": 708,
   "id": "362e3de2",
   "metadata": {},
   "outputs": [],
   "source": [
    "# creating a set of conditions for 'ReviewScore' for values to be assigned to\n",
    "conditions = [\n",
    "    (review_df['ReviewScore'] <= 4), # if review score is less than 4\n",
    "    (review_df['ReviewScore'] == 5), # if review score is 5\n",
    "    (review_df['ReviewScore'] == 6), # if review score is 6\n",
    "    (review_df['ReviewScore'] >= 7)  # if review score is greater than 7\n",
    "]\n",
    "\n",
    "# list of values to assign to each condition (1,2,2,3)\n",
    "values = [1,2,2,3] # 1 - negative / 2 - neutral / 3 - positive\n",
    "\n",
    "# create new column and apply the values based on conditions made\n",
    "review_df['SentimentScore'] = np.select(conditions, values)"
   ]
  },
  {
   "cell_type": "code",
   "execution_count": 709,
   "id": "e3c77a73",
   "metadata": {
    "scrolled": true
   },
   "outputs": [
    {
     "data": {
      "text/html": [
       "<div>\n",
       "<style scoped>\n",
       "    .dataframe tbody tr th:only-of-type {\n",
       "        vertical-align: middle;\n",
       "    }\n",
       "\n",
       "    .dataframe tbody tr th {\n",
       "        vertical-align: top;\n",
       "    }\n",
       "\n",
       "    .dataframe thead th {\n",
       "        text-align: right;\n",
       "    }\n",
       "</style>\n",
       "<table border=\"1\" class=\"dataframe\">\n",
       "  <thead>\n",
       "    <tr style=\"text-align: right;\">\n",
       "      <th></th>\n",
       "      <th>0</th>\n",
       "      <th>1</th>\n",
       "      <th>2</th>\n",
       "      <th>3</th>\n",
       "      <th>4</th>\n",
       "      <th>5</th>\n",
       "      <th>6</th>\n",
       "      <th>7</th>\n",
       "      <th>8</th>\n",
       "      <th>9</th>\n",
       "      <th>...</th>\n",
       "      <th>292</th>\n",
       "      <th>293</th>\n",
       "      <th>294</th>\n",
       "      <th>295</th>\n",
       "      <th>296</th>\n",
       "      <th>297</th>\n",
       "      <th>298</th>\n",
       "      <th>299</th>\n",
       "      <th>ReviewScore</th>\n",
       "      <th>SentimentScore</th>\n",
       "    </tr>\n",
       "  </thead>\n",
       "  <tbody>\n",
       "    <tr>\n",
       "      <th>0.000000</th>\n",
       "      <td>0.000000</td>\n",
       "      <td>0.000000</td>\n",
       "      <td>0.0</td>\n",
       "      <td>0.0</td>\n",
       "      <td>0.000000</td>\n",
       "      <td>0.000000</td>\n",
       "      <td>0.000000</td>\n",
       "      <td>0.000000</td>\n",
       "      <td>0.342653</td>\n",
       "      <td>0.000000</td>\n",
       "      <td>...</td>\n",
       "      <td>0.000000</td>\n",
       "      <td>0.0</td>\n",
       "      <td>0.000000</td>\n",
       "      <td>0.0</td>\n",
       "      <td>0.0</td>\n",
       "      <td>0.0</td>\n",
       "      <td>0.000000</td>\n",
       "      <td>0.0</td>\n",
       "      <td>7.0</td>\n",
       "      <td>3</td>\n",
       "    </tr>\n",
       "    <tr>\n",
       "      <th>0.000000</th>\n",
       "      <td>0.000000</td>\n",
       "      <td>0.145674</td>\n",
       "      <td>0.0</td>\n",
       "      <td>0.0</td>\n",
       "      <td>0.000000</td>\n",
       "      <td>0.000000</td>\n",
       "      <td>0.000000</td>\n",
       "      <td>0.103937</td>\n",
       "      <td>0.081502</td>\n",
       "      <td>0.000000</td>\n",
       "      <td>...</td>\n",
       "      <td>0.000000</td>\n",
       "      <td>0.0</td>\n",
       "      <td>0.000000</td>\n",
       "      <td>0.0</td>\n",
       "      <td>0.0</td>\n",
       "      <td>0.0</td>\n",
       "      <td>0.000000</td>\n",
       "      <td>0.0</td>\n",
       "      <td>8.0</td>\n",
       "      <td>3</td>\n",
       "    </tr>\n",
       "    <tr>\n",
       "      <th>0.000000</th>\n",
       "      <td>0.000000</td>\n",
       "      <td>0.000000</td>\n",
       "      <td>0.0</td>\n",
       "      <td>0.0</td>\n",
       "      <td>0.000000</td>\n",
       "      <td>0.223283</td>\n",
       "      <td>0.000000</td>\n",
       "      <td>0.000000</td>\n",
       "      <td>0.000000</td>\n",
       "      <td>0.117255</td>\n",
       "      <td>...</td>\n",
       "      <td>0.000000</td>\n",
       "      <td>0.0</td>\n",
       "      <td>0.000000</td>\n",
       "      <td>0.0</td>\n",
       "      <td>0.0</td>\n",
       "      <td>0.0</td>\n",
       "      <td>0.000000</td>\n",
       "      <td>0.0</td>\n",
       "      <td>10.0</td>\n",
       "      <td>3</td>\n",
       "    </tr>\n",
       "    <tr>\n",
       "      <th>0.000000</th>\n",
       "      <td>0.000000</td>\n",
       "      <td>0.000000</td>\n",
       "      <td>0.0</td>\n",
       "      <td>0.0</td>\n",
       "      <td>0.000000</td>\n",
       "      <td>0.000000</td>\n",
       "      <td>0.000000</td>\n",
       "      <td>0.000000</td>\n",
       "      <td>0.000000</td>\n",
       "      <td>0.171806</td>\n",
       "      <td>...</td>\n",
       "      <td>0.000000</td>\n",
       "      <td>0.0</td>\n",
       "      <td>0.000000</td>\n",
       "      <td>0.0</td>\n",
       "      <td>0.0</td>\n",
       "      <td>0.0</td>\n",
       "      <td>0.281736</td>\n",
       "      <td>0.0</td>\n",
       "      <td>9.0</td>\n",
       "      <td>3</td>\n",
       "    </tr>\n",
       "    <tr>\n",
       "      <th>0.000000</th>\n",
       "      <td>0.000000</td>\n",
       "      <td>0.000000</td>\n",
       "      <td>0.0</td>\n",
       "      <td>0.0</td>\n",
       "      <td>0.000000</td>\n",
       "      <td>0.000000</td>\n",
       "      <td>0.448022</td>\n",
       "      <td>0.000000</td>\n",
       "      <td>0.124289</td>\n",
       "      <td>0.127323</td>\n",
       "      <td>...</td>\n",
       "      <td>0.000000</td>\n",
       "      <td>0.0</td>\n",
       "      <td>0.000000</td>\n",
       "      <td>0.0</td>\n",
       "      <td>0.0</td>\n",
       "      <td>0.0</td>\n",
       "      <td>0.000000</td>\n",
       "      <td>0.0</td>\n",
       "      <td>3.0</td>\n",
       "      <td>1</td>\n",
       "    </tr>\n",
       "    <tr>\n",
       "      <th>0.197002</th>\n",
       "      <td>0.197002</td>\n",
       "      <td>0.000000</td>\n",
       "      <td>0.0</td>\n",
       "      <td>0.0</td>\n",
       "      <td>0.000000</td>\n",
       "      <td>0.000000</td>\n",
       "      <td>0.000000</td>\n",
       "      <td>0.000000</td>\n",
       "      <td>0.118246</td>\n",
       "      <td>0.000000</td>\n",
       "      <td>...</td>\n",
       "      <td>0.000000</td>\n",
       "      <td>0.0</td>\n",
       "      <td>0.000000</td>\n",
       "      <td>0.0</td>\n",
       "      <td>0.0</td>\n",
       "      <td>0.0</td>\n",
       "      <td>0.000000</td>\n",
       "      <td>0.0</td>\n",
       "      <td>10.0</td>\n",
       "      <td>3</td>\n",
       "    </tr>\n",
       "    <tr>\n",
       "      <th>0.000000</th>\n",
       "      <td>0.000000</td>\n",
       "      <td>0.000000</td>\n",
       "      <td>0.0</td>\n",
       "      <td>0.0</td>\n",
       "      <td>0.101587</td>\n",
       "      <td>0.000000</td>\n",
       "      <td>0.216502</td>\n",
       "      <td>0.000000</td>\n",
       "      <td>0.120123</td>\n",
       "      <td>0.000000</td>\n",
       "      <td>...</td>\n",
       "      <td>0.101135</td>\n",
       "      <td>0.0</td>\n",
       "      <td>0.094049</td>\n",
       "      <td>0.0</td>\n",
       "      <td>0.0</td>\n",
       "      <td>0.0</td>\n",
       "      <td>0.000000</td>\n",
       "      <td>0.0</td>\n",
       "      <td>7.0</td>\n",
       "      <td>3</td>\n",
       "    </tr>\n",
       "    <tr>\n",
       "      <th>0.000000</th>\n",
       "      <td>0.000000</td>\n",
       "      <td>0.000000</td>\n",
       "      <td>0.0</td>\n",
       "      <td>0.0</td>\n",
       "      <td>0.000000</td>\n",
       "      <td>0.108437</td>\n",
       "      <td>0.000000</td>\n",
       "      <td>0.000000</td>\n",
       "      <td>0.000000</td>\n",
       "      <td>0.000000</td>\n",
       "      <td>...</td>\n",
       "      <td>0.000000</td>\n",
       "      <td>0.0</td>\n",
       "      <td>0.000000</td>\n",
       "      <td>0.0</td>\n",
       "      <td>0.0</td>\n",
       "      <td>0.0</td>\n",
       "      <td>0.000000</td>\n",
       "      <td>0.0</td>\n",
       "      <td>1.0</td>\n",
       "      <td>1</td>\n",
       "    </tr>\n",
       "    <tr>\n",
       "      <th>0.000000</th>\n",
       "      <td>0.000000</td>\n",
       "      <td>0.000000</td>\n",
       "      <td>0.0</td>\n",
       "      <td>0.0</td>\n",
       "      <td>0.000000</td>\n",
       "      <td>0.000000</td>\n",
       "      <td>0.000000</td>\n",
       "      <td>0.085473</td>\n",
       "      <td>0.000000</td>\n",
       "      <td>0.000000</td>\n",
       "      <td>...</td>\n",
       "      <td>0.112858</td>\n",
       "      <td>0.0</td>\n",
       "      <td>0.000000</td>\n",
       "      <td>0.0</td>\n",
       "      <td>0.0</td>\n",
       "      <td>0.0</td>\n",
       "      <td>0.000000</td>\n",
       "      <td>0.0</td>\n",
       "      <td>9.0</td>\n",
       "      <td>3</td>\n",
       "    </tr>\n",
       "    <tr>\n",
       "      <th>0.000000</th>\n",
       "      <td>0.000000</td>\n",
       "      <td>0.000000</td>\n",
       "      <td>0.0</td>\n",
       "      <td>0.0</td>\n",
       "      <td>0.000000</td>\n",
       "      <td>0.000000</td>\n",
       "      <td>0.000000</td>\n",
       "      <td>0.000000</td>\n",
       "      <td>0.000000</td>\n",
       "      <td>0.000000</td>\n",
       "      <td>...</td>\n",
       "      <td>0.000000</td>\n",
       "      <td>0.0</td>\n",
       "      <td>0.000000</td>\n",
       "      <td>0.0</td>\n",
       "      <td>0.0</td>\n",
       "      <td>0.0</td>\n",
       "      <td>0.000000</td>\n",
       "      <td>0.0</td>\n",
       "      <td>1.0</td>\n",
       "      <td>1</td>\n",
       "    </tr>\n",
       "  </tbody>\n",
       "</table>\n",
       "<p>10 rows × 302 columns</p>\n",
       "</div>"
      ],
      "text/plain": [
       "                 0         1    2    3         4         5         6  \\\n",
       "0.000000  0.000000  0.000000  0.0  0.0  0.000000  0.000000  0.000000   \n",
       "0.000000  0.000000  0.145674  0.0  0.0  0.000000  0.000000  0.000000   \n",
       "0.000000  0.000000  0.000000  0.0  0.0  0.000000  0.223283  0.000000   \n",
       "0.000000  0.000000  0.000000  0.0  0.0  0.000000  0.000000  0.000000   \n",
       "0.000000  0.000000  0.000000  0.0  0.0  0.000000  0.000000  0.448022   \n",
       "0.197002  0.197002  0.000000  0.0  0.0  0.000000  0.000000  0.000000   \n",
       "0.000000  0.000000  0.000000  0.0  0.0  0.101587  0.000000  0.216502   \n",
       "0.000000  0.000000  0.000000  0.0  0.0  0.000000  0.108437  0.000000   \n",
       "0.000000  0.000000  0.000000  0.0  0.0  0.000000  0.000000  0.000000   \n",
       "0.000000  0.000000  0.000000  0.0  0.0  0.000000  0.000000  0.000000   \n",
       "\n",
       "                 7         8         9  ...       292  293       294  295  \\\n",
       "0.000000  0.000000  0.342653  0.000000  ...  0.000000  0.0  0.000000  0.0   \n",
       "0.000000  0.103937  0.081502  0.000000  ...  0.000000  0.0  0.000000  0.0   \n",
       "0.000000  0.000000  0.000000  0.117255  ...  0.000000  0.0  0.000000  0.0   \n",
       "0.000000  0.000000  0.000000  0.171806  ...  0.000000  0.0  0.000000  0.0   \n",
       "0.000000  0.000000  0.124289  0.127323  ...  0.000000  0.0  0.000000  0.0   \n",
       "0.197002  0.000000  0.118246  0.000000  ...  0.000000  0.0  0.000000  0.0   \n",
       "0.000000  0.000000  0.120123  0.000000  ...  0.101135  0.0  0.094049  0.0   \n",
       "0.000000  0.000000  0.000000  0.000000  ...  0.000000  0.0  0.000000  0.0   \n",
       "0.000000  0.085473  0.000000  0.000000  ...  0.112858  0.0  0.000000  0.0   \n",
       "0.000000  0.000000  0.000000  0.000000  ...  0.000000  0.0  0.000000  0.0   \n",
       "\n",
       "          296  297       298  299  ReviewScore  SentimentScore  \n",
       "0.000000  0.0  0.0  0.000000  0.0          7.0               3  \n",
       "0.000000  0.0  0.0  0.000000  0.0          8.0               3  \n",
       "0.000000  0.0  0.0  0.000000  0.0         10.0               3  \n",
       "0.000000  0.0  0.0  0.281736  0.0          9.0               3  \n",
       "0.000000  0.0  0.0  0.000000  0.0          3.0               1  \n",
       "0.197002  0.0  0.0  0.000000  0.0         10.0               3  \n",
       "0.000000  0.0  0.0  0.000000  0.0          7.0               3  \n",
       "0.000000  0.0  0.0  0.000000  0.0          1.0               1  \n",
       "0.000000  0.0  0.0  0.000000  0.0          9.0               3  \n",
       "0.000000  0.0  0.0  0.000000  0.0          1.0               1  \n",
       "\n",
       "[10 rows x 302 columns]"
      ]
     },
     "execution_count": 709,
     "metadata": {},
     "output_type": "execute_result"
    }
   ],
   "source": [
    "# returning a random sample to check the new feature\n",
    "review_df.sample(10)"
   ]
  },
  {
   "cell_type": "markdown",
   "id": "fc6d6582",
   "metadata": {},
   "source": [
    "## Running SVM w/ 'SentimentScore' as target variable\n",
    "### Now using the new feature created 'SentimentScore' to test the Support Vector Machines accuracy when only using 3 target variables (1, 2 & 3). 1 = Negative ; 2 = Neutral ; 3 = Positive\n",
    "### The TF-IDF Values will be fed to the SVM to predict the target variable 'SentimentScore'. "
   ]
  },
  {
   "cell_type": "code",
   "execution_count": 70,
   "id": "743dd5ba",
   "metadata": {},
   "outputs": [
    {
     "data": {
      "text/plain": [
       "(28497, 102)"
      ]
     },
     "execution_count": 70,
     "metadata": {},
     "output_type": "execute_result"
    }
   ],
   "source": [
    "review_df.shape"
   ]
  },
  {
   "cell_type": "code",
   "execution_count": 71,
   "id": "864710e9",
   "metadata": {},
   "outputs": [
    {
     "data": {
      "text/plain": [
       "True"
      ]
     },
     "execution_count": 71,
     "metadata": {},
     "output_type": "execute_result"
    }
   ],
   "source": [
    "# checking for NaN and that values are finite\n",
    "review_df.isnull().values.any()"
   ]
  },
  {
   "cell_type": "code",
   "execution_count": 72,
   "id": "fea4544a",
   "metadata": {},
   "outputs": [],
   "source": [
    "# removing NaN columns\n",
    "review_df = review_df.dropna()"
   ]
  },
  {
   "cell_type": "code",
   "execution_count": 73,
   "id": "9f8ebdcf",
   "metadata": {},
   "outputs": [
    {
     "data": {
      "text/plain": [
       "(28496, 102)"
      ]
     },
     "execution_count": 73,
     "metadata": {},
     "output_type": "execute_result"
    }
   ],
   "source": [
    "# re-checking the shape to make sure column was removed\n",
    "review_df.shape"
   ]
  },
  {
   "cell_type": "markdown",
   "id": "1e1d2e0a",
   "metadata": {},
   "source": [
    "### Create Model w/ SentimentScore target variable."
   ]
  },
  {
   "cell_type": "code",
   "execution_count": 74,
   "id": "8f204c00",
   "metadata": {},
   "outputs": [],
   "source": [
    "# Splitting data into training / test split + defining new target 'SentimentScore'\n",
    "x_train, x_test, y_train, y_test = train_test_split(review_df.loc[:,review_df.columns != 'SentimentScore'], review_df['SentimentScore'], test_size=0.3, random_state=109)"
   ]
  },
  {
   "cell_type": "code",
   "execution_count": 75,
   "id": "60dfd150",
   "metadata": {},
   "outputs": [],
   "source": [
    "# creating a new classifier using 'rbf' kernel as had best results previously\n",
    "clf2 = svm.SVC(kernel='rbf') # polynomial kernel"
   ]
  },
  {
   "cell_type": "code",
   "execution_count": 76,
   "id": "99068832",
   "metadata": {},
   "outputs": [
    {
     "data": {
      "text/plain": [
       "SVC()"
      ]
     },
     "execution_count": 76,
     "metadata": {},
     "output_type": "execute_result"
    }
   ],
   "source": [
    "# training the model using the training set (70% training, 30% test split)\n",
    "clf2.fit(x_train, y_train)"
   ]
  },
  {
   "cell_type": "code",
   "execution_count": 77,
   "id": "bcbe7701",
   "metadata": {},
   "outputs": [],
   "source": [
    "# predict the response for the test data\n",
    "y_pred = clf2.predict(x_test)"
   ]
  },
  {
   "cell_type": "code",
   "execution_count": 78,
   "id": "ffb9c8e1",
   "metadata": {},
   "outputs": [
    {
     "name": "stdout",
     "output_type": "stream",
     "text": [
      "[1 1 3 ... 3 3 3]\n"
     ]
    }
   ],
   "source": [
    "print(y_pred)"
   ]
  },
  {
   "cell_type": "markdown",
   "id": "42541030",
   "metadata": {},
   "source": [
    "### Evaluation"
   ]
  },
  {
   "cell_type": "code",
   "execution_count": 79,
   "id": "f8f87bc6",
   "metadata": {},
   "outputs": [
    {
     "name": "stdout",
     "output_type": "stream",
     "text": [
      "Accuracy:  1.0\n"
     ]
    }
   ],
   "source": [
    "# print accuracy\n",
    "print(\"Accuracy: \", metrics.accuracy_score(y_test, y_pred))"
   ]
  },
  {
   "cell_type": "code",
   "execution_count": 80,
   "id": "f9e8bf59",
   "metadata": {},
   "outputs": [
    {
     "name": "stdout",
     "output_type": "stream",
     "text": [
      "Precision:  1.0\n"
     ]
    }
   ],
   "source": [
    "# print precision\n",
    "print(\"Precision: \",metrics.precision_score(y_test, y_pred, average='macro'))"
   ]
  },
  {
   "cell_type": "code",
   "execution_count": 81,
   "id": "ffea02ee",
   "metadata": {},
   "outputs": [
    {
     "name": "stdout",
     "output_type": "stream",
     "text": [
      "Recall:  1.0\n"
     ]
    }
   ],
   "source": [
    "# print recall, what % of labels are labeled correctly\n",
    "print(\"Recall: \",metrics.recall_score(y_test, y_pred, average='macro'))"
   ]
  },
  {
   "cell_type": "code",
   "execution_count": 82,
   "id": "be069818",
   "metadata": {},
   "outputs": [
    {
     "name": "stdout",
     "output_type": "stream",
     "text": [
      "Classification Report:                precision    recall  f1-score   support\n",
      "\n",
      "           1       1.00      1.00      1.00      3803\n",
      "           2       1.00      1.00      1.00       765\n",
      "           3       1.00      1.00      1.00      3981\n",
      "\n",
      "    accuracy                           1.00      8549\n",
      "   macro avg       1.00      1.00      1.00      8549\n",
      "weighted avg       1.00      1.00      1.00      8549\n",
      "\n"
     ]
    }
   ],
   "source": [
    "print(\"Classification Report: \",classification_report(y_test,y_pred))"
   ]
  },
  {
   "cell_type": "markdown",
   "id": "e9d335ea",
   "metadata": {},
   "source": [
    "#### Assuming the model is recognizing the relationship between 'ReviewScore' and 'SentimentScore' to produce 100% accuracy, I will remove this column from the dataframe and re-run the model with different kernels to evaluate if the TF-IDF vectors alone produce similar results."
   ]
  },
  {
   "cell_type": "markdown",
   "id": "b27c521c",
   "metadata": {},
   "source": [
    "### Pre-Processing"
   ]
  },
  {
   "cell_type": "code",
   "execution_count": 710,
   "id": "2bbb8894",
   "metadata": {},
   "outputs": [],
   "source": [
    "# create new dataframe without the 'ReviewScore' column\n",
    "ss_df = review_df.drop(['ReviewScore'], axis=1)"
   ]
  },
  {
   "cell_type": "code",
   "execution_count": 711,
   "id": "7eecfe01",
   "metadata": {
    "scrolled": true
   },
   "outputs": [
    {
     "data": {
      "text/html": [
       "<div>\n",
       "<style scoped>\n",
       "    .dataframe tbody tr th:only-of-type {\n",
       "        vertical-align: middle;\n",
       "    }\n",
       "\n",
       "    .dataframe tbody tr th {\n",
       "        vertical-align: top;\n",
       "    }\n",
       "\n",
       "    .dataframe thead th {\n",
       "        text-align: right;\n",
       "    }\n",
       "</style>\n",
       "<table border=\"1\" class=\"dataframe\">\n",
       "  <thead>\n",
       "    <tr style=\"text-align: right;\">\n",
       "      <th></th>\n",
       "      <th>0</th>\n",
       "      <th>1</th>\n",
       "      <th>2</th>\n",
       "      <th>3</th>\n",
       "      <th>4</th>\n",
       "      <th>5</th>\n",
       "      <th>6</th>\n",
       "      <th>7</th>\n",
       "      <th>8</th>\n",
       "      <th>9</th>\n",
       "      <th>...</th>\n",
       "      <th>291</th>\n",
       "      <th>292</th>\n",
       "      <th>293</th>\n",
       "      <th>294</th>\n",
       "      <th>295</th>\n",
       "      <th>296</th>\n",
       "      <th>297</th>\n",
       "      <th>298</th>\n",
       "      <th>299</th>\n",
       "      <th>SentimentScore</th>\n",
       "    </tr>\n",
       "  </thead>\n",
       "  <tbody>\n",
       "    <tr>\n",
       "      <th>0.000000</th>\n",
       "      <td>0.000000</td>\n",
       "      <td>0.000000</td>\n",
       "      <td>0.0</td>\n",
       "      <td>0.0</td>\n",
       "      <td>0.0</td>\n",
       "      <td>0.0</td>\n",
       "      <td>0.0</td>\n",
       "      <td>0.0</td>\n",
       "      <td>0.091932</td>\n",
       "      <td>0.188352</td>\n",
       "      <td>...</td>\n",
       "      <td>0.0</td>\n",
       "      <td>0.0</td>\n",
       "      <td>0.0</td>\n",
       "      <td>0.0</td>\n",
       "      <td>0.0</td>\n",
       "      <td>0.000000</td>\n",
       "      <td>0.0</td>\n",
       "      <td>0.0</td>\n",
       "      <td>0.0</td>\n",
       "      <td>3</td>\n",
       "    </tr>\n",
       "    <tr>\n",
       "      <th>0.000000</th>\n",
       "      <td>0.000000</td>\n",
       "      <td>0.091808</td>\n",
       "      <td>0.0</td>\n",
       "      <td>0.0</td>\n",
       "      <td>0.0</td>\n",
       "      <td>0.0</td>\n",
       "      <td>0.0</td>\n",
       "      <td>0.0</td>\n",
       "      <td>0.051365</td>\n",
       "      <td>0.052619</td>\n",
       "      <td>...</td>\n",
       "      <td>0.0</td>\n",
       "      <td>0.0</td>\n",
       "      <td>0.0</td>\n",
       "      <td>0.0</td>\n",
       "      <td>0.0</td>\n",
       "      <td>0.077107</td>\n",
       "      <td>0.0</td>\n",
       "      <td>0.0</td>\n",
       "      <td>0.0</td>\n",
       "      <td>1</td>\n",
       "    </tr>\n",
       "    <tr>\n",
       "      <th>0.000000</th>\n",
       "      <td>0.000000</td>\n",
       "      <td>0.000000</td>\n",
       "      <td>0.0</td>\n",
       "      <td>0.0</td>\n",
       "      <td>0.0</td>\n",
       "      <td>0.0</td>\n",
       "      <td>0.0</td>\n",
       "      <td>0.0</td>\n",
       "      <td>0.000000</td>\n",
       "      <td>0.000000</td>\n",
       "      <td>...</td>\n",
       "      <td>0.0</td>\n",
       "      <td>0.0</td>\n",
       "      <td>0.0</td>\n",
       "      <td>0.0</td>\n",
       "      <td>0.0</td>\n",
       "      <td>0.000000</td>\n",
       "      <td>0.0</td>\n",
       "      <td>0.0</td>\n",
       "      <td>0.0</td>\n",
       "      <td>3</td>\n",
       "    </tr>\n",
       "    <tr>\n",
       "      <th>0.000000</th>\n",
       "      <td>0.000000</td>\n",
       "      <td>0.000000</td>\n",
       "      <td>0.0</td>\n",
       "      <td>0.0</td>\n",
       "      <td>0.0</td>\n",
       "      <td>0.0</td>\n",
       "      <td>0.0</td>\n",
       "      <td>0.0</td>\n",
       "      <td>0.000000</td>\n",
       "      <td>0.000000</td>\n",
       "      <td>...</td>\n",
       "      <td>0.0</td>\n",
       "      <td>0.0</td>\n",
       "      <td>0.0</td>\n",
       "      <td>0.0</td>\n",
       "      <td>0.0</td>\n",
       "      <td>0.000000</td>\n",
       "      <td>0.0</td>\n",
       "      <td>0.0</td>\n",
       "      <td>0.0</td>\n",
       "      <td>3</td>\n",
       "    </tr>\n",
       "    <tr>\n",
       "      <th>0.181374</th>\n",
       "      <td>0.181374</td>\n",
       "      <td>0.000000</td>\n",
       "      <td>0.0</td>\n",
       "      <td>0.0</td>\n",
       "      <td>0.0</td>\n",
       "      <td>0.0</td>\n",
       "      <td>0.0</td>\n",
       "      <td>0.0</td>\n",
       "      <td>0.000000</td>\n",
       "      <td>0.000000</td>\n",
       "      <td>...</td>\n",
       "      <td>0.0</td>\n",
       "      <td>0.0</td>\n",
       "      <td>0.0</td>\n",
       "      <td>0.0</td>\n",
       "      <td>0.0</td>\n",
       "      <td>0.000000</td>\n",
       "      <td>0.0</td>\n",
       "      <td>0.0</td>\n",
       "      <td>0.0</td>\n",
       "      <td>3</td>\n",
       "    </tr>\n",
       "  </tbody>\n",
       "</table>\n",
       "<p>5 rows × 301 columns</p>\n",
       "</div>"
      ],
      "text/plain": [
       "                 0         1    2    3    4    5    6    7         8  \\\n",
       "0.000000  0.000000  0.000000  0.0  0.0  0.0  0.0  0.0  0.0  0.091932   \n",
       "0.000000  0.000000  0.091808  0.0  0.0  0.0  0.0  0.0  0.0  0.051365   \n",
       "0.000000  0.000000  0.000000  0.0  0.0  0.0  0.0  0.0  0.0  0.000000   \n",
       "0.000000  0.000000  0.000000  0.0  0.0  0.0  0.0  0.0  0.0  0.000000   \n",
       "0.181374  0.181374  0.000000  0.0  0.0  0.0  0.0  0.0  0.0  0.000000   \n",
       "\n",
       "                 9  ...  291  292  293  294  295       296  297  298  299  \\\n",
       "0.000000  0.188352  ...  0.0  0.0  0.0  0.0  0.0  0.000000  0.0  0.0  0.0   \n",
       "0.000000  0.052619  ...  0.0  0.0  0.0  0.0  0.0  0.077107  0.0  0.0  0.0   \n",
       "0.000000  0.000000  ...  0.0  0.0  0.0  0.0  0.0  0.000000  0.0  0.0  0.0   \n",
       "0.000000  0.000000  ...  0.0  0.0  0.0  0.0  0.0  0.000000  0.0  0.0  0.0   \n",
       "0.181374  0.000000  ...  0.0  0.0  0.0  0.0  0.0  0.000000  0.0  0.0  0.0   \n",
       "\n",
       "          SentimentScore  \n",
       "0.000000               3  \n",
       "0.000000               1  \n",
       "0.000000               3  \n",
       "0.000000               3  \n",
       "0.181374               3  \n",
       "\n",
       "[5 rows x 301 columns]"
      ]
     },
     "execution_count": 711,
     "metadata": {},
     "output_type": "execute_result"
    }
   ],
   "source": [
    "# check how the new dataframe is looking\n",
    "ss_df.sample(5)"
   ]
  },
  {
   "cell_type": "markdown",
   "id": "a94cf2d4",
   "metadata": {},
   "source": [
    "### Data Exploration\n",
    "#### Creating a plot of the distribution of negative, neutral and positive reviews to check if the results are evenly distributed."
   ]
  },
  {
   "cell_type": "code",
   "execution_count": 712,
   "id": "bdeb8e56",
   "metadata": {
    "scrolled": true
   },
   "outputs": [
    {
     "data": {
      "text/plain": [
       "array([3, 1, 2, 0])"
      ]
     },
     "execution_count": 712,
     "metadata": {},
     "output_type": "execute_result"
    }
   ],
   "source": [
    "# checking the unique values under the column\n",
    "ss_df['SentimentScore'].unique()"
   ]
  },
  {
   "cell_type": "code",
   "execution_count": 713,
   "id": "16d45cd7",
   "metadata": {
    "scrolled": true
   },
   "outputs": [
    {
     "data": {
      "text/plain": [
       "3    13110\n",
       "1    12745\n",
       "2     2641\n",
       "0        1\n",
       "Name: SentimentScore, dtype: int64"
      ]
     },
     "execution_count": 713,
     "metadata": {},
     "output_type": "execute_result"
    }
   ],
   "source": [
    "# getting a count for each value\n",
    "ss_df['SentimentScore'].value_counts()"
   ]
  },
  {
   "cell_type": "code",
   "execution_count": 714,
   "id": "9d990301",
   "metadata": {},
   "outputs": [
    {
     "data": {
      "text/plain": [
       "<AxesSubplot:>"
      ]
     },
     "execution_count": 714,
     "metadata": {},
     "output_type": "execute_result"
    },
    {
     "data": {
      "image/png": "[encoded data removed]",
      "text/plain": [
       "<Figure size 432x288 with 1 Axes>"
      ]
     },
     "metadata": {
      "needs_background": "light"
     },
     "output_type": "display_data"
    }
   ],
   "source": [
    "# create plot\n",
    "ss_df['SentimentScore'].value_counts()[:3].plot(kind='bar')"
   ]
  },
  {
   "cell_type": "markdown",
   "id": "b1502f52",
   "metadata": {},
   "source": [
    "### Splitting the data (SentimentScore as target variable)"
   ]
  },
  {
   "cell_type": "code",
   "execution_count": 715,
   "id": "b0fa642c",
   "metadata": {},
   "outputs": [],
   "source": [
    "# seperate data into training / test splits (70% train, 30% test)\n",
    "x_train, x_test, y_train, y_test = train_test_split(ss_df.loc[:,ss_df.columns != 'SentimentScore'], ss_df['SentimentScore'], test_size=0.3, random_state=109)"
   ]
  },
  {
   "cell_type": "markdown",
   "id": "c88f074d",
   "metadata": {},
   "source": [
    "### Creating SVM Model"
   ]
  },
  {
   "cell_type": "code",
   "execution_count": 716,
   "id": "93915311",
   "metadata": {},
   "outputs": [],
   "source": [
    "# create a classifier using a 'linear kernal'\n",
    "ss_classifier = svm.SVC(kernel='rbf') # Linear Kernel"
   ]
  },
  {
   "cell_type": "code",
   "execution_count": 717,
   "id": "332fbaa3",
   "metadata": {},
   "outputs": [
    {
     "data": {
      "text/plain": [
       "SVC()"
      ]
     },
     "execution_count": 717,
     "metadata": {},
     "output_type": "execute_result"
    }
   ],
   "source": [
    "# train the svm model using the training sets\n",
    "ss_classifier.fit(x_train, y_train)"
   ]
  },
  {
   "cell_type": "code",
   "execution_count": 718,
   "id": "d7025aa6",
   "metadata": {},
   "outputs": [],
   "source": [
    "# predict a response for the testing set\n",
    "y_pred = ss_classifier.predict(x_test)"
   ]
  },
  {
   "cell_type": "code",
   "execution_count": 719,
   "id": "16e169ce",
   "metadata": {},
   "outputs": [
    {
     "data": {
      "text/plain": [
       "0.110229    1\n",
       "0.000000    1\n",
       "0.000000    1\n",
       "0.000000    1\n",
       "0.000000    2\n",
       "           ..\n",
       "0.000000    1\n",
       "0.000000    1\n",
       "0.000000    3\n",
       "0.000000    3\n",
       "0.000000    3\n",
       "Name: SentimentScore, Length: 8550, dtype: int32"
      ]
     },
     "execution_count": 719,
     "metadata": {},
     "output_type": "execute_result"
    }
   ],
   "source": [
    "y_test"
   ]
  },
  {
   "cell_type": "code",
   "execution_count": 720,
   "id": "6f5b1ab8",
   "metadata": {},
   "outputs": [
    {
     "data": {
      "text/plain": [
       "array([1, 1, 1, ..., 3, 3, 3])"
      ]
     },
     "execution_count": 720,
     "metadata": {},
     "output_type": "execute_result"
    }
   ],
   "source": [
    "y_pred"
   ]
  },
  {
   "cell_type": "markdown",
   "id": "a083114c",
   "metadata": {},
   "source": [
    "### Evaluation"
   ]
  },
  {
   "cell_type": "code",
   "execution_count": 721,
   "id": "47d86fa6",
   "metadata": {},
   "outputs": [
    {
     "name": "stdout",
     "output_type": "stream",
     "text": [
      "              precision    recall  f1-score   support\n",
      "\n",
      "           1       0.84      0.92      0.88      3800\n",
      "           2       0.77      0.06      0.10       778\n",
      "           3       0.83      0.91      0.87      3972\n",
      "\n",
      "    accuracy                           0.83      8550\n",
      "   macro avg       0.81      0.63      0.62      8550\n",
      "weighted avg       0.83      0.83      0.80      8550\n",
      "\n"
     ]
    }
   ],
   "source": [
    "# printing report\n",
    "print(classification_report(y_test, y_pred))"
   ]
  },
  {
   "cell_type": "code",
   "execution_count": 722,
   "id": "047042d6",
   "metadata": {},
   "outputs": [
    {
     "name": "stdout",
     "output_type": "stream",
     "text": [
      "Accuracy:  0.8349707602339181\n"
     ]
    }
   ],
   "source": [
    "# model accuracy\n",
    "print(\"Accuracy: \", metrics.accuracy_score(y_test, y_pred))"
   ]
  },
  {
   "cell_type": "code",
   "execution_count": 723,
   "id": "2bd5b431",
   "metadata": {},
   "outputs": [
    {
     "name": "stdout",
     "output_type": "stream",
     "text": [
      "Precision: 0.8129556917070498\n"
     ]
    }
   ],
   "source": [
    "# check precision of the model\n",
    "print(\"Precision:\",metrics.precision_score(y_test, y_pred, average='macro'))"
   ]
  },
  {
   "cell_type": "code",
   "execution_count": 724,
   "id": "5576bd46",
   "metadata": {},
   "outputs": [
    {
     "name": "stdout",
     "output_type": "stream",
     "text": [
      "Recall: 0.6271402030876034\n"
     ]
    }
   ],
   "source": [
    "# model recall, what % of positive tuples are labeled correctly\n",
    "print(\"Recall:\",metrics.recall_score(y_test, y_pred,average='macro'))"
   ]
  },
  {
   "cell_type": "markdown",
   "id": "6c649954",
   "metadata": {},
   "source": [
    "### Hyper-parameter Tuning"
   ]
  },
  {
   "cell_type": "code",
   "execution_count": 98,
   "id": "209b3e42",
   "metadata": {},
   "outputs": [],
   "source": [
    "# importing GridSearchCV\n",
    "from sklearn.model_selection import GridSearchCV"
   ]
  },
  {
   "cell_type": "code",
   "execution_count": 99,
   "id": "90ee6b24",
   "metadata": {},
   "outputs": [
    {
     "name": "stdout",
     "output_type": "stream",
     "text": [
      "Fitting 5 folds for each of 9 candidates, totalling 45 fits\n",
      "[CV 1/5] END .....C=0.1, gamma=1, kernel=linear;, score=0.793 total time=  27.0s\n",
      "[CV 2/5] END .....C=0.1, gamma=1, kernel=linear;, score=0.788 total time=  26.7s\n",
      "[CV 3/5] END .....C=0.1, gamma=1, kernel=linear;, score=0.790 total time=  27.3s\n",
      "[CV 4/5] END .....C=0.1, gamma=1, kernel=linear;, score=0.788 total time=  25.9s\n",
      "[CV 5/5] END .....C=0.1, gamma=1, kernel=linear;, score=0.783 total time=  26.0s\n",
      "[CV 1/5] END ...C=0.1, gamma=0.1, kernel=linear;, score=0.793 total time=  26.5s\n",
      "[CV 2/5] END ...C=0.1, gamma=0.1, kernel=linear;, score=0.788 total time=  26.7s\n",
      "[CV 3/5] END ...C=0.1, gamma=0.1, kernel=linear;, score=0.790 total time=  26.4s\n",
      "[CV 4/5] END ...C=0.1, gamma=0.1, kernel=linear;, score=0.788 total time=  26.4s\n",
      "[CV 5/5] END ...C=0.1, gamma=0.1, kernel=linear;, score=0.783 total time=  26.3s\n",
      "[CV 1/5] END ..C=0.1, gamma=0.01, kernel=linear;, score=0.793 total time=  26.2s\n",
      "[CV 2/5] END ..C=0.1, gamma=0.01, kernel=linear;, score=0.788 total time=  26.5s\n",
      "[CV 3/5] END ..C=0.1, gamma=0.01, kernel=linear;, score=0.790 total time=  26.8s\n",
      "[CV 4/5] END ..C=0.1, gamma=0.01, kernel=linear;, score=0.788 total time=  34.5s\n",
      "[CV 5/5] END ..C=0.1, gamma=0.01, kernel=linear;, score=0.783 total time=  30.3s\n",
      "[CV 1/5] END ......C=10, gamma=1, kernel=linear;, score=0.793 total time=  45.1s\n",
      "[CV 2/5] END ......C=10, gamma=1, kernel=linear;, score=0.790 total time=  38.0s\n",
      "[CV 3/5] END ......C=10, gamma=1, kernel=linear;, score=0.794 total time=  39.1s\n",
      "[CV 4/5] END ......C=10, gamma=1, kernel=linear;, score=0.792 total time=  42.6s\n",
      "[CV 5/5] END ......C=10, gamma=1, kernel=linear;, score=0.783 total time=  47.3s\n",
      "[CV 1/5] END ....C=10, gamma=0.1, kernel=linear;, score=0.793 total time=  40.9s\n",
      "[CV 2/5] END ....C=10, gamma=0.1, kernel=linear;, score=0.790 total time=  39.8s\n",
      "[CV 3/5] END ....C=10, gamma=0.1, kernel=linear;, score=0.794 total time=  39.0s\n",
      "[CV 4/5] END ....C=10, gamma=0.1, kernel=linear;, score=0.792 total time=  38.9s\n",
      "[CV 5/5] END ....C=10, gamma=0.1, kernel=linear;, score=0.783 total time=  40.7s\n",
      "[CV 1/5] END ...C=10, gamma=0.01, kernel=linear;, score=0.793 total time=  40.0s\n",
      "[CV 2/5] END ...C=10, gamma=0.01, kernel=linear;, score=0.790 total time=  39.5s\n",
      "[CV 3/5] END ...C=10, gamma=0.01, kernel=linear;, score=0.794 total time=  48.4s\n",
      "[CV 4/5] END ...C=10, gamma=0.01, kernel=linear;, score=0.792 total time=  42.8s\n",
      "[CV 5/5] END ...C=10, gamma=0.01, kernel=linear;, score=0.783 total time=  38.8s\n",
      "[CV 1/5] END ...C=1000, gamma=1, kernel=linear;, score=0.792 total time=180.3min\n",
      "[CV 2/5] END ...C=1000, gamma=1, kernel=linear;, score=0.790 total time=154.0min\n",
      "[CV 3/5] END ...C=1000, gamma=1, kernel=linear;, score=0.793 total time=162.4min\n",
      "[CV 4/5] END ...C=1000, gamma=1, kernel=linear;, score=0.792 total time=164.4min\n",
      "[CV 5/5] END ...C=1000, gamma=1, kernel=linear;, score=0.784 total time=161.1min\n",
      "[CV 1/5] END .C=1000, gamma=0.1, kernel=linear;, score=0.792 total time=289.1min\n",
      "[CV 2/5] END .C=1000, gamma=0.1, kernel=linear;, score=0.790 total time=135.7min\n",
      "[CV 3/5] END .C=1000, gamma=0.1, kernel=linear;, score=0.793 total time=132.6min\n",
      "[CV 4/5] END .C=1000, gamma=0.1, kernel=linear;, score=0.792 total time=162.1min\n",
      "[CV 5/5] END .C=1000, gamma=0.1, kernel=linear;, score=0.784 total time=434.7min\n",
      "[CV 1/5] END C=1000, gamma=0.01, kernel=linear;, score=0.792 total time=254.5min\n",
      "[CV 2/5] END C=1000, gamma=0.01, kernel=linear;, score=0.790 total time=136.1min\n",
      "[CV 3/5] END C=1000, gamma=0.01, kernel=linear;, score=0.793 total time=225.6min\n",
      "[CV 4/5] END C=1000, gamma=0.01, kernel=linear;, score=0.792 total time=182.5min\n",
      "[CV 5/5] END C=1000, gamma=0.01, kernel=linear;, score=0.784 total time=145.7min\n"
     ]
    },
    {
     "data": {
      "text/plain": [
       "GridSearchCV(estimator=SVC(),\n",
       "             param_grid={'C': [0.1, 10, 1000], 'gamma': [1, 0.1, 0.01],\n",
       "                         'kernel': ['linear']},\n",
       "             verbose=3)"
      ]
     },
     "execution_count": 99,
     "metadata": {},
     "output_type": "execute_result"
    }
   ],
   "source": [
    "# define a parameter range\n",
    "param_grid = {'C': [0.1, 10, 1000],\n",
    "             'gamma': [1, 0.1, 0.01],\n",
    "             'kernel': ['linear']}\n",
    "\n",
    "grid03 = GridSearchCV(svm.SVC(), param_grid, refit = True, verbose = 3)\n",
    "\n",
    "grid03.fit(x_train, y_train)"
   ]
  },
  {
   "cell_type": "markdown",
   "id": "13b4939c",
   "metadata": {},
   "source": [
    "### Hyper-parameter Evaluations"
   ]
  },
  {
   "cell_type": "code",
   "execution_count": 100,
   "id": "4c1db1b4",
   "metadata": {},
   "outputs": [
    {
     "name": "stdout",
     "output_type": "stream",
     "text": [
      "{'C': 10, 'gamma': 1, 'kernel': 'linear'}\n"
     ]
    }
   ],
   "source": [
    "print(grid03.best_params_)"
   ]
  },
  {
   "cell_type": "markdown",
   "id": "4694e51a",
   "metadata": {},
   "source": [
    "##### In this instance, with the removal of C value '1.0' & gamma value '0.0001', the best parameters worked out at a C value of 10; gamma value of 1. "
   ]
  },
  {
   "cell_type": "code",
   "execution_count": 101,
   "id": "6762b708",
   "metadata": {},
   "outputs": [
    {
     "name": "stdout",
     "output_type": "stream",
     "text": [
      "SVC(C=10, gamma=1, kernel='linear')\n"
     ]
    }
   ],
   "source": [
    "print(grid03.best_estimator_)"
   ]
  },
  {
   "cell_type": "code",
   "execution_count": 102,
   "id": "754a72aa",
   "metadata": {},
   "outputs": [
    {
     "name": "stdout",
     "output_type": "stream",
     "text": [
      "              precision    recall  f1-score   support\n",
      "\n",
      "           1       0.80      0.88      0.84      3803\n",
      "           2       0.00      0.00      0.00       765\n",
      "           3       0.79      0.87      0.83      3981\n",
      "\n",
      "    accuracy                           0.80      8549\n",
      "   macro avg       0.53      0.58      0.56      8549\n",
      "weighted avg       0.73      0.80      0.76      8549\n",
      "\n"
     ]
    },
    {
     "name": "stderr",
     "output_type": "stream",
     "text": [
      "C:\\Users\\jorda\\anaconda3\\lib\\site-packages\\sklearn\\metrics\\_classification.py:1248: UndefinedMetricWarning: Precision and F-score are ill-defined and being set to 0.0 in labels with no predicted samples. Use `zero_division` parameter to control this behavior.\n",
      "  _warn_prf(average, modifier, msg_start, len(result))\n",
      "C:\\Users\\jorda\\anaconda3\\lib\\site-packages\\sklearn\\metrics\\_classification.py:1248: UndefinedMetricWarning: Precision and F-score are ill-defined and being set to 0.0 in labels with no predicted samples. Use `zero_division` parameter to control this behavior.\n",
      "  _warn_prf(average, modifier, msg_start, len(result))\n",
      "C:\\Users\\jorda\\anaconda3\\lib\\site-packages\\sklearn\\metrics\\_classification.py:1248: UndefinedMetricWarning: Precision and F-score are ill-defined and being set to 0.0 in labels with no predicted samples. Use `zero_division` parameter to control this behavior.\n",
      "  _warn_prf(average, modifier, msg_start, len(result))\n"
     ]
    }
   ],
   "source": [
    "grid_predictions = grid03.predict(x_test)\n",
    "\n",
    "# print classification report\n",
    "print(classification_report(y_test, grid_predictions))"
   ]
  },
  {
   "cell_type": "code",
   "execution_count": 103,
   "id": "d0404991",
   "metadata": {},
   "outputs": [
    {
     "name": "stdout",
     "output_type": "stream",
     "text": [
      "{'C': [0.1, 10, 1000], 'gamma': [1, 0.1, 0.01], 'kernel': ['linear']}\n"
     ]
    }
   ],
   "source": [
    "print(param_grid)"
   ]
  },
  {
   "cell_type": "code",
   "execution_count": 104,
   "id": "1d8f6e87",
   "metadata": {},
   "outputs": [
    {
     "name": "stdout",
     "output_type": "stream",
     "text": [
      "0.7903944242657284\n"
     ]
    }
   ],
   "source": [
    "print(grid03.best_score_)"
   ]
  },
  {
   "cell_type": "markdown",
   "id": "6f32fafd",
   "metadata": {},
   "source": [
    "### Results"
   ]
  },
  {
   "cell_type": "code",
   "execution_count": 733,
   "id": "6129e77f",
   "metadata": {},
   "outputs": [],
   "source": [
    "# put the results in a data frame\n",
    "grid03_results_df = pd.DataFrame(grid03.cv_results_)"
   ]
  },
  {
   "cell_type": "code",
   "execution_count": 734,
   "id": "6a6ca0fa",
   "metadata": {},
   "outputs": [
    {
     "data": {
      "text/html": [
       "<div>\n",
       "<style scoped>\n",
       "    .dataframe tbody tr th:only-of-type {\n",
       "        vertical-align: middle;\n",
       "    }\n",
       "\n",
       "    .dataframe tbody tr th {\n",
       "        vertical-align: top;\n",
       "    }\n",
       "\n",
       "    .dataframe thead th {\n",
       "        text-align: right;\n",
       "    }\n",
       "</style>\n",
       "<table border=\"1\" class=\"dataframe\">\n",
       "  <thead>\n",
       "    <tr style=\"text-align: right;\">\n",
       "      <th></th>\n",
       "      <th>mean_fit_time</th>\n",
       "      <th>std_fit_time</th>\n",
       "      <th>mean_score_time</th>\n",
       "      <th>std_score_time</th>\n",
       "      <th>param_C</th>\n",
       "      <th>param_gamma</th>\n",
       "      <th>param_kernel</th>\n",
       "      <th>params</th>\n",
       "      <th>split0_test_score</th>\n",
       "      <th>split1_test_score</th>\n",
       "      <th>split2_test_score</th>\n",
       "      <th>split3_test_score</th>\n",
       "      <th>split4_test_score</th>\n",
       "      <th>mean_test_score</th>\n",
       "      <th>std_test_score</th>\n",
       "      <th>rank_test_score</th>\n",
       "    </tr>\n",
       "  </thead>\n",
       "  <tbody>\n",
       "    <tr>\n",
       "      <th>3</th>\n",
       "      <td>40.166445</td>\n",
       "      <td>3.495412</td>\n",
       "      <td>2.360691</td>\n",
       "      <td>0.186092</td>\n",
       "      <td>10</td>\n",
       "      <td>1</td>\n",
       "      <td>linear</td>\n",
       "      <td>{'C': 10, 'gamma': 1, 'kernel': 'linear'}</td>\n",
       "      <td>0.792732</td>\n",
       "      <td>0.790476</td>\n",
       "      <td>0.793933</td>\n",
       "      <td>0.791677</td>\n",
       "      <td>0.783154</td>\n",
       "      <td>0.790394</td>\n",
       "      <td>0.003797</td>\n",
       "      <td>1</td>\n",
       "    </tr>\n",
       "    <tr>\n",
       "      <th>6</th>\n",
       "      <td>9861.943086</td>\n",
       "      <td>519.460964</td>\n",
       "      <td>3.014813</td>\n",
       "      <td>0.710258</td>\n",
       "      <td>1000</td>\n",
       "      <td>1</td>\n",
       "      <td>linear</td>\n",
       "      <td>{'C': 1000, 'gamma': 1, 'kernel': 'linear'}</td>\n",
       "      <td>0.792481</td>\n",
       "      <td>0.790226</td>\n",
       "      <td>0.792931</td>\n",
       "      <td>0.792178</td>\n",
       "      <td>0.783655</td>\n",
       "      <td>0.790294</td>\n",
       "      <td>0.003446</td>\n",
       "      <td>4</td>\n",
       "    </tr>\n",
       "    <tr>\n",
       "      <th>1</th>\n",
       "      <td>24.311880</td>\n",
       "      <td>0.120258</td>\n",
       "      <td>2.252585</td>\n",
       "      <td>0.069656</td>\n",
       "      <td>0.1</td>\n",
       "      <td>0.1</td>\n",
       "      <td>linear</td>\n",
       "      <td>{'C': 0.1, 'gamma': 0.1, 'kernel': 'linear'}</td>\n",
       "      <td>0.793233</td>\n",
       "      <td>0.787719</td>\n",
       "      <td>0.789672</td>\n",
       "      <td>0.788167</td>\n",
       "      <td>0.782652</td>\n",
       "      <td>0.788289</td>\n",
       "      <td>0.003420</td>\n",
       "      <td>7</td>\n",
       "    </tr>\n",
       "    <tr>\n",
       "      <th>5</th>\n",
       "      <td>39.334904</td>\n",
       "      <td>2.778342</td>\n",
       "      <td>2.676170</td>\n",
       "      <td>0.774612</td>\n",
       "      <td>10</td>\n",
       "      <td>0.01</td>\n",
       "      <td>linear</td>\n",
       "      <td>{'C': 10, 'gamma': 0.01, 'kernel': 'linear'}</td>\n",
       "      <td>0.792732</td>\n",
       "      <td>0.790476</td>\n",
       "      <td>0.793933</td>\n",
       "      <td>0.791677</td>\n",
       "      <td>0.783154</td>\n",
       "      <td>0.790394</td>\n",
       "      <td>0.003797</td>\n",
       "      <td>1</td>\n",
       "    </tr>\n",
       "    <tr>\n",
       "      <th>4</th>\n",
       "      <td>37.625608</td>\n",
       "      <td>0.803262</td>\n",
       "      <td>2.325754</td>\n",
       "      <td>0.225669</td>\n",
       "      <td>10</td>\n",
       "      <td>0.1</td>\n",
       "      <td>linear</td>\n",
       "      <td>{'C': 10, 'gamma': 0.1, 'kernel': 'linear'}</td>\n",
       "      <td>0.792732</td>\n",
       "      <td>0.790476</td>\n",
       "      <td>0.793933</td>\n",
       "      <td>0.791677</td>\n",
       "      <td>0.783154</td>\n",
       "      <td>0.790394</td>\n",
       "      <td>0.003797</td>\n",
       "      <td>1</td>\n",
       "    </tr>\n",
       "    <tr>\n",
       "      <th>7</th>\n",
       "      <td>13847.470201</td>\n",
       "      <td>7017.253482</td>\n",
       "      <td>2.822051</td>\n",
       "      <td>0.973781</td>\n",
       "      <td>1000</td>\n",
       "      <td>0.1</td>\n",
       "      <td>linear</td>\n",
       "      <td>{'C': 1000, 'gamma': 0.1, 'kernel': 'linear'}</td>\n",
       "      <td>0.792481</td>\n",
       "      <td>0.790226</td>\n",
       "      <td>0.792931</td>\n",
       "      <td>0.792178</td>\n",
       "      <td>0.783655</td>\n",
       "      <td>0.790294</td>\n",
       "      <td>0.003446</td>\n",
       "      <td>4</td>\n",
       "    </tr>\n",
       "  </tbody>\n",
       "</table>\n",
       "</div>"
      ],
      "text/plain": [
       "   mean_fit_time  std_fit_time  mean_score_time  std_score_time param_C  \\\n",
       "3      40.166445      3.495412         2.360691        0.186092      10   \n",
       "6    9861.943086    519.460964         3.014813        0.710258    1000   \n",
       "1      24.311880      0.120258         2.252585        0.069656     0.1   \n",
       "5      39.334904      2.778342         2.676170        0.774612      10   \n",
       "4      37.625608      0.803262         2.325754        0.225669      10   \n",
       "7   13847.470201   7017.253482         2.822051        0.973781    1000   \n",
       "\n",
       "  param_gamma param_kernel                                         params  \\\n",
       "3           1       linear      {'C': 10, 'gamma': 1, 'kernel': 'linear'}   \n",
       "6           1       linear    {'C': 1000, 'gamma': 1, 'kernel': 'linear'}   \n",
       "1         0.1       linear   {'C': 0.1, 'gamma': 0.1, 'kernel': 'linear'}   \n",
       "5        0.01       linear   {'C': 10, 'gamma': 0.01, 'kernel': 'linear'}   \n",
       "4         0.1       linear    {'C': 10, 'gamma': 0.1, 'kernel': 'linear'}   \n",
       "7         0.1       linear  {'C': 1000, 'gamma': 0.1, 'kernel': 'linear'}   \n",
       "\n",
       "   split0_test_score  split1_test_score  split2_test_score  split3_test_score  \\\n",
       "3           0.792732           0.790476           0.793933           0.791677   \n",
       "6           0.792481           0.790226           0.792931           0.792178   \n",
       "1           0.793233           0.787719           0.789672           0.788167   \n",
       "5           0.792732           0.790476           0.793933           0.791677   \n",
       "4           0.792732           0.790476           0.793933           0.791677   \n",
       "7           0.792481           0.790226           0.792931           0.792178   \n",
       "\n",
       "   split4_test_score  mean_test_score  std_test_score  rank_test_score  \n",
       "3           0.783154         0.790394        0.003797                1  \n",
       "6           0.783655         0.790294        0.003446                4  \n",
       "1           0.782652         0.788289        0.003420                7  \n",
       "5           0.783154         0.790394        0.003797                1  \n",
       "4           0.783154         0.790394        0.003797                1  \n",
       "7           0.783655         0.790294        0.003446                4  "
      ]
     },
     "execution_count": 734,
     "metadata": {},
     "output_type": "execute_result"
    }
   ],
   "source": [
    "# check this data frame\n",
    "grid03_results_df.sample(6)"
   ]
  },
  {
   "cell_type": "code",
   "execution_count": 744,
   "id": "6c1c92e1",
   "metadata": {
    "scrolled": true
   },
   "outputs": [
    {
     "data": {
      "image/png": "[encoded data removed]",
      "text/plain": [
       "<Figure size 432x288 with 1 Axes>"
      ]
     },
     "metadata": {
      "needs_background": "light"
     },
     "output_type": "display_data"
    }
   ],
   "source": [
    "gamma_values = set(grid03_results_df['param_gamma'].unique())\n",
    "plt.figure()\n",
    "for param_gamma in gamma_values:\n",
    "    selected_data = grid03_results_df.loc[grid03_results_df['param_gamma'] == param_gamma]\n",
    "    plt.plot(selected_data['param_C'].unique(), selected_data['mean_test_score'].unique(), label=param_gamma)\n",
    "    \n",
    "plt.legend()\n",
    "plt.show()"
   ]
  },
  {
   "cell_type": "code",
   "execution_count": 748,
   "id": "fc2cef19",
   "metadata": {},
   "outputs": [
    {
     "ename": "NameError",
     "evalue": "name 'cv_results_' is not defined",
     "output_type": "error",
     "traceback": [
      "\u001b[1;31m---------------------------------------------------------------------------\u001b[0m",
      "\u001b[1;31mNameError\u001b[0m                                 Traceback (most recent call last)",
      "\u001b[1;32m~\\AppData\\Local\\Temp/ipykernel_3120/2813459160.py\u001b[0m in \u001b[0;36m<module>\u001b[1;34m\u001b[0m\n\u001b[1;32m----> 1\u001b[1;33m \u001b[0mplt\u001b[0m\u001b[1;33m(\u001b[0m\u001b[0mcv_results_\u001b[0m\u001b[1;33m,\u001b[0m \u001b[0mchange\u001b[0m\u001b[1;33m=\u001b[0m\u001b[1;34m'n_estimators'\u001b[0m\u001b[1;33m,\u001b[0m \u001b[0mkind\u001b[0m\u001b[1;33m=\u001b[0m\u001b[1;34m'bar'\u001b[0m\u001b[1;33m)\u001b[0m\u001b[1;33m\u001b[0m\u001b[1;33m\u001b[0m\u001b[0m\n\u001b[0m",
      "\u001b[1;31mNameError\u001b[0m: name 'cv_results_' is not defined"
     ]
    }
   ],
   "source": [
    "plt(cv_results_, change='n_estimators', kind='bar')"
   ]
  },
  {
   "cell_type": "code",
   "execution_count": 107,
   "id": "f56eb4c7",
   "metadata": {},
   "outputs": [
    {
     "data": {
      "text/plain": [
       "<AxesSubplot:xlabel='param_C', ylabel='mean_test_score'>"
      ]
     },
     "execution_count": 107,
     "metadata": {},
     "output_type": "execute_result"
    },
    {
     "data": {
      "image/png": "[encoded data removed]",
      "text/plain": [
       "<Figure size 432x288 with 1 Axes>"
      ]
     },
     "metadata": {
      "needs_background": "light"
     },
     "output_type": "display_data"
    }
   ],
   "source": [
    "# create a lineplot to visualize some results\n",
    "sns.lineplot(data=grid03_results_df, x=\"param_C\", y=\"mean_test_score\")"
   ]
  },
  {
   "cell_type": "code",
   "execution_count": 108,
   "id": "f27eb8f5",
   "metadata": {},
   "outputs": [
    {
     "data": {
      "text/plain": [
       "<AxesSubplot:xlabel='param_C', ylabel='mean_test_score'>"
      ]
     },
     "execution_count": 108,
     "metadata": {},
     "output_type": "execute_result"
    },
    {
     "data": {
      "image/png": "[encoded data removed]",
      "text/plain": [
       "<Figure size 432x288 with 1 Axes>"
      ]
     },
     "metadata": {
      "needs_background": "light"
     },
     "output_type": "display_data"
    }
   ],
   "source": [
    "sns.lineplot(data=grid03_results_df, x=\"param_C\", y=\"mean_test_score\", hue=\"param_gamma\")"
   ]
  },
  {
   "cell_type": "code",
   "execution_count": 732,
   "id": "c2f1e9f3",
   "metadata": {},
   "outputs": [
    {
     "data": {
      "text/plain": [
       "<AxesSubplot:>"
      ]
     },
     "execution_count": 732,
     "metadata": {},
     "output_type": "execute_result"
    },
    {
     "data": {
      "image/png": "[encoded data removed]",
      "text/plain": [
       "<Figure size 432x288 with 1 Axes>"
      ]
     },
     "metadata": {
      "needs_background": "light"
     },
     "output_type": "display_data"
    }
   ],
   "source": [
    "sns.lineplot(data=grid03_results_df)"
   ]
  },
  {
   "cell_type": "code",
   "execution_count": 110,
   "id": "a37b8669",
   "metadata": {},
   "outputs": [
    {
     "data": {
      "image/png": "[encoded data removed]",
      "text/plain": [
       "<Figure size 720x432 with 1 Axes>"
      ]
     },
     "metadata": {
      "needs_background": "light"
     },
     "output_type": "display_data"
    }
   ],
   "source": [
    "# Plot Scores\n",
    "plt.figure(figsize=(10, 6), tight_layout=True)\n",
    "\n",
    "ax = sns.scatterplot(data = grid03_results_df, x='mean_fit_time', y='mean_test_score',\n",
    "                    hue='param_C', palette='Set2', s=60)\n",
    "\n",
    "ax.set(xlabel='total time (in seconds)', ylabel='mean test score')\n",
    "ax.legend(title='C Value', title_fontsize = 12)\n",
    "\n",
    "plt.show()"
   ]
  },
  {
   "cell_type": "code",
   "execution_count": 111,
   "id": "8972ab01",
   "metadata": {},
   "outputs": [
    {
     "data": {
      "image/png": "[encoded data removed]",
      "text/plain": [
       "<Figure size 720x432 with 1 Axes>"
      ]
     },
     "metadata": {
      "needs_background": "light"
     },
     "output_type": "display_data"
    }
   ],
   "source": [
    "# Plot Scores\n",
    "plt.figure(figsize=(10, 6), tight_layout=True)\n",
    "\n",
    "ax = sns.scatterplot(data = grid03_results_df, x='mean_fit_time', y='mean_test_score',\n",
    "                    hue='param_gamma', palette='Set2', s=60)\n",
    "\n",
    "ax.set(xlabel='total time (in seconds)', ylabel='mean test score')\n",
    "ax.legend(title='gamma Value', title_fontsize = 12)\n",
    "\n",
    "plt.show()"
   ]
  },
  {
   "cell_type": "markdown",
   "id": "631014da",
   "metadata": {},
   "source": [
    "## Cross Validating Best Parameters\n",
    "### Cross validating using best parameters from both models (target = 1-10 & target = 1,2,3).\n",
    "#### The best hyperparameters identified in the prediction between values of 1-10 were [C = 1 ; gamma = 0.0001]\n",
    "#### The best hyperparameters identified in the prediction between values of 1, 2 & 3 ; excluding* the above parameters were [C = 10, gamme = 0.01]"
   ]
  },
  {
   "cell_type": "code",
   "execution_count": 112,
   "id": "8eb7dc48",
   "metadata": {},
   "outputs": [
    {
     "name": "stdout",
     "output_type": "stream",
     "text": [
      "Fitting 5 folds for each of 8 candidates, totalling 40 fits\n",
      "[CV 1/5] END ..C=1.0, gamma=0.01, kernel=linear;, score=0.795 total time=  30.3s\n",
      "[CV 2/5] END ..C=1.0, gamma=0.01, kernel=linear;, score=0.789 total time=  26.4s\n",
      "[CV 3/5] END ..C=1.0, gamma=0.01, kernel=linear;, score=0.795 total time=  28.2s\n",
      "[CV 4/5] END ..C=1.0, gamma=0.01, kernel=linear;, score=0.789 total time=  26.9s\n",
      "[CV 5/5] END ..C=1.0, gamma=0.01, kernel=linear;, score=0.783 total time=  26.4s\n",
      "[CV 1/5] END .....C=1.0, gamma=0.01, kernel=rbf;, score=0.780 total time=  47.3s\n",
      "[CV 2/5] END .....C=1.0, gamma=0.01, kernel=rbf;, score=0.779 total time=  45.6s\n",
      "[CV 3/5] END .....C=1.0, gamma=0.01, kernel=rbf;, score=0.784 total time=  47.0s\n",
      "[CV 4/5] END .....C=1.0, gamma=0.01, kernel=rbf;, score=0.781 total time=  45.9s\n",
      "[CV 5/5] END .....C=1.0, gamma=0.01, kernel=rbf;, score=0.776 total time=  45.1s\n",
      "[CV 1/5] END C=1.0, gamma=0.0001, kernel=linear;, score=0.795 total time=  25.4s\n",
      "[CV 2/5] END C=1.0, gamma=0.0001, kernel=linear;, score=0.789 total time=  25.0s\n",
      "[CV 3/5] END C=1.0, gamma=0.0001, kernel=linear;, score=0.795 total time=  25.1s\n",
      "[CV 4/5] END C=1.0, gamma=0.0001, kernel=linear;, score=0.789 total time=  24.8s\n",
      "[CV 5/5] END C=1.0, gamma=0.0001, kernel=linear;, score=0.783 total time=  24.6s\n",
      "[CV 1/5] END ...C=1.0, gamma=0.0001, kernel=rbf;, score=0.457 total time= 1.2min\n",
      "[CV 2/5] END ...C=1.0, gamma=0.0001, kernel=rbf;, score=0.458 total time= 1.2min\n",
      "[CV 3/5] END ...C=1.0, gamma=0.0001, kernel=rbf;, score=0.458 total time= 1.2min\n",
      "[CV 4/5] END ...C=1.0, gamma=0.0001, kernel=rbf;, score=0.458 total time= 1.2min\n",
      "[CV 5/5] END ...C=1.0, gamma=0.0001, kernel=rbf;, score=0.458 total time= 1.2min\n",
      "[CV 1/5] END ...C=10, gamma=0.01, kernel=linear;, score=0.793 total time=  38.8s\n",
      "[CV 2/5] END ...C=10, gamma=0.01, kernel=linear;, score=0.790 total time=  37.6s\n",
      "[CV 3/5] END ...C=10, gamma=0.01, kernel=linear;, score=0.794 total time=  38.7s\n",
      "[CV 4/5] END ...C=10, gamma=0.01, kernel=linear;, score=0.792 total time=  37.6s\n",
      "[CV 5/5] END ...C=10, gamma=0.01, kernel=linear;, score=0.783 total time=  36.7s\n",
      "[CV 1/5] END ......C=10, gamma=0.01, kernel=rbf;, score=0.794 total time=  39.9s\n",
      "[CV 2/5] END ......C=10, gamma=0.01, kernel=rbf;, score=0.788 total time=  40.1s\n",
      "[CV 3/5] END ......C=10, gamma=0.01, kernel=rbf;, score=0.792 total time=  38.9s\n",
      "[CV 4/5] END ......C=10, gamma=0.01, kernel=rbf;, score=0.788 total time=  39.6s\n",
      "[CV 5/5] END ......C=10, gamma=0.01, kernel=rbf;, score=0.784 total time=  40.6s\n",
      "[CV 1/5] END .C=10, gamma=0.0001, kernel=linear;, score=0.793 total time=  38.5s\n",
      "[CV 2/5] END .C=10, gamma=0.0001, kernel=linear;, score=0.790 total time=  37.6s\n",
      "[CV 3/5] END .C=10, gamma=0.0001, kernel=linear;, score=0.794 total time=  39.7s\n",
      "[CV 4/5] END .C=10, gamma=0.0001, kernel=linear;, score=0.792 total time=  37.0s\n",
      "[CV 5/5] END .C=10, gamma=0.0001, kernel=linear;, score=0.783 total time=  36.9s\n",
      "[CV 1/5] END ....C=10, gamma=0.0001, kernel=rbf;, score=0.755 total time= 1.2min\n",
      "[CV 2/5] END ....C=10, gamma=0.0001, kernel=rbf;, score=0.753 total time= 1.2min\n",
      "[CV 3/5] END ....C=10, gamma=0.0001, kernel=rbf;, score=0.759 total time= 1.3min\n",
      "[CV 4/5] END ....C=10, gamma=0.0001, kernel=rbf;, score=0.758 total time= 1.1min\n",
      "[CV 5/5] END ....C=10, gamma=0.0001, kernel=rbf;, score=0.750 total time= 1.1min\n"
     ]
    },
    {
     "data": {
      "text/plain": [
       "GridSearchCV(estimator=SVC(),\n",
       "             param_grid={'C': [1.0, 10], 'gamma': [0.01, 0.0001],\n",
       "                         'kernel': ['linear', 'rbf']},\n",
       "             verbose=3)"
      ]
     },
     "execution_count": 112,
     "metadata": {},
     "output_type": "execute_result"
    }
   ],
   "source": [
    "# define a parameter range\n",
    "param_grid = {'C': [1.0, 10],\n",
    "             'gamma': [0.01, 0.0001],\n",
    "             'kernel': ['linear', 'rbf']}\n",
    "\n",
    "grid04 = GridSearchCV(svm.SVC(), param_grid, refit = True, verbose = 3)\n",
    "\n",
    "grid04.fit(x_train, y_train)"
   ]
  },
  {
   "cell_type": "markdown",
   "id": "d7ff68d9",
   "metadata": {},
   "source": [
    "### Results"
   ]
  },
  {
   "cell_type": "code",
   "execution_count": 113,
   "id": "d37a8a96",
   "metadata": {},
   "outputs": [
    {
     "name": "stdout",
     "output_type": "stream",
     "text": [
      "{'C': 10, 'gamma': 0.01, 'kernel': 'linear'}\n"
     ]
    }
   ],
   "source": [
    "print(grid04.best_params_)"
   ]
  },
  {
   "cell_type": "code",
   "execution_count": 114,
   "id": "cd12fa04",
   "metadata": {},
   "outputs": [
    {
     "name": "stdout",
     "output_type": "stream",
     "text": [
      "0.7903944242657284\n"
     ]
    }
   ],
   "source": [
    "print(grid04.best_score_)"
   ]
  },
  {
   "cell_type": "code",
   "execution_count": 850,
   "id": "b2d6d493",
   "metadata": {},
   "outputs": [],
   "source": [
    "grid_predictions = grid04.predict(x_test)\n",
    "\n",
    "# print classification report\n",
    "print(classification_report(y_test, grid_predictions))"
   ]
  },
  {
   "cell_type": "code",
   "execution_count": 116,
   "id": "6c8beb63",
   "metadata": {},
   "outputs": [],
   "source": [
    "# put the results in a data frame\n",
    "grid04_results_df = pd.DataFrame(grid04.cv_results_)"
   ]
  },
  {
   "cell_type": "code",
   "execution_count": 117,
   "id": "254099e2",
   "metadata": {
    "scrolled": true
   },
   "outputs": [
    {
     "data": {
      "text/plain": [
       "<bound method NDFrame.sample of    mean_fit_time  std_fit_time  mean_score_time  std_score_time param_C  \\\n",
       "0      25.607406      1.418171         2.139657        0.159404     1.0   \n",
       "1      37.675134      0.650327         8.600822        0.242587     1.0   \n",
       "2      23.179083      0.336621         1.891379        0.115013     1.0   \n",
       "3      58.932669      1.027549        14.258321        0.482913     1.0   \n",
       "4      35.891327      0.790639         2.078629        0.166251      10   \n",
       "5      33.114110      0.581423         6.788511        0.121659      10   \n",
       "6      35.974684      0.959862         2.064058        0.116108      10   \n",
       "7      56.217119      3.548794        13.789372        0.541200      10   \n",
       "\n",
       "  param_gamma param_kernel                                           params  \\\n",
       "0        0.01       linear    {'C': 1.0, 'gamma': 0.01, 'kernel': 'linear'}   \n",
       "1        0.01          rbf       {'C': 1.0, 'gamma': 0.01, 'kernel': 'rbf'}   \n",
       "2      0.0001       linear  {'C': 1.0, 'gamma': 0.0001, 'kernel': 'linear'}   \n",
       "3      0.0001          rbf     {'C': 1.0, 'gamma': 0.0001, 'kernel': 'rbf'}   \n",
       "4        0.01       linear     {'C': 10, 'gamma': 0.01, 'kernel': 'linear'}   \n",
       "5        0.01          rbf        {'C': 10, 'gamma': 0.01, 'kernel': 'rbf'}   \n",
       "6      0.0001       linear   {'C': 10, 'gamma': 0.0001, 'kernel': 'linear'}   \n",
       "7      0.0001          rbf      {'C': 10, 'gamma': 0.0001, 'kernel': 'rbf'}   \n",
       "\n",
       "   split0_test_score  split1_test_score  split2_test_score  split3_test_score  \\\n",
       "0           0.794987           0.788722           0.794936           0.789421   \n",
       "1           0.780201           0.778947           0.783906           0.781148   \n",
       "2           0.794987           0.788722           0.794936           0.789421   \n",
       "3           0.457393           0.457644           0.457759           0.457759   \n",
       "4           0.792732           0.790476           0.793933           0.791677   \n",
       "5           0.794486           0.787719           0.791928           0.787917   \n",
       "6           0.792732           0.790476           0.793933           0.791677   \n",
       "7           0.754887           0.752632           0.759087           0.758085   \n",
       "\n",
       "   split4_test_score  mean_test_score  std_test_score  rank_test_score  \n",
       "0           0.783404         0.790294        0.004342                3  \n",
       "1           0.775633         0.779967        0.002712                6  \n",
       "2           0.783404         0.790294        0.004342                3  \n",
       "3           0.457759         0.457663        0.000142                8  \n",
       "4           0.783154         0.790394        0.003797                1  \n",
       "5           0.783906         0.789191        0.003668                5  \n",
       "6           0.783154         0.790394        0.003797                1  \n",
       "7           0.750063         0.754951        0.003353                7  >"
      ]
     },
     "execution_count": 117,
     "metadata": {},
     "output_type": "execute_result"
    }
   ],
   "source": [
    "grid04_results_df.sample"
   ]
  }
 ],
 "metadata": {
  "kernelspec": {
   "display_name": "Python 3 (ipykernel)",
   "language": "python",
   "name": "python3"
  },
  "language_info": {
   "codemirror_mode": {
    "name": "ipython",
    "version": 3
   },
   "file_extension": ".py",
   "mimetype": "text/x-python",
   "name": "python",
   "nbconvert_exporter": "python",
   "pygments_lexer": "ipython3",
   "version": "3.9.7"
  }
 },
 "nbformat": 4,
 "nbformat_minor": 5
}
